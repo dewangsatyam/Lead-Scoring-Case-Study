{
  "nbformat": 4,
  "nbformat_minor": 0,
  "metadata": {
    "colab": {
      "provenance": [],
      "collapsed_sections": []
    },
    "kernelspec": {
      "name": "python3",
      "display_name": "Python 3"
    },
    "language_info": {
      "name": "python"
    }
  },
  "cells": [
    {
      "cell_type": "code",
      "source": [
        "!unzip /content/Lead+Scoring+Case+Study.zip"
      ],
      "metadata": {
        "colab": {
          "base_uri": "https://localhost:8080/"
        },
        "id": "HGQ68FSJAMKR",
        "outputId": "49aa5d55-4bde-4634-f239-b9cd195c78ec"
      },
      "execution_count": 1,
      "outputs": [
        {
          "output_type": "stream",
          "name": "stdout",
          "text": [
            "Archive:  /content/Lead+Scoring+Case+Study.zip\n",
            "  inflating: Lead Scoring Assignment/Assignment Subjective Questions.docx  \n",
            "  inflating: Lead Scoring Assignment/Leads Data Dictionary.xlsx  \n",
            "  inflating: Lead Scoring Assignment/Leads.csv  \n"
          ]
        }
      ]
    },
    {
      "cell_type": "code",
      "execution_count": 2,
      "metadata": {
        "id": "z0xz9Dklh6hJ"
      },
      "outputs": [],
      "source": [
        "import warnings\n",
        "warnings.filterwarnings('ignore')\n",
        "\n",
        "import numpy as np\n",
        "import pandas as pd\n",
        "import matplotlib.pyplot as plt\n",
        "import seaborn as sns\n",
        "from sklearn import metrics\n",
        "from sklearn.model_selection import train_test_split\n",
        "from sklearn.preprocessing import MinMaxScaler\n",
        "\n",
        "import statsmodels.api as sm\n",
        "from sklearn.linear_model import LogisticRegression\n",
        "from sklearn.feature_selection import RFE\n",
        "from sklearn.linear_model import LinearRegression\n",
        "from statsmodels.stats.outliers_influence import variance_inflation_factor\n",
        "\n",
        "import matplotlib.pyplot as plt\n",
        "import seaborn as sns\n",
        "%matplotlib inline"
      ]
    },
    {
      "cell_type": "markdown",
      "source": [
        "# Reading the Data"
      ],
      "metadata": {
        "id": "vgcl5fTuac3T"
      }
    },
    {
      "cell_type": "code",
      "source": [
        "df = pd.read_csv(\"/content/Lead Scoring Assignment/Leads.csv\")\n",
        "print(df.shape)\n",
        "df.head(2)"
      ],
      "metadata": {
        "colab": {
          "base_uri": "https://localhost:8080/",
          "height": 414
        },
        "id": "RYYYYmmVABL1",
        "outputId": "3aba239e-3309-4285-8f26-2c6ba929eab8"
      },
      "execution_count": 3,
      "outputs": [
        {
          "output_type": "stream",
          "name": "stdout",
          "text": [
            "(9240, 37)\n"
          ]
        },
        {
          "output_type": "execute_result",
          "data": {
            "text/plain": [
              "                            Prospect ID  Lead Number Lead Origin  \\\n",
              "0  7927b2df-8bba-4d29-b9a2-b6e0beafe620       660737         API   \n",
              "1  2a272436-5132-4136-86fa-dcc88c88f482       660728         API   \n",
              "\n",
              "      Lead Source Do Not Email Do Not Call  Converted  TotalVisits  \\\n",
              "0      Olark Chat           No          No          0          0.0   \n",
              "1  Organic Search           No          No          0          5.0   \n",
              "\n",
              "   Total Time Spent on Website  Page Views Per Visit  ...  \\\n",
              "0                            0                   0.0  ...   \n",
              "1                          674                   2.5  ...   \n",
              "\n",
              "  Get updates on DM Content Lead Profile    City Asymmetrique Activity Index  \\\n",
              "0                        No       Select  Select                   02.Medium   \n",
              "1                        No       Select  Select                   02.Medium   \n",
              "\n",
              "  Asymmetrique Profile Index Asymmetrique Activity Score  \\\n",
              "0                  02.Medium                        15.0   \n",
              "1                  02.Medium                        15.0   \n",
              "\n",
              "  Asymmetrique Profile Score I agree to pay the amount through cheque  \\\n",
              "0                       15.0                                       No   \n",
              "1                       15.0                                       No   \n",
              "\n",
              "  A free copy of Mastering The Interview Last Notable Activity  \n",
              "0                                     No              Modified  \n",
              "1                                     No          Email Opened  \n",
              "\n",
              "[2 rows x 37 columns]"
            ],
            "text/html": [
              "\n",
              "  <div id=\"df-f183c16b-7e8c-4542-b18f-e8ecdb64504e\">\n",
              "    <div class=\"colab-df-container\">\n",
              "      <div>\n",
              "<style scoped>\n",
              "    .dataframe tbody tr th:only-of-type {\n",
              "        vertical-align: middle;\n",
              "    }\n",
              "\n",
              "    .dataframe tbody tr th {\n",
              "        vertical-align: top;\n",
              "    }\n",
              "\n",
              "    .dataframe thead th {\n",
              "        text-align: right;\n",
              "    }\n",
              "</style>\n",
              "<table border=\"1\" class=\"dataframe\">\n",
              "  <thead>\n",
              "    <tr style=\"text-align: right;\">\n",
              "      <th></th>\n",
              "      <th>Prospect ID</th>\n",
              "      <th>Lead Number</th>\n",
              "      <th>Lead Origin</th>\n",
              "      <th>Lead Source</th>\n",
              "      <th>Do Not Email</th>\n",
              "      <th>Do Not Call</th>\n",
              "      <th>Converted</th>\n",
              "      <th>TotalVisits</th>\n",
              "      <th>Total Time Spent on Website</th>\n",
              "      <th>Page Views Per Visit</th>\n",
              "      <th>...</th>\n",
              "      <th>Get updates on DM Content</th>\n",
              "      <th>Lead Profile</th>\n",
              "      <th>City</th>\n",
              "      <th>Asymmetrique Activity Index</th>\n",
              "      <th>Asymmetrique Profile Index</th>\n",
              "      <th>Asymmetrique Activity Score</th>\n",
              "      <th>Asymmetrique Profile Score</th>\n",
              "      <th>I agree to pay the amount through cheque</th>\n",
              "      <th>A free copy of Mastering The Interview</th>\n",
              "      <th>Last Notable Activity</th>\n",
              "    </tr>\n",
              "  </thead>\n",
              "  <tbody>\n",
              "    <tr>\n",
              "      <th>0</th>\n",
              "      <td>7927b2df-8bba-4d29-b9a2-b6e0beafe620</td>\n",
              "      <td>660737</td>\n",
              "      <td>API</td>\n",
              "      <td>Olark Chat</td>\n",
              "      <td>No</td>\n",
              "      <td>No</td>\n",
              "      <td>0</td>\n",
              "      <td>0.0</td>\n",
              "      <td>0</td>\n",
              "      <td>0.0</td>\n",
              "      <td>...</td>\n",
              "      <td>No</td>\n",
              "      <td>Select</td>\n",
              "      <td>Select</td>\n",
              "      <td>02.Medium</td>\n",
              "      <td>02.Medium</td>\n",
              "      <td>15.0</td>\n",
              "      <td>15.0</td>\n",
              "      <td>No</td>\n",
              "      <td>No</td>\n",
              "      <td>Modified</td>\n",
              "    </tr>\n",
              "    <tr>\n",
              "      <th>1</th>\n",
              "      <td>2a272436-5132-4136-86fa-dcc88c88f482</td>\n",
              "      <td>660728</td>\n",
              "      <td>API</td>\n",
              "      <td>Organic Search</td>\n",
              "      <td>No</td>\n",
              "      <td>No</td>\n",
              "      <td>0</td>\n",
              "      <td>5.0</td>\n",
              "      <td>674</td>\n",
              "      <td>2.5</td>\n",
              "      <td>...</td>\n",
              "      <td>No</td>\n",
              "      <td>Select</td>\n",
              "      <td>Select</td>\n",
              "      <td>02.Medium</td>\n",
              "      <td>02.Medium</td>\n",
              "      <td>15.0</td>\n",
              "      <td>15.0</td>\n",
              "      <td>No</td>\n",
              "      <td>No</td>\n",
              "      <td>Email Opened</td>\n",
              "    </tr>\n",
              "  </tbody>\n",
              "</table>\n",
              "<p>2 rows × 37 columns</p>\n",
              "</div>\n",
              "      <button class=\"colab-df-convert\" onclick=\"convertToInteractive('df-f183c16b-7e8c-4542-b18f-e8ecdb64504e')\"\n",
              "              title=\"Convert this dataframe to an interactive table.\"\n",
              "              style=\"display:none;\">\n",
              "        \n",
              "  <svg xmlns=\"http://www.w3.org/2000/svg\" height=\"24px\"viewBox=\"0 0 24 24\"\n",
              "       width=\"24px\">\n",
              "    <path d=\"M0 0h24v24H0V0z\" fill=\"none\"/>\n",
              "    <path d=\"M18.56 5.44l.94 2.06.94-2.06 2.06-.94-2.06-.94-.94-2.06-.94 2.06-2.06.94zm-11 1L8.5 8.5l.94-2.06 2.06-.94-2.06-.94L8.5 2.5l-.94 2.06-2.06.94zm10 10l.94 2.06.94-2.06 2.06-.94-2.06-.94-.94-2.06-.94 2.06-2.06.94z\"/><path d=\"M17.41 7.96l-1.37-1.37c-.4-.4-.92-.59-1.43-.59-.52 0-1.04.2-1.43.59L10.3 9.45l-7.72 7.72c-.78.78-.78 2.05 0 2.83L4 21.41c.39.39.9.59 1.41.59.51 0 1.02-.2 1.41-.59l7.78-7.78 2.81-2.81c.8-.78.8-2.07 0-2.86zM5.41 20L4 18.59l7.72-7.72 1.47 1.35L5.41 20z\"/>\n",
              "  </svg>\n",
              "      </button>\n",
              "      \n",
              "  <style>\n",
              "    .colab-df-container {\n",
              "      display:flex;\n",
              "      flex-wrap:wrap;\n",
              "      gap: 12px;\n",
              "    }\n",
              "\n",
              "    .colab-df-convert {\n",
              "      background-color: #E8F0FE;\n",
              "      border: none;\n",
              "      border-radius: 50%;\n",
              "      cursor: pointer;\n",
              "      display: none;\n",
              "      fill: #1967D2;\n",
              "      height: 32px;\n",
              "      padding: 0 0 0 0;\n",
              "      width: 32px;\n",
              "    }\n",
              "\n",
              "    .colab-df-convert:hover {\n",
              "      background-color: #E2EBFA;\n",
              "      box-shadow: 0px 1px 2px rgba(60, 64, 67, 0.3), 0px 1px 3px 1px rgba(60, 64, 67, 0.15);\n",
              "      fill: #174EA6;\n",
              "    }\n",
              "\n",
              "    [theme=dark] .colab-df-convert {\n",
              "      background-color: #3B4455;\n",
              "      fill: #D2E3FC;\n",
              "    }\n",
              "\n",
              "    [theme=dark] .colab-df-convert:hover {\n",
              "      background-color: #434B5C;\n",
              "      box-shadow: 0px 1px 3px 1px rgba(0, 0, 0, 0.15);\n",
              "      filter: drop-shadow(0px 1px 2px rgba(0, 0, 0, 0.3));\n",
              "      fill: #FFFFFF;\n",
              "    }\n",
              "  </style>\n",
              "\n",
              "      <script>\n",
              "        const buttonEl =\n",
              "          document.querySelector('#df-f183c16b-7e8c-4542-b18f-e8ecdb64504e button.colab-df-convert');\n",
              "        buttonEl.style.display =\n",
              "          google.colab.kernel.accessAllowed ? 'block' : 'none';\n",
              "\n",
              "        async function convertToInteractive(key) {\n",
              "          const element = document.querySelector('#df-f183c16b-7e8c-4542-b18f-e8ecdb64504e');\n",
              "          const dataTable =\n",
              "            await google.colab.kernel.invokeFunction('convertToInteractive',\n",
              "                                                     [key], {});\n",
              "          if (!dataTable) return;\n",
              "\n",
              "          const docLinkHtml = 'Like what you see? Visit the ' +\n",
              "            '<a target=\"_blank\" href=https://colab.research.google.com/notebooks/data_table.ipynb>data table notebook</a>'\n",
              "            + ' to learn more about interactive tables.';\n",
              "          element.innerHTML = '';\n",
              "          dataTable['output_type'] = 'display_data';\n",
              "          await google.colab.output.renderOutput(dataTable, element);\n",
              "          const docLink = document.createElement('div');\n",
              "          docLink.innerHTML = docLinkHtml;\n",
              "          element.appendChild(docLink);\n",
              "        }\n",
              "      </script>\n",
              "    </div>\n",
              "  </div>\n",
              "  "
            ]
          },
          "metadata": {},
          "execution_count": 3
        }
      ]
    },
    {
      "cell_type": "markdown",
      "source": [
        "## Replacing Select with Nan"
      ],
      "metadata": {
        "id": "i-H9ej1Wmsq3"
      }
    },
    {
      "cell_type": "code",
      "source": [
        "df = df.replace(\"Select\",np.nan)\n",
        "df.head(2)"
      ],
      "metadata": {
        "colab": {
          "base_uri": "https://localhost:8080/",
          "height": 396
        },
        "id": "2wmTo0xga1sA",
        "outputId": "6b6ebb1c-afc4-4187-95e4-bd3ffa8198b3"
      },
      "execution_count": 4,
      "outputs": [
        {
          "output_type": "execute_result",
          "data": {
            "text/plain": [
              "                            Prospect ID  Lead Number Lead Origin  \\\n",
              "0  7927b2df-8bba-4d29-b9a2-b6e0beafe620       660737         API   \n",
              "1  2a272436-5132-4136-86fa-dcc88c88f482       660728         API   \n",
              "\n",
              "      Lead Source Do Not Email Do Not Call  Converted  TotalVisits  \\\n",
              "0      Olark Chat           No          No          0          0.0   \n",
              "1  Organic Search           No          No          0          5.0   \n",
              "\n",
              "   Total Time Spent on Website  Page Views Per Visit  ...  \\\n",
              "0                            0                   0.0  ...   \n",
              "1                          674                   2.5  ...   \n",
              "\n",
              "  Get updates on DM Content Lead Profile City Asymmetrique Activity Index  \\\n",
              "0                        No          NaN  NaN                   02.Medium   \n",
              "1                        No          NaN  NaN                   02.Medium   \n",
              "\n",
              "  Asymmetrique Profile Index Asymmetrique Activity Score  \\\n",
              "0                  02.Medium                        15.0   \n",
              "1                  02.Medium                        15.0   \n",
              "\n",
              "  Asymmetrique Profile Score I agree to pay the amount through cheque  \\\n",
              "0                       15.0                                       No   \n",
              "1                       15.0                                       No   \n",
              "\n",
              "  A free copy of Mastering The Interview Last Notable Activity  \n",
              "0                                     No              Modified  \n",
              "1                                     No          Email Opened  \n",
              "\n",
              "[2 rows x 37 columns]"
            ],
            "text/html": [
              "\n",
              "  <div id=\"df-f94262fd-fd07-4b46-a64e-e68b1dafdab3\">\n",
              "    <div class=\"colab-df-container\">\n",
              "      <div>\n",
              "<style scoped>\n",
              "    .dataframe tbody tr th:only-of-type {\n",
              "        vertical-align: middle;\n",
              "    }\n",
              "\n",
              "    .dataframe tbody tr th {\n",
              "        vertical-align: top;\n",
              "    }\n",
              "\n",
              "    .dataframe thead th {\n",
              "        text-align: right;\n",
              "    }\n",
              "</style>\n",
              "<table border=\"1\" class=\"dataframe\">\n",
              "  <thead>\n",
              "    <tr style=\"text-align: right;\">\n",
              "      <th></th>\n",
              "      <th>Prospect ID</th>\n",
              "      <th>Lead Number</th>\n",
              "      <th>Lead Origin</th>\n",
              "      <th>Lead Source</th>\n",
              "      <th>Do Not Email</th>\n",
              "      <th>Do Not Call</th>\n",
              "      <th>Converted</th>\n",
              "      <th>TotalVisits</th>\n",
              "      <th>Total Time Spent on Website</th>\n",
              "      <th>Page Views Per Visit</th>\n",
              "      <th>...</th>\n",
              "      <th>Get updates on DM Content</th>\n",
              "      <th>Lead Profile</th>\n",
              "      <th>City</th>\n",
              "      <th>Asymmetrique Activity Index</th>\n",
              "      <th>Asymmetrique Profile Index</th>\n",
              "      <th>Asymmetrique Activity Score</th>\n",
              "      <th>Asymmetrique Profile Score</th>\n",
              "      <th>I agree to pay the amount through cheque</th>\n",
              "      <th>A free copy of Mastering The Interview</th>\n",
              "      <th>Last Notable Activity</th>\n",
              "    </tr>\n",
              "  </thead>\n",
              "  <tbody>\n",
              "    <tr>\n",
              "      <th>0</th>\n",
              "      <td>7927b2df-8bba-4d29-b9a2-b6e0beafe620</td>\n",
              "      <td>660737</td>\n",
              "      <td>API</td>\n",
              "      <td>Olark Chat</td>\n",
              "      <td>No</td>\n",
              "      <td>No</td>\n",
              "      <td>0</td>\n",
              "      <td>0.0</td>\n",
              "      <td>0</td>\n",
              "      <td>0.0</td>\n",
              "      <td>...</td>\n",
              "      <td>No</td>\n",
              "      <td>NaN</td>\n",
              "      <td>NaN</td>\n",
              "      <td>02.Medium</td>\n",
              "      <td>02.Medium</td>\n",
              "      <td>15.0</td>\n",
              "      <td>15.0</td>\n",
              "      <td>No</td>\n",
              "      <td>No</td>\n",
              "      <td>Modified</td>\n",
              "    </tr>\n",
              "    <tr>\n",
              "      <th>1</th>\n",
              "      <td>2a272436-5132-4136-86fa-dcc88c88f482</td>\n",
              "      <td>660728</td>\n",
              "      <td>API</td>\n",
              "      <td>Organic Search</td>\n",
              "      <td>No</td>\n",
              "      <td>No</td>\n",
              "      <td>0</td>\n",
              "      <td>5.0</td>\n",
              "      <td>674</td>\n",
              "      <td>2.5</td>\n",
              "      <td>...</td>\n",
              "      <td>No</td>\n",
              "      <td>NaN</td>\n",
              "      <td>NaN</td>\n",
              "      <td>02.Medium</td>\n",
              "      <td>02.Medium</td>\n",
              "      <td>15.0</td>\n",
              "      <td>15.0</td>\n",
              "      <td>No</td>\n",
              "      <td>No</td>\n",
              "      <td>Email Opened</td>\n",
              "    </tr>\n",
              "  </tbody>\n",
              "</table>\n",
              "<p>2 rows × 37 columns</p>\n",
              "</div>\n",
              "      <button class=\"colab-df-convert\" onclick=\"convertToInteractive('df-f94262fd-fd07-4b46-a64e-e68b1dafdab3')\"\n",
              "              title=\"Convert this dataframe to an interactive table.\"\n",
              "              style=\"display:none;\">\n",
              "        \n",
              "  <svg xmlns=\"http://www.w3.org/2000/svg\" height=\"24px\"viewBox=\"0 0 24 24\"\n",
              "       width=\"24px\">\n",
              "    <path d=\"M0 0h24v24H0V0z\" fill=\"none\"/>\n",
              "    <path d=\"M18.56 5.44l.94 2.06.94-2.06 2.06-.94-2.06-.94-.94-2.06-.94 2.06-2.06.94zm-11 1L8.5 8.5l.94-2.06 2.06-.94-2.06-.94L8.5 2.5l-.94 2.06-2.06.94zm10 10l.94 2.06.94-2.06 2.06-.94-2.06-.94-.94-2.06-.94 2.06-2.06.94z\"/><path d=\"M17.41 7.96l-1.37-1.37c-.4-.4-.92-.59-1.43-.59-.52 0-1.04.2-1.43.59L10.3 9.45l-7.72 7.72c-.78.78-.78 2.05 0 2.83L4 21.41c.39.39.9.59 1.41.59.51 0 1.02-.2 1.41-.59l7.78-7.78 2.81-2.81c.8-.78.8-2.07 0-2.86zM5.41 20L4 18.59l7.72-7.72 1.47 1.35L5.41 20z\"/>\n",
              "  </svg>\n",
              "      </button>\n",
              "      \n",
              "  <style>\n",
              "    .colab-df-container {\n",
              "      display:flex;\n",
              "      flex-wrap:wrap;\n",
              "      gap: 12px;\n",
              "    }\n",
              "\n",
              "    .colab-df-convert {\n",
              "      background-color: #E8F0FE;\n",
              "      border: none;\n",
              "      border-radius: 50%;\n",
              "      cursor: pointer;\n",
              "      display: none;\n",
              "      fill: #1967D2;\n",
              "      height: 32px;\n",
              "      padding: 0 0 0 0;\n",
              "      width: 32px;\n",
              "    }\n",
              "\n",
              "    .colab-df-convert:hover {\n",
              "      background-color: #E2EBFA;\n",
              "      box-shadow: 0px 1px 2px rgba(60, 64, 67, 0.3), 0px 1px 3px 1px rgba(60, 64, 67, 0.15);\n",
              "      fill: #174EA6;\n",
              "    }\n",
              "\n",
              "    [theme=dark] .colab-df-convert {\n",
              "      background-color: #3B4455;\n",
              "      fill: #D2E3FC;\n",
              "    }\n",
              "\n",
              "    [theme=dark] .colab-df-convert:hover {\n",
              "      background-color: #434B5C;\n",
              "      box-shadow: 0px 1px 3px 1px rgba(0, 0, 0, 0.15);\n",
              "      filter: drop-shadow(0px 1px 2px rgba(0, 0, 0, 0.3));\n",
              "      fill: #FFFFFF;\n",
              "    }\n",
              "  </style>\n",
              "\n",
              "      <script>\n",
              "        const buttonEl =\n",
              "          document.querySelector('#df-f94262fd-fd07-4b46-a64e-e68b1dafdab3 button.colab-df-convert');\n",
              "        buttonEl.style.display =\n",
              "          google.colab.kernel.accessAllowed ? 'block' : 'none';\n",
              "\n",
              "        async function convertToInteractive(key) {\n",
              "          const element = document.querySelector('#df-f94262fd-fd07-4b46-a64e-e68b1dafdab3');\n",
              "          const dataTable =\n",
              "            await google.colab.kernel.invokeFunction('convertToInteractive',\n",
              "                                                     [key], {});\n",
              "          if (!dataTable) return;\n",
              "\n",
              "          const docLinkHtml = 'Like what you see? Visit the ' +\n",
              "            '<a target=\"_blank\" href=https://colab.research.google.com/notebooks/data_table.ipynb>data table notebook</a>'\n",
              "            + ' to learn more about interactive tables.';\n",
              "          element.innerHTML = '';\n",
              "          dataTable['output_type'] = 'display_data';\n",
              "          await google.colab.output.renderOutput(dataTable, element);\n",
              "          const docLink = document.createElement('div');\n",
              "          docLink.innerHTML = docLinkHtml;\n",
              "          element.appendChild(docLink);\n",
              "        }\n",
              "      </script>\n",
              "    </div>\n",
              "  </div>\n",
              "  "
            ]
          },
          "metadata": {},
          "execution_count": 4
        }
      ]
    },
    {
      "cell_type": "code",
      "source": [
        "df.info()"
      ],
      "metadata": {
        "colab": {
          "base_uri": "https://localhost:8080/"
        },
        "id": "HRzE0D0AAg_T",
        "outputId": "5071d9b0-ed94-4d38-cca6-4c42e5956d16"
      },
      "execution_count": 5,
      "outputs": [
        {
          "output_type": "stream",
          "name": "stdout",
          "text": [
            "<class 'pandas.core.frame.DataFrame'>\n",
            "RangeIndex: 9240 entries, 0 to 9239\n",
            "Data columns (total 37 columns):\n",
            " #   Column                                         Non-Null Count  Dtype  \n",
            "---  ------                                         --------------  -----  \n",
            " 0   Prospect ID                                    9240 non-null   object \n",
            " 1   Lead Number                                    9240 non-null   int64  \n",
            " 2   Lead Origin                                    9240 non-null   object \n",
            " 3   Lead Source                                    9204 non-null   object \n",
            " 4   Do Not Email                                   9240 non-null   object \n",
            " 5   Do Not Call                                    9240 non-null   object \n",
            " 6   Converted                                      9240 non-null   int64  \n",
            " 7   TotalVisits                                    9103 non-null   float64\n",
            " 8   Total Time Spent on Website                    9240 non-null   int64  \n",
            " 9   Page Views Per Visit                           9103 non-null   float64\n",
            " 10  Last Activity                                  9137 non-null   object \n",
            " 11  Country                                        6779 non-null   object \n",
            " 12  Specialization                                 5860 non-null   object \n",
            " 13  How did you hear about X Education             1990 non-null   object \n",
            " 14  What is your current occupation                6550 non-null   object \n",
            " 15  What matters most to you in choosing a course  6531 non-null   object \n",
            " 16  Search                                         9240 non-null   object \n",
            " 17  Magazine                                       9240 non-null   object \n",
            " 18  Newspaper Article                              9240 non-null   object \n",
            " 19  X Education Forums                             9240 non-null   object \n",
            " 20  Newspaper                                      9240 non-null   object \n",
            " 21  Digital Advertisement                          9240 non-null   object \n",
            " 22  Through Recommendations                        9240 non-null   object \n",
            " 23  Receive More Updates About Our Courses         9240 non-null   object \n",
            " 24  Tags                                           5887 non-null   object \n",
            " 25  Lead Quality                                   4473 non-null   object \n",
            " 26  Update me on Supply Chain Content              9240 non-null   object \n",
            " 27  Get updates on DM Content                      9240 non-null   object \n",
            " 28  Lead Profile                                   2385 non-null   object \n",
            " 29  City                                           5571 non-null   object \n",
            " 30  Asymmetrique Activity Index                    5022 non-null   object \n",
            " 31  Asymmetrique Profile Index                     5022 non-null   object \n",
            " 32  Asymmetrique Activity Score                    5022 non-null   float64\n",
            " 33  Asymmetrique Profile Score                     5022 non-null   float64\n",
            " 34  I agree to pay the amount through cheque       9240 non-null   object \n",
            " 35  A free copy of Mastering The Interview         9240 non-null   object \n",
            " 36  Last Notable Activity                          9240 non-null   object \n",
            "dtypes: float64(4), int64(3), object(30)\n",
            "memory usage: 2.6+ MB\n"
          ]
        }
      ]
    },
    {
      "cell_type": "markdown",
      "source": [
        "# Checking Target Distribution"
      ],
      "metadata": {
        "id": "t27E-jMUahNF"
      }
    },
    {
      "cell_type": "code",
      "source": [
        "df[\"Converted\"].value_counts()"
      ],
      "metadata": {
        "colab": {
          "base_uri": "https://localhost:8080/"
        },
        "id": "K5qf2k79BrHz",
        "outputId": "4e8be9f0-ce28-441f-edac-26d3830e55b9"
      },
      "execution_count": 6,
      "outputs": [
        {
          "output_type": "execute_result",
          "data": {
            "text/plain": [
              "0    5679\n",
              "1    3561\n",
              "Name: Converted, dtype: int64"
            ]
          },
          "metadata": {},
          "execution_count": 6
        }
      ]
    },
    {
      "cell_type": "code",
      "source": [
        "colors = sns.color_palette('pastel')[1:3]\n",
        "data = df[\"Converted\"].value_counts().to_list()\n",
        "#create pie chart\n",
        "plt.pie(data, labels = [\"Not-Converted\",\"Converted\"], colors = colors, autopct='%.0f%%')\n",
        "plt.legend(loc= \"best\")\n",
        "plt.show()"
      ],
      "metadata": {
        "colab": {
          "base_uri": "https://localhost:8080/",
          "height": 248
        },
        "id": "9UV89IaFBwbn",
        "outputId": "a7b26714-f25c-4d52-ecbb-05ee8b65b56b"
      },
      "execution_count": 7,
      "outputs": [
        {
          "output_type": "display_data",
          "data": {
            "text/plain": [
              "<Figure size 432x288 with 1 Axes>"
            ],
            "image/png": "[encoded data removed]"
          },
          "metadata": {}
        }
      ]
    },
    {
      "cell_type": "markdown",
      "source": [
        "# Checking Null Values"
      ],
      "metadata": {
        "id": "r8ek31WMakw7"
      }
    },
    {
      "cell_type": "code",
      "source": [
        "(df.isnull().sum()*100/len(df)).to_dict()"
      ],
      "metadata": {
        "colab": {
          "base_uri": "https://localhost:8080/"
        },
        "id": "3r_Pgz0GAw7k",
        "outputId": "a0099ddf-047a-422d-a715-2eb733311a3a"
      },
      "execution_count": 8,
      "outputs": [
        {
          "output_type": "execute_result",
          "data": {
            "text/plain": [
              "{'Prospect ID': 0.0,\n",
              " 'Lead Number': 0.0,\n",
              " 'Lead Origin': 0.0,\n",
              " 'Lead Source': 0.38961038961038963,\n",
              " 'Do Not Email': 0.0,\n",
              " 'Do Not Call': 0.0,\n",
              " 'Converted': 0.0,\n",
              " 'TotalVisits': 1.4826839826839826,\n",
              " 'Total Time Spent on Website': 0.0,\n",
              " 'Page Views Per Visit': 1.4826839826839826,\n",
              " 'Last Activity': 1.1147186147186148,\n",
              " 'Country': 26.634199134199132,\n",
              " 'Specialization': 36.58008658008658,\n",
              " 'How did you hear about X Education': 78.46320346320347,\n",
              " 'What is your current occupation': 29.11255411255411,\n",
              " 'What matters most to you in choosing a course': 29.318181818181817,\n",
              " 'Search': 0.0,\n",
              " 'Magazine': 0.0,\n",
              " 'Newspaper Article': 0.0,\n",
              " 'X Education Forums': 0.0,\n",
              " 'Newspaper': 0.0,\n",
              " 'Digital Advertisement': 0.0,\n",
              " 'Through Recommendations': 0.0,\n",
              " 'Receive More Updates About Our Courses': 0.0,\n",
              " 'Tags': 36.28787878787879,\n",
              " 'Lead Quality': 51.59090909090909,\n",
              " 'Update me on Supply Chain Content': 0.0,\n",
              " 'Get updates on DM Content': 0.0,\n",
              " 'Lead Profile': 74.18831168831169,\n",
              " 'City': 39.70779220779221,\n",
              " 'Asymmetrique Activity Index': 45.64935064935065,\n",
              " 'Asymmetrique Profile Index': 45.64935064935065,\n",
              " 'Asymmetrique Activity Score': 45.64935064935065,\n",
              " 'Asymmetrique Profile Score': 45.64935064935065,\n",
              " 'I agree to pay the amount through cheque': 0.0,\n",
              " 'A free copy of Mastering The Interview': 0.0,\n",
              " 'Last Notable Activity': 0.0}"
            ]
          },
          "metadata": {},
          "execution_count": 8
        }
      ]
    },
    {
      "cell_type": "markdown",
      "source": [
        "# Cleaning the Data"
      ],
      "metadata": {
        "id": "NOAN1-EJanyi"
      }
    },
    {
      "cell_type": "markdown",
      "source": [
        "### Dropping Columns with Nan values greater tha 45%"
      ],
      "metadata": {
        "id": "a7OM5G6Cm6q4"
      }
    },
    {
      "cell_type": "code",
      "source": [
        "df1 = df[[\"Prospect ID\", \"Lead Number\"]]\n",
        "for col in df.columns:\n",
        "  if df[col].isnull().sum()*100/len(df) <45:\n",
        "    df1[col] = df[col]\n",
        "\n",
        "print(df1.shape)\n",
        "df1.head(2)"
      ],
      "metadata": {
        "colab": {
          "base_uri": "https://localhost:8080/",
          "height": 414
        },
        "id": "OX7oXnE8BM_s",
        "outputId": "d7e90900-ebe8-48e0-8584-6b9b90f24bbf"
      },
      "execution_count": 9,
      "outputs": [
        {
          "output_type": "stream",
          "name": "stdout",
          "text": [
            "(9240, 30)\n"
          ]
        },
        {
          "output_type": "execute_result",
          "data": {
            "text/plain": [
              "                            Prospect ID  Lead Number Lead Origin  \\\n",
              "0  7927b2df-8bba-4d29-b9a2-b6e0beafe620       660737         API   \n",
              "1  2a272436-5132-4136-86fa-dcc88c88f482       660728         API   \n",
              "\n",
              "      Lead Source Do Not Email Do Not Call  Converted  TotalVisits  \\\n",
              "0      Olark Chat           No          No          0          0.0   \n",
              "1  Organic Search           No          No          0          5.0   \n",
              "\n",
              "   Total Time Spent on Website  Page Views Per Visit  ...  \\\n",
              "0                            0                   0.0  ...   \n",
              "1                          674                   2.5  ...   \n",
              "\n",
              "  Digital Advertisement Through Recommendations  \\\n",
              "0                    No                      No   \n",
              "1                    No                      No   \n",
              "\n",
              "  Receive More Updates About Our Courses                         Tags  \\\n",
              "0                                     No  Interested in other courses   \n",
              "1                                     No                      Ringing   \n",
              "\n",
              "  Update me on Supply Chain Content Get updates on DM Content City  \\\n",
              "0                                No                        No  NaN   \n",
              "1                                No                        No  NaN   \n",
              "\n",
              "  I agree to pay the amount through cheque  \\\n",
              "0                                       No   \n",
              "1                                       No   \n",
              "\n",
              "  A free copy of Mastering The Interview Last Notable Activity  \n",
              "0                                     No              Modified  \n",
              "1                                     No          Email Opened  \n",
              "\n",
              "[2 rows x 30 columns]"
            ],
            "text/html": [
              "\n",
              "  <div id=\"df-c71d4245-dd0b-45b9-9fd2-4449b0a89b79\">\n",
              "    <div class=\"colab-df-container\">\n",
              "      <div>\n",
              "<style scoped>\n",
              "    .dataframe tbody tr th:only-of-type {\n",
              "        vertical-align: middle;\n",
              "    }\n",
              "\n",
              "    .dataframe tbody tr th {\n",
              "        vertical-align: top;\n",
              "    }\n",
              "\n",
              "    .dataframe thead th {\n",
              "        text-align: right;\n",
              "    }\n",
              "</style>\n",
              "<table border=\"1\" class=\"dataframe\">\n",
              "  <thead>\n",
              "    <tr style=\"text-align: right;\">\n",
              "      <th></th>\n",
              "      <th>Prospect ID</th>\n",
              "      <th>Lead Number</th>\n",
              "      <th>Lead Origin</th>\n",
              "      <th>Lead Source</th>\n",
              "      <th>Do Not Email</th>\n",
              "      <th>Do Not Call</th>\n",
              "      <th>Converted</th>\n",
              "      <th>TotalVisits</th>\n",
              "      <th>Total Time Spent on Website</th>\n",
              "      <th>Page Views Per Visit</th>\n",
              "      <th>...</th>\n",
              "      <th>Digital Advertisement</th>\n",
              "      <th>Through Recommendations</th>\n",
              "      <th>Receive More Updates About Our Courses</th>\n",
              "      <th>Tags</th>\n",
              "      <th>Update me on Supply Chain Content</th>\n",
              "      <th>Get updates on DM Content</th>\n",
              "      <th>City</th>\n",
              "      <th>I agree to pay the amount through cheque</th>\n",
              "      <th>A free copy of Mastering The Interview</th>\n",
              "      <th>Last Notable Activity</th>\n",
              "    </tr>\n",
              "  </thead>\n",
              "  <tbody>\n",
              "    <tr>\n",
              "      <th>0</th>\n",
              "      <td>7927b2df-8bba-4d29-b9a2-b6e0beafe620</td>\n",
              "      <td>660737</td>\n",
              "      <td>API</td>\n",
              "      <td>Olark Chat</td>\n",
              "      <td>No</td>\n",
              "      <td>No</td>\n",
              "      <td>0</td>\n",
              "      <td>0.0</td>\n",
              "      <td>0</td>\n",
              "      <td>0.0</td>\n",
              "      <td>...</td>\n",
              "      <td>No</td>\n",
              "      <td>No</td>\n",
              "      <td>No</td>\n",
              "      <td>Interested in other courses</td>\n",
              "      <td>No</td>\n",
              "      <td>No</td>\n",
              "      <td>NaN</td>\n",
              "      <td>No</td>\n",
              "      <td>No</td>\n",
              "      <td>Modified</td>\n",
              "    </tr>\n",
              "    <tr>\n",
              "      <th>1</th>\n",
              "      <td>2a272436-5132-4136-86fa-dcc88c88f482</td>\n",
              "      <td>660728</td>\n",
              "      <td>API</td>\n",
              "      <td>Organic Search</td>\n",
              "      <td>No</td>\n",
              "      <td>No</td>\n",
              "      <td>0</td>\n",
              "      <td>5.0</td>\n",
              "      <td>674</td>\n",
              "      <td>2.5</td>\n",
              "      <td>...</td>\n",
              "      <td>No</td>\n",
              "      <td>No</td>\n",
              "      <td>No</td>\n",
              "      <td>Ringing</td>\n",
              "      <td>No</td>\n",
              "      <td>No</td>\n",
              "      <td>NaN</td>\n",
              "      <td>No</td>\n",
              "      <td>No</td>\n",
              "      <td>Email Opened</td>\n",
              "    </tr>\n",
              "  </tbody>\n",
              "</table>\n",
              "<p>2 rows × 30 columns</p>\n",
              "</div>\n",
              "      <button class=\"colab-df-convert\" onclick=\"convertToInteractive('df-c71d4245-dd0b-45b9-9fd2-4449b0a89b79')\"\n",
              "              title=\"Convert this dataframe to an interactive table.\"\n",
              "              style=\"display:none;\">\n",
              "        \n",
              "  <svg xmlns=\"http://www.w3.org/2000/svg\" height=\"24px\"viewBox=\"0 0 24 24\"\n",
              "       width=\"24px\">\n",
              "    <path d=\"M0 0h24v24H0V0z\" fill=\"none\"/>\n",
              "    <path d=\"M18.56 5.44l.94 2.06.94-2.06 2.06-.94-2.06-.94-.94-2.06-.94 2.06-2.06.94zm-11 1L8.5 8.5l.94-2.06 2.06-.94-2.06-.94L8.5 2.5l-.94 2.06-2.06.94zm10 10l.94 2.06.94-2.06 2.06-.94-2.06-.94-.94-2.06-.94 2.06-2.06.94z\"/><path d=\"M17.41 7.96l-1.37-1.37c-.4-.4-.92-.59-1.43-.59-.52 0-1.04.2-1.43.59L10.3 9.45l-7.72 7.72c-.78.78-.78 2.05 0 2.83L4 21.41c.39.39.9.59 1.41.59.51 0 1.02-.2 1.41-.59l7.78-7.78 2.81-2.81c.8-.78.8-2.07 0-2.86zM5.41 20L4 18.59l7.72-7.72 1.47 1.35L5.41 20z\"/>\n",
              "  </svg>\n",
              "      </button>\n",
              "      \n",
              "  <style>\n",
              "    .colab-df-container {\n",
              "      display:flex;\n",
              "      flex-wrap:wrap;\n",
              "      gap: 12px;\n",
              "    }\n",
              "\n",
              "    .colab-df-convert {\n",
              "      background-color: #E8F0FE;\n",
              "      border: none;\n",
              "      border-radius: 50%;\n",
              "      cursor: pointer;\n",
              "      display: none;\n",
              "      fill: #1967D2;\n",
              "      height: 32px;\n",
              "      padding: 0 0 0 0;\n",
              "      width: 32px;\n",
              "    }\n",
              "\n",
              "    .colab-df-convert:hover {\n",
              "      background-color: #E2EBFA;\n",
              "      box-shadow: 0px 1px 2px rgba(60, 64, 67, 0.3), 0px 1px 3px 1px rgba(60, 64, 67, 0.15);\n",
              "      fill: #174EA6;\n",
              "    }\n",
              "\n",
              "    [theme=dark] .colab-df-convert {\n",
              "      background-color: #3B4455;\n",
              "      fill: #D2E3FC;\n",
              "    }\n",
              "\n",
              "    [theme=dark] .colab-df-convert:hover {\n",
              "      background-color: #434B5C;\n",
              "      box-shadow: 0px 1px 3px 1px rgba(0, 0, 0, 0.15);\n",
              "      filter: drop-shadow(0px 1px 2px rgba(0, 0, 0, 0.3));\n",
              "      fill: #FFFFFF;\n",
              "    }\n",
              "  </style>\n",
              "\n",
              "      <script>\n",
              "        const buttonEl =\n",
              "          document.querySelector('#df-c71d4245-dd0b-45b9-9fd2-4449b0a89b79 button.colab-df-convert');\n",
              "        buttonEl.style.display =\n",
              "          google.colab.kernel.accessAllowed ? 'block' : 'none';\n",
              "\n",
              "        async function convertToInteractive(key) {\n",
              "          const element = document.querySelector('#df-c71d4245-dd0b-45b9-9fd2-4449b0a89b79');\n",
              "          const dataTable =\n",
              "            await google.colab.kernel.invokeFunction('convertToInteractive',\n",
              "                                                     [key], {});\n",
              "          if (!dataTable) return;\n",
              "\n",
              "          const docLinkHtml = 'Like what you see? Visit the ' +\n",
              "            '<a target=\"_blank\" href=https://colab.research.google.com/notebooks/data_table.ipynb>data table notebook</a>'\n",
              "            + ' to learn more about interactive tables.';\n",
              "          element.innerHTML = '';\n",
              "          dataTable['output_type'] = 'display_data';\n",
              "          await google.colab.output.renderOutput(dataTable, element);\n",
              "          const docLink = document.createElement('div');\n",
              "          docLink.innerHTML = docLinkHtml;\n",
              "          element.appendChild(docLink);\n",
              "        }\n",
              "      </script>\n",
              "    </div>\n",
              "  </div>\n",
              "  "
            ]
          },
          "metadata": {},
          "execution_count": 9
        }
      ]
    },
    {
      "cell_type": "markdown",
      "source": [
        "### Removing Columns with Single dominating value"
      ],
      "metadata": {
        "id": "3jL0U_tQ3LGJ"
      }
    },
    {
      "cell_type": "code",
      "source": [
        "#Do not call\n",
        "print(df1[\"Do Not Call\"].value_counts()*100/len(df))\n",
        "df1.drop(\"Do Not Call\",axis =1 ,inplace = True)"
      ],
      "metadata": {
        "colab": {
          "base_uri": "https://localhost:8080/"
        },
        "id": "mfPmW6v_zY9K",
        "outputId": "593dd99a-6b52-4663-bd40-df340a60ef84"
      },
      "execution_count": 10,
      "outputs": [
        {
          "output_type": "stream",
          "name": "stdout",
          "text": [
            "No     99.978355\n",
            "Yes     0.021645\n",
            "Name: Do Not Call, dtype: float64\n"
          ]
        }
      ]
    },
    {
      "cell_type": "code",
      "source": [
        "#Country\n",
        "print(df1[\"Country\"].value_counts()*100/len(df))\n",
        "df1.drop(\"Country\",axis =1 ,inplace = True)"
      ],
      "metadata": {
        "colab": {
          "base_uri": "https://localhost:8080/"
        },
        "id": "VYnF8sYIzY61",
        "outputId": "ba1cbbad-6c7b-44b1-96d5-1a386eb42db6"
      },
      "execution_count": 11,
      "outputs": [
        {
          "output_type": "stream",
          "name": "stdout",
          "text": [
            "India                   70.259740\n",
            "United States            0.746753\n",
            "United Arab Emirates     0.573593\n",
            "Singapore                0.259740\n",
            "Saudi Arabia             0.227273\n",
            "United Kingdom           0.162338\n",
            "Australia                0.140693\n",
            "Qatar                    0.108225\n",
            "Hong Kong                0.075758\n",
            "Bahrain                  0.075758\n",
            "Oman                     0.064935\n",
            "France                   0.064935\n",
            "unknown                  0.054113\n",
            "South Africa             0.043290\n",
            "Nigeria                  0.043290\n",
            "Germany                  0.043290\n",
            "Kuwait                   0.043290\n",
            "Canada                   0.043290\n",
            "Sweden                   0.032468\n",
            "China                    0.021645\n",
            "Asia/Pacific Region      0.021645\n",
            "Uganda                   0.021645\n",
            "Bangladesh               0.021645\n",
            "Italy                    0.021645\n",
            "Belgium                  0.021645\n",
            "Netherlands              0.021645\n",
            "Ghana                    0.021645\n",
            "Philippines              0.021645\n",
            "Russia                   0.010823\n",
            "Switzerland              0.010823\n",
            "Vietnam                  0.010823\n",
            "Denmark                  0.010823\n",
            "Tanzania                 0.010823\n",
            "Liberia                  0.010823\n",
            "Malaysia                 0.010823\n",
            "Kenya                    0.010823\n",
            "Sri Lanka                0.010823\n",
            "Indonesia                0.010823\n",
            "Name: Country, dtype: float64\n"
          ]
        }
      ]
    },
    {
      "cell_type": "code",
      "source": [
        "#What matters most to you in choosing a course\n",
        "print(df1[\"What matters most to you in choosing a course\"].value_counts()*100/len(df))\n",
        "df1.drop(\"What matters most to you in choosing a course\",axis =1 ,inplace = True)"
      ],
      "metadata": {
        "colab": {
          "base_uri": "https://localhost:8080/"
        },
        "id": "Bw49IOR-zY4b",
        "outputId": "aeab1f30-35d1-4ab0-ebdc-7e7dcdeaae3d"
      },
      "execution_count": 12,
      "outputs": [
        {
          "output_type": "stream",
          "name": "stdout",
          "text": [
            "Better Career Prospects      70.649351\n",
            "Flexibility & Convenience     0.021645\n",
            "Other                         0.010823\n",
            "Name: What matters most to you in choosing a course, dtype: float64\n"
          ]
        }
      ]
    },
    {
      "cell_type": "code",
      "source": [
        "#Search\n",
        "print(df1[\"Search\"].value_counts()*100/len(df))\n",
        "df1.drop(\"Search\",axis =1 ,inplace = True)"
      ],
      "metadata": {
        "colab": {
          "base_uri": "https://localhost:8080/"
        },
        "id": "qGolHfZbzY19",
        "outputId": "f2f4e250-1fd2-442e-8451-c8e9b9a24bc0"
      },
      "execution_count": 13,
      "outputs": [
        {
          "output_type": "stream",
          "name": "stdout",
          "text": [
            "No     99.848485\n",
            "Yes     0.151515\n",
            "Name: Search, dtype: float64\n"
          ]
        }
      ]
    },
    {
      "cell_type": "code",
      "source": [
        "#Magazine\n",
        "print(df1[\"Magazine\"].value_counts()*100/len(df))\n",
        "df1.drop(\"Magazine\",axis =1 ,inplace = True)"
      ],
      "metadata": {
        "colab": {
          "base_uri": "https://localhost:8080/"
        },
        "id": "jwhUf5IozYzp",
        "outputId": "83ca7f6f-874f-49ec-b4a7-dab29682e7d0"
      },
      "execution_count": 14,
      "outputs": [
        {
          "output_type": "stream",
          "name": "stdout",
          "text": [
            "No    100.0\n",
            "Name: Magazine, dtype: float64\n"
          ]
        }
      ]
    },
    {
      "cell_type": "code",
      "source": [
        "#Newspaper Article\n",
        "print(df1[\"Newspaper Article\"].value_counts()*100/len(df))\n",
        "df1.drop(\"Newspaper Article\",axis =1 ,inplace = True)"
      ],
      "metadata": {
        "colab": {
          "base_uri": "https://localhost:8080/"
        },
        "id": "NZF_GFw-1Pvn",
        "outputId": "0ecdaa2d-ea6d-4d68-9f01-15589c3eeeb8"
      },
      "execution_count": 15,
      "outputs": [
        {
          "output_type": "stream",
          "name": "stdout",
          "text": [
            "No     99.978355\n",
            "Yes     0.021645\n",
            "Name: Newspaper Article, dtype: float64\n"
          ]
        }
      ]
    },
    {
      "cell_type": "code",
      "source": [
        "#X Education Forums\n",
        "print(df1[\"X Education Forums\"].value_counts()*100/len(df))\n",
        "df1.drop(\"X Education Forums\",axis =1 ,inplace = True)"
      ],
      "metadata": {
        "colab": {
          "base_uri": "https://localhost:8080/"
        },
        "id": "GMhIZnxQ1PsF",
        "outputId": "be8c5b39-b990-4842-a0b3-02c87bdd7ecd"
      },
      "execution_count": 16,
      "outputs": [
        {
          "output_type": "stream",
          "name": "stdout",
          "text": [
            "No     99.989177\n",
            "Yes     0.010823\n",
            "Name: X Education Forums, dtype: float64\n"
          ]
        }
      ]
    },
    {
      "cell_type": "code",
      "source": [
        "#Newspaper\n",
        "print(df1[\"Newspaper\"].value_counts()*100/len(df))\n",
        "df1.drop(\"Newspaper\",axis =1 ,inplace = True)"
      ],
      "metadata": {
        "colab": {
          "base_uri": "https://localhost:8080/"
        },
        "id": "hC2h-pms1PqJ",
        "outputId": "a0b0ef08-d755-422e-cfc8-2185751a6631"
      },
      "execution_count": 17,
      "outputs": [
        {
          "output_type": "stream",
          "name": "stdout",
          "text": [
            "No     99.989177\n",
            "Yes     0.010823\n",
            "Name: Newspaper, dtype: float64\n"
          ]
        }
      ]
    },
    {
      "cell_type": "code",
      "source": [
        "#Digital Advertisement\n",
        "print(df1[\"Digital Advertisement\"].value_counts()*100/len(df))\n",
        "df1.drop(\"Digital Advertisement\",axis =1 ,inplace = True)"
      ],
      "metadata": {
        "colab": {
          "base_uri": "https://localhost:8080/"
        },
        "id": "zzvh7MfD1Pnw",
        "outputId": "8befe777-df40-42dd-8bfb-f68f86c1fec6"
      },
      "execution_count": 18,
      "outputs": [
        {
          "output_type": "stream",
          "name": "stdout",
          "text": [
            "No     99.95671\n",
            "Yes     0.04329\n",
            "Name: Digital Advertisement, dtype: float64\n"
          ]
        }
      ]
    },
    {
      "cell_type": "code",
      "source": [
        "#Through Recommendations\n",
        "print(df1[\"Through Recommendations\"].value_counts()*100/len(df))\n",
        "df1.drop(\"Through Recommendations\",axis =1 ,inplace = True)"
      ],
      "metadata": {
        "colab": {
          "base_uri": "https://localhost:8080/"
        },
        "id": "0GZSgC661PlL",
        "outputId": "0624d6d0-5cf2-46d6-d51e-dc93bfc9f825"
      },
      "execution_count": 19,
      "outputs": [
        {
          "output_type": "stream",
          "name": "stdout",
          "text": [
            "No     99.924242\n",
            "Yes     0.075758\n",
            "Name: Through Recommendations, dtype: float64\n"
          ]
        }
      ]
    },
    {
      "cell_type": "code",
      "source": [
        "#What matters most to you in choosing a course\n",
        "print(df1[\"Receive More Updates About Our Courses\"].value_counts()*100/len(df))\n",
        "df1.drop(\"Receive More Updates About Our Courses\",axis =1 ,inplace = True)"
      ],
      "metadata": {
        "colab": {
          "base_uri": "https://localhost:8080/"
        },
        "id": "-TGnSaYC1Pis",
        "outputId": "80bfdbfd-78a9-488a-9d02-f668b503f507"
      },
      "execution_count": 20,
      "outputs": [
        {
          "output_type": "stream",
          "name": "stdout",
          "text": [
            "No    100.0\n",
            "Name: Receive More Updates About Our Courses, dtype: float64\n"
          ]
        }
      ]
    },
    {
      "cell_type": "code",
      "source": [
        "#Update me on Supply Chain Content\n",
        "print(df1[\"Update me on Supply Chain Content\"].value_counts()*100/len(df))\n",
        "df1.drop(\"Update me on Supply Chain Content\",axis =1 ,inplace = True)"
      ],
      "metadata": {
        "colab": {
          "base_uri": "https://localhost:8080/"
        },
        "id": "5dVL6PYC1PZz",
        "outputId": "c60a078e-1e4f-42cb-c71c-ba3e2185de81"
      },
      "execution_count": 21,
      "outputs": [
        {
          "output_type": "stream",
          "name": "stdout",
          "text": [
            "No    100.0\n",
            "Name: Update me on Supply Chain Content, dtype: float64\n"
          ]
        }
      ]
    },
    {
      "cell_type": "code",
      "source": [
        "#Get updates on DM Content\n",
        "print(df1[\"Get updates on DM Content\"].value_counts()*100/len(df))\n",
        "df1.drop(\"Get updates on DM Content\",axis =1 ,inplace = True)"
      ],
      "metadata": {
        "colab": {
          "base_uri": "https://localhost:8080/"
        },
        "id": "QEqt6B-F2gZX",
        "outputId": "4c722863-c07e-4ccd-e69f-40ec2c9a43d5"
      },
      "execution_count": 22,
      "outputs": [
        {
          "output_type": "stream",
          "name": "stdout",
          "text": [
            "No    100.0\n",
            "Name: Get updates on DM Content, dtype: float64\n"
          ]
        }
      ]
    },
    {
      "cell_type": "code",
      "source": [
        "#I agree to pay the amount through cheque\n",
        "print(df1[\"I agree to pay the amount through cheque\"].value_counts()*100/len(df))\n",
        "df1.drop(\"I agree to pay the amount through cheque\",axis =1 ,inplace = True)"
      ],
      "metadata": {
        "colab": {
          "base_uri": "https://localhost:8080/"
        },
        "id": "-NWAWwDC2gWA",
        "outputId": "2414030b-2c71-462a-8763-1687aa4d3e8b"
      },
      "execution_count": 23,
      "outputs": [
        {
          "output_type": "stream",
          "name": "stdout",
          "text": [
            "No    100.0\n",
            "Name: I agree to pay the amount through cheque, dtype: float64\n"
          ]
        }
      ]
    },
    {
      "cell_type": "markdown",
      "source": [
        "### combining different classes in variable"
      ],
      "metadata": {
        "id": "bfZ4YECW29k2"
      }
    },
    {
      "cell_type": "code",
      "source": [
        "for col in df1.columns:\n",
        "  print(df1[col].value_counts()*100/len(df))\n",
        "  print(\"+++++++++++++++++++++++++++++++++++++++++++++++++++++++\")"
      ],
      "metadata": {
        "colab": {
          "base_uri": "https://localhost:8080/"
        },
        "id": "6mqVmVor3G0x",
        "outputId": "f06eef0c-2dc3-4612-db05-4f4f3b56f4ce"
      },
      "execution_count": 24,
      "outputs": [
        {
          "output_type": "stream",
          "name": "stdout",
          "text": [
            "7927b2df-8bba-4d29-b9a2-b6e0beafe620    0.010823\n",
            "22e9d4ef-d294-4ebf-81c7-7c7a1105aeea    0.010823\n",
            "46befc49-253a-419b-abea-2fd978d2e2b1    0.010823\n",
            "9d35a2c2-09d8-439f-9875-0e8bbf267f5a    0.010823\n",
            "f0de9371-4dc2-48c2-9785-a08d6fc4fcb5    0.010823\n",
            "                                          ...   \n",
            "ff1f7582-cb7b-4b94-9cdc-3d0d0afdd9a3    0.010823\n",
            "644099a2-3da4-4d23-9546-7676340a372b    0.010823\n",
            "2a093175-415b-4321-9e69-ed8d9df65a3c    0.010823\n",
            "c66249a3-8500-4c66-a511-312d914573de    0.010823\n",
            "571b5c8e-a5b2-4d57-8574-f2ffb06fdeff    0.010823\n",
            "Name: Prospect ID, Length: 9240, dtype: float64\n",
            "+++++++++++++++++++++++++++++++++++++++++++++++++++++++\n",
            "660737    0.010823\n",
            "603303    0.010823\n",
            "602561    0.010823\n",
            "602557    0.010823\n",
            "602540    0.010823\n",
            "            ...   \n",
            "630422    0.010823\n",
            "630405    0.010823\n",
            "630403    0.010823\n",
            "630390    0.010823\n",
            "579533    0.010823\n",
            "Name: Lead Number, Length: 9240, dtype: float64\n",
            "+++++++++++++++++++++++++++++++++++++++++++++++++++++++\n",
            "Landing Page Submission    52.878788\n",
            "API                        38.744589\n",
            "Lead Add Form               7.770563\n",
            "Lead Import                 0.595238\n",
            "Quick Add Form              0.010823\n",
            "Name: Lead Origin, dtype: float64\n",
            "+++++++++++++++++++++++++++++++++++++++++++++++++++++++\n",
            "Google               31.038961\n",
            "Direct Traffic       27.521645\n",
            "Olark Chat           18.993506\n",
            "Organic Search       12.489177\n",
            "Reference             5.779221\n",
            "Welingak Website      1.536797\n",
            "Referral Sites        1.352814\n",
            "Facebook              0.595238\n",
            "bing                  0.064935\n",
            "google                0.054113\n",
            "Click2call            0.043290\n",
            "Press_Release         0.021645\n",
            "Social Media          0.021645\n",
            "Live Chat             0.021645\n",
            "youtubechannel        0.010823\n",
            "testone               0.010823\n",
            "Pay per Click Ads     0.010823\n",
            "welearnblog_Home      0.010823\n",
            "WeLearn               0.010823\n",
            "blog                  0.010823\n",
            "NC_EDM                0.010823\n",
            "Name: Lead Source, dtype: float64\n",
            "+++++++++++++++++++++++++++++++++++++++++++++++++++++++\n",
            "No     92.056277\n",
            "Yes     7.943723\n",
            "Name: Do Not Email, dtype: float64\n",
            "+++++++++++++++++++++++++++++++++++++++++++++++++++++++\n",
            "0    61.461039\n",
            "1    38.538961\n",
            "Name: Converted, dtype: float64\n",
            "+++++++++++++++++++++++++++++++++++++++++++++++++++++++\n",
            "0.0      23.690476\n",
            "2.0      18.181818\n",
            "3.0      14.134199\n",
            "4.0      12.121212\n",
            "5.0       8.474026\n",
            "6.0       5.043290\n",
            "1.0       4.274892\n",
            "7.0       3.344156\n",
            "8.0       2.424242\n",
            "9.0       1.774892\n",
            "10.0      1.233766\n",
            "11.0      0.930736\n",
            "13.0      0.519481\n",
            "12.0      0.487013\n",
            "14.0      0.389610\n",
            "16.0      0.227273\n",
            "15.0      0.194805\n",
            "17.0      0.173160\n",
            "18.0      0.162338\n",
            "20.0      0.129870\n",
            "19.0      0.097403\n",
            "21.0      0.064935\n",
            "23.0      0.064935\n",
            "24.0      0.054113\n",
            "25.0      0.054113\n",
            "27.0      0.054113\n",
            "22.0      0.032468\n",
            "29.0      0.021645\n",
            "28.0      0.021645\n",
            "26.0      0.021645\n",
            "141.0     0.010823\n",
            "55.0      0.010823\n",
            "30.0      0.010823\n",
            "43.0      0.010823\n",
            "74.0      0.010823\n",
            "41.0      0.010823\n",
            "54.0      0.010823\n",
            "115.0     0.010823\n",
            "251.0     0.010823\n",
            "32.0      0.010823\n",
            "42.0      0.010823\n",
            "Name: TotalVisits, dtype: float64\n",
            "+++++++++++++++++++++++++++++++++++++++++++++++++++++++\n",
            "0       23.733766\n",
            "60       0.205628\n",
            "74       0.194805\n",
            "75       0.194805\n",
            "127      0.194805\n",
            "          ...    \n",
            "1701     0.010823\n",
            "1952     0.010823\n",
            "1229     0.010823\n",
            "1743     0.010823\n",
            "927      0.010823\n",
            "Name: Total Time Spent on Website, Length: 1731, dtype: float64\n",
            "+++++++++++++++++++++++++++++++++++++++++++++++++++++++\n",
            "0.00    23.690476\n",
            "2.00    19.426407\n",
            "3.00    12.943723\n",
            "4.00     9.696970\n",
            "1.00     7.045455\n",
            "          ...    \n",
            "3.43     0.010823\n",
            "2.56     0.010823\n",
            "6.33     0.010823\n",
            "1.64     0.010823\n",
            "2.08     0.010823\n",
            "Name: Page Views Per Visit, Length: 114, dtype: float64\n",
            "+++++++++++++++++++++++++++++++++++++++++++++++++++++++\n",
            "Email Opened                    37.196970\n",
            "SMS Sent                        29.707792\n",
            "Olark Chat Conversation         10.530303\n",
            "Page Visited on Website          6.926407\n",
            "Converted to Lead                4.632035\n",
            "Email Bounced                    3.528139\n",
            "Email Link Clicked               2.889610\n",
            "Form Submitted on Website        1.255411\n",
            "Unreachable                      1.006494\n",
            "Unsubscribed                     0.660173\n",
            "Had a Phone Conversation         0.324675\n",
            "Approached upfront               0.097403\n",
            "View in browser link Clicked     0.064935\n",
            "Email Received                   0.021645\n",
            "Email Marked Spam                0.021645\n",
            "Visited Booth in Tradeshow       0.010823\n",
            "Resubscribed to emails           0.010823\n",
            "Name: Last Activity, dtype: float64\n",
            "+++++++++++++++++++++++++++++++++++++++++++++++++++++++\n",
            "Finance Management                   10.562771\n",
            "Human Resource Management             9.177489\n",
            "Marketing Management                  9.069264\n",
            "Operations Management                 5.443723\n",
            "Business Administration               4.361472\n",
            "IT Projects Management                3.961039\n",
            "Supply Chain Management               3.777056\n",
            "Banking, Investment And Insurance     3.658009\n",
            "Travel and Tourism                    2.196970\n",
            "Media and Advertising                 2.196970\n",
            "International Business                1.926407\n",
            "Healthcare Management                 1.720779\n",
            "Hospitality Management                1.233766\n",
            "E-COMMERCE                            1.212121\n",
            "Retail Management                     1.082251\n",
            "Rural and Agribusiness                0.790043\n",
            "E-Business                            0.616883\n",
            "Services Excellence                   0.432900\n",
            "Name: Specialization, dtype: float64\n",
            "+++++++++++++++++++++++++++++++++++++++++++++++++++++++\n",
            "Unemployed              60.606061\n",
            "Working Professional     7.640693\n",
            "Student                  2.272727\n",
            "Other                    0.173160\n",
            "Housewife                0.108225\n",
            "Businessman              0.086580\n",
            "Name: What is your current occupation, dtype: float64\n",
            "+++++++++++++++++++++++++++++++++++++++++++++++++++++++\n",
            "Will revert after reading the email                  22.424242\n",
            "Ringing                                              13.019481\n",
            "Interested in other courses                           5.551948\n",
            "Already a student                                     5.032468\n",
            "Closed by Horizzon                                    3.874459\n",
            "switched off                                          2.597403\n",
            "Busy                                                  2.012987\n",
            "Lost to EINS                                          1.893939\n",
            "Not doing further education                           1.569264\n",
            "Interested  in full time MBA                          1.266234\n",
            "Graduation in progress                                1.201299\n",
            "invalid number                                        0.898268\n",
            "Diploma holder (Not Eligible)                         0.681818\n",
            "wrong number given                                    0.508658\n",
            "opp hangup                                            0.357143\n",
            "number not provided                                   0.292208\n",
            "in touch with EINS                                    0.129870\n",
            "Lost to Others                                        0.075758\n",
            "Still Thinking                                        0.064935\n",
            "Want to take admission but has financial problems     0.064935\n",
            "In confusion whether part time or DLP                 0.054113\n",
            "Interested in Next batch                              0.054113\n",
            "Lateral student                                       0.032468\n",
            "Shall take in the next coming month                   0.021645\n",
            "University not recognized                             0.021645\n",
            "Recognition issue (DEC approval)                      0.010823\n",
            "Name: Tags, dtype: float64\n",
            "+++++++++++++++++++++++++++++++++++++++++++++++++++++++\n",
            "Mumbai                         34.870130\n",
            "Thane & Outskirts               8.138528\n",
            "Other Cities                    7.424242\n",
            "Other Cities of Maharashtra     4.945887\n",
            "Other Metro Cities              4.112554\n",
            "Tier II Cities                  0.800866\n",
            "Name: City, dtype: float64\n",
            "+++++++++++++++++++++++++++++++++++++++++++++++++++++++\n",
            "No     68.744589\n",
            "Yes    31.255411\n",
            "Name: A free copy of Mastering The Interview, dtype: float64\n",
            "+++++++++++++++++++++++++++++++++++++++++++++++++++++++\n",
            "Modified                        36.872294\n",
            "Email Opened                    30.595238\n",
            "SMS Sent                        23.506494\n",
            "Page Visited on Website          3.441558\n",
            "Olark Chat Conversation          1.980519\n",
            "Email Link Clicked               1.872294\n",
            "Email Bounced                    0.649351\n",
            "Unsubscribed                     0.508658\n",
            "Unreachable                      0.346320\n",
            "Had a Phone Conversation         0.151515\n",
            "Email Marked Spam                0.021645\n",
            "Approached upfront               0.010823\n",
            "Resubscribed to emails           0.010823\n",
            "View in browser link Clicked     0.010823\n",
            "Form Submitted on Website        0.010823\n",
            "Email Received                   0.010823\n",
            "Name: Last Notable Activity, dtype: float64\n",
            "+++++++++++++++++++++++++++++++++++++++++++++++++++++++\n"
          ]
        }
      ]
    },
    {
      "cell_type": "code",
      "source": [
        "df1.shape"
      ],
      "metadata": {
        "colab": {
          "base_uri": "https://localhost:8080/"
        },
        "id": "g7uOcj8e3ZCD",
        "outputId": "606b76b8-506c-467a-d0d5-80788ffea728"
      },
      "execution_count": 25,
      "outputs": [
        {
          "output_type": "execute_result",
          "data": {
            "text/plain": [
              "(9240, 16)"
            ]
          },
          "metadata": {},
          "execution_count": 25
        }
      ]
    },
    {
      "cell_type": "code",
      "source": [
        "(df1.isnull().sum()*100/len(df1)).to_dict()"
      ],
      "metadata": {
        "colab": {
          "base_uri": "https://localhost:8080/"
        },
        "id": "s0hf2wmI36Yr",
        "outputId": "f8dce81c-9cd3-4626-eaa0-1cf412fadda2"
      },
      "execution_count": 26,
      "outputs": [
        {
          "output_type": "execute_result",
          "data": {
            "text/plain": [
              "{'Prospect ID': 0.0,\n",
              " 'Lead Number': 0.0,\n",
              " 'Lead Origin': 0.0,\n",
              " 'Lead Source': 0.38961038961038963,\n",
              " 'Do Not Email': 0.0,\n",
              " 'Converted': 0.0,\n",
              " 'TotalVisits': 1.4826839826839826,\n",
              " 'Total Time Spent on Website': 0.0,\n",
              " 'Page Views Per Visit': 1.4826839826839826,\n",
              " 'Last Activity': 1.1147186147186148,\n",
              " 'Specialization': 36.58008658008658,\n",
              " 'What is your current occupation': 29.11255411255411,\n",
              " 'Tags': 36.28787878787879,\n",
              " 'City': 39.70779220779221,\n",
              " 'A free copy of Mastering The Interview': 0.0,\n",
              " 'Last Notable Activity': 0.0}"
            ]
          },
          "metadata": {},
          "execution_count": 26
        }
      ]
    },
    {
      "cell_type": "code",
      "source": [
        "(df1[\"Lead Origin\"].value_counts()/len(df)*100).to_dict()"
      ],
      "metadata": {
        "colab": {
          "base_uri": "https://localhost:8080/"
        },
        "id": "GAtUX7HFQGhd",
        "outputId": "0698c1ed-ec20-41e6-a988-aaca1589d880"
      },
      "execution_count": 27,
      "outputs": [
        {
          "output_type": "execute_result",
          "data": {
            "text/plain": [
              "{'Landing Page Submission': 52.87878787878788,\n",
              " 'API': 38.74458874458874,\n",
              " 'Lead Add Form': 7.770562770562771,\n",
              " 'Lead Import': 0.5952380952380952,\n",
              " 'Quick Add Form': 0.010822510822510822}"
            ]
          },
          "metadata": {},
          "execution_count": 27
        }
      ]
    },
    {
      "cell_type": "code",
      "source": [
        "df2 = df1.copy()"
      ],
      "metadata": {
        "id": "eoc3PcvZQfCA"
      },
      "execution_count": 28,
      "outputs": []
    },
    {
      "cell_type": "code",
      "source": [
        "#Lead Origin\n",
        "df2[\"Lead Origin\"] = df2[\"Lead Origin\"].replace([\"Lead Import\",\"Quick Add Form\",\"Lead Add Form\"],\"Lead Import and Others\" )\n",
        "print(df2[\"Lead Origin\"].value_counts()/len(df2)*100)"
      ],
      "metadata": {
        "colab": {
          "base_uri": "https://localhost:8080/"
        },
        "id": "9XliZtPCR3Lc",
        "outputId": "a590b313-3a1f-446c-db04-6802d46aa699"
      },
      "execution_count": 29,
      "outputs": [
        {
          "output_type": "stream",
          "name": "stdout",
          "text": [
            "Landing Page Submission    52.878788\n",
            "API                        38.744589\n",
            "Lead Import and Others      8.376623\n",
            "Name: Lead Origin, dtype: float64\n"
          ]
        }
      ]
    },
    {
      "cell_type": "code",
      "source": [
        "#Lead Origin\n",
        "vals = [i for i,j in (((df2[\"Lead Source\"].value_counts()/len(df2)*100)<6).to_dict()).items() if j == True]\n",
        "df2[\"Lead Source\"] = df2[\"Lead Source\"].replace(vals,\"Other_Origins\" )\n",
        "print(df2[\"Lead Source\"].value_counts()/len(df2)*100)"
      ],
      "metadata": {
        "colab": {
          "base_uri": "https://localhost:8080/"
        },
        "id": "I4ws7SZ8TEJu",
        "outputId": "6f3e2246-4b28-4ce4-ef33-fca398aeb836"
      },
      "execution_count": 30,
      "outputs": [
        {
          "output_type": "stream",
          "name": "stdout",
          "text": [
            "Google            31.038961\n",
            "Direct Traffic    27.521645\n",
            "Olark Chat        18.993506\n",
            "Organic Search    12.489177\n",
            "Other_Origins      9.567100\n",
            "Name: Lead Source, dtype: float64\n"
          ]
        }
      ]
    },
    {
      "cell_type": "code",
      "source": [
        "#Last Activity\n",
        "vals = [i for i,j in (((df2[\"Last Activity\"].value_counts()/len(df2)*100)<6).to_dict()).items() if j == True]\n",
        "df2[\"Last Activity\"] = df2[\"Last Activity\"].replace(vals,\"Other_activity\" )\n",
        "df2[\"Last Activity\"] = df2[\"Last Activity\"].replace(\"SMS Sent\",\"SMS_Sent\" )\n",
        "print(df2[\"Last Activity\"].value_counts()/len(df2)*100)"
      ],
      "metadata": {
        "colab": {
          "base_uri": "https://localhost:8080/"
        },
        "id": "y_oingc9VoLC",
        "outputId": "1e81205b-79f6-4264-c88e-169970c9efa3"
      },
      "execution_count": 31,
      "outputs": [
        {
          "output_type": "stream",
          "name": "stdout",
          "text": [
            "Email Opened               37.196970\n",
            "SMS_Sent                   29.707792\n",
            "Other_activity             14.523810\n",
            "Olark Chat Conversation    10.530303\n",
            "Page Visited on Website     6.926407\n",
            "Name: Last Activity, dtype: float64\n"
          ]
        }
      ]
    },
    {
      "cell_type": "code",
      "source": [
        "#Specialization\n",
        "df2[\"Specialization\"] = df2[\"Specialization\"].replace(np.nan, \"Temp\")\n",
        "df2[\"Specialization\"] = df2[\"Specialization\"].apply(lambda i : \"Management Study\" if \"Management\" in i else i)\n",
        "df2[\"Specialization\"] = df2[\"Specialization\"].replace(\"Temp\",np.nan)\n",
        "vals = [i for i,j in (((df2[\"Specialization\"].value_counts()/len(df2)*100)<4).to_dict()).items() if j == True]\n",
        "df2[\"Specialization\"] = df2[\"Specialization\"].replace(vals,\"Banking and Others\" )\n",
        "print(df2[\"Specialization\"].value_counts()/len(df2)*100)"
      ],
      "metadata": {
        "colab": {
          "base_uri": "https://localhost:8080/"
        },
        "id": "ASNb9PiqWOsb",
        "outputId": "6815b0d6-9098-4451-c1b0-1cbd0cfb80cf"
      },
      "execution_count": 32,
      "outputs": [
        {
          "output_type": "stream",
          "name": "stdout",
          "text": [
            "Management Study           46.028139\n",
            "Banking and Others         13.030303\n",
            "Business Administration     4.361472\n",
            "Name: Specialization, dtype: float64\n"
          ]
        }
      ]
    },
    {
      "cell_type": "code",
      "source": [
        "#What is your current occupation\n",
        "vals = [i for i,j in (((df2[\"What is your current occupation\"].value_counts()/len(df2)*100)<3).to_dict()).items() if j == True]\n",
        "df2[\"What is your current occupation\"] = df2[\"What is your current occupation\"].replace(vals,\"Student and Others\" )\n",
        "print(df2[\"What is your current occupation\"].value_counts()/len(df2)*100)"
      ],
      "metadata": {
        "colab": {
          "base_uri": "https://localhost:8080/"
        },
        "id": "Q0zQ0UwGZVge",
        "outputId": "26e996ce-4ac3-47f5-a29d-5012c2b6bcb6"
      },
      "execution_count": 33,
      "outputs": [
        {
          "output_type": "stream",
          "name": "stdout",
          "text": [
            "Unemployed              60.606061\n",
            "Working Professional     7.640693\n",
            "Student and Others       2.640693\n",
            "Name: What is your current occupation, dtype: float64\n"
          ]
        }
      ]
    },
    {
      "cell_type": "code",
      "source": [
        "# Tags\n",
        "vals = [i for i,j in (((df2[\"Tags\"].value_counts()/len(df2)*100)<4).to_dict()).items() if j == True]\n",
        "df2[\"Tags\"] = df2[\"Tags\"].replace(vals,\"Closed by Horizzon and Others\" )\n",
        "print(df2[\"Tags\"].value_counts()/len(df2)*100)"
      ],
      "metadata": {
        "colab": {
          "base_uri": "https://localhost:8080/"
        },
        "id": "3AQqa7TQk3I0",
        "outputId": "9a729186-ba14-4f7e-963f-2b80d2459fa9"
      },
      "execution_count": 34,
      "outputs": [
        {
          "output_type": "stream",
          "name": "stdout",
          "text": [
            "Will revert after reading the email    22.424242\n",
            "Closed by Horizzon and Others          17.683983\n",
            "Ringing                                13.019481\n",
            "Interested in other courses             5.551948\n",
            "Already a student                       5.032468\n",
            "Name: Tags, dtype: float64\n"
          ]
        }
      ]
    },
    {
      "cell_type": "code",
      "source": [
        "#Last Notable Activity\n",
        "vals = [i for i,j in (((df2[\"Last Notable Activity\"].value_counts()/len(df2)*100)<4).to_dict()).items() if j == True]\n",
        "df2[\"Last Notable Activity\"] = df2[\"Last Notable Activity\"].replace(vals,\"Page Visited and Others\" )\n",
        "print(df2[\"Last Notable Activity\"].value_counts()/len(df2)*100)"
      ],
      "metadata": {
        "colab": {
          "base_uri": "https://localhost:8080/"
        },
        "id": "cBrdze_ZleH5",
        "outputId": "b671bc27-5982-4f58-cf44-bab7bbc24d9e"
      },
      "execution_count": 35,
      "outputs": [
        {
          "output_type": "stream",
          "name": "stdout",
          "text": [
            "Modified                   36.872294\n",
            "Email Opened               30.595238\n",
            "SMS Sent                   23.506494\n",
            "Page Visited and Others     9.025974\n",
            "Name: Last Notable Activity, dtype: float64\n"
          ]
        }
      ]
    },
    {
      "cell_type": "code",
      "source": [
        "#A free copy of Mastering The Interview\n",
        "df2[\"A free copy of Mastering The Interview\"] = df2[\"A free copy of Mastering The Interview\"].replace(\"Yes\",\"Sure\" )\n",
        "df2[\"A free copy of Mastering The Interview\"] = df2[\"A free copy of Mastering The Interview\"].replace(\"No\",\"Never\" )\n"
      ],
      "metadata": {
        "id": "J98JBcB000kg"
      },
      "execution_count": 36,
      "outputs": []
    },
    {
      "cell_type": "code",
      "source": [
        "#City\n",
        "vals = [i for i,j in (((df2[\"City\"].value_counts()/len(df2)*100)<8).to_dict()).items() if j == True]\n",
        "df2[\"City\"] = df2[\"City\"].replace(vals,\"Other Cities\" )\n",
        "print(df2[\"City\"].value_counts()/len(df2)*100)"
      ],
      "metadata": {
        "colab": {
          "base_uri": "https://localhost:8080/"
        },
        "id": "udnwqBAfmgJG",
        "outputId": "6b6fae49-73ed-4ceb-8bf6-f7c5a518adb5"
      },
      "execution_count": 37,
      "outputs": [
        {
          "output_type": "stream",
          "name": "stdout",
          "text": [
            "Mumbai               34.870130\n",
            "Other Cities         17.283550\n",
            "Thane & Outskirts     8.138528\n",
            "Name: City, dtype: float64\n"
          ]
        }
      ]
    },
    {
      "cell_type": "markdown",
      "source": [
        "### Dropping rows which have more than 5 nan values"
      ],
      "metadata": {
        "id": "D_HMlUEipWD5"
      }
    },
    {
      "cell_type": "code",
      "source": [
        "df3 = df2.dropna(subset=list(df2.columns), thresh = len(df2.columns)-5)\n",
        "df3.shape"
      ],
      "metadata": {
        "colab": {
          "base_uri": "https://localhost:8080/"
        },
        "id": "QhmX4V-2axnT",
        "outputId": "dfa925ae-63b7-485b-e285-353abb1d4c92"
      },
      "execution_count": 38,
      "outputs": [
        {
          "output_type": "execute_result",
          "data": {
            "text/plain": [
              "(9226, 16)"
            ]
          },
          "metadata": {},
          "execution_count": 38
        }
      ]
    },
    {
      "cell_type": "markdown",
      "source": [
        "## Imputing Data"
      ],
      "metadata": {
        "id": "P0MgCzOSOSeZ"
      }
    },
    {
      "cell_type": "code",
      "source": [
        "(df3.isnull().sum()*100/len(df3)).to_dict()"
      ],
      "metadata": {
        "colab": {
          "base_uri": "https://localhost:8080/"
        },
        "id": "-nsOSgfdOsd6",
        "outputId": "3d057104-1f40-4e9b-deba-184683781d88"
      },
      "execution_count": 39,
      "outputs": [
        {
          "output_type": "execute_result",
          "data": {
            "text/plain": [
              "{'Prospect ID': 0.0,\n",
              " 'Lead Number': 0.0,\n",
              " 'Lead Origin': 0.0,\n",
              " 'Lead Source': 0.33600693691740735,\n",
              " 'Do Not Email': 0.0,\n",
              " 'Converted': 0.0,\n",
              " 'TotalVisits': 1.3331888142206807,\n",
              " 'Total Time Spent on Website': 0.0,\n",
              " 'Page Views Per Visit': 1.3331888142206807,\n",
              " 'Last Activity': 1.008020810752222,\n",
              " 'Specialization': 36.483849989161065,\n",
              " 'What is your current occupation': 29.145892044222848,\n",
              " 'Tags': 36.2020377194884,\n",
              " 'City': 39.616301755907216,\n",
              " 'A free copy of Mastering The Interview': 0.0,\n",
              " 'Last Notable Activity': 0.0}"
            ]
          },
          "metadata": {},
          "execution_count": 39
        }
      ]
    },
    {
      "cell_type": "markdown",
      "source": [
        "#### Columns to impute data with heavy number of missing values are - \n",
        "#### * Lead Source\n",
        "#### * Specialization\n",
        "#### * What is your current occupation\n",
        "#### * Tags\n",
        "#### * City"
      ],
      "metadata": {
        "id": "DPmdh829PCNb"
      }
    },
    {
      "cell_type": "markdown",
      "source": [
        "#### We will be using Mode value to impute the missing data in a column\n"
      ],
      "metadata": {
        "id": "tO_2zO52Pfhq"
      }
    },
    {
      "cell_type": "code",
      "source": [
        "icols = [\"Lead Source\", \"Specialization\", \"What is your current occupation\", \"Tags\", \"City\"]\n",
        "for col in icols:\n",
        "  rev_dict = {j:i for i,j in df3[col].value_counts().items()}\n",
        "  df3[col] = df3[col].replace(np.nan,rev_dict[max(rev_dict.keys())])"
      ],
      "metadata": {
        "id": "Wyt6dME4OtBQ"
      },
      "execution_count": 40,
      "outputs": []
    },
    {
      "cell_type": "markdown",
      "source": [
        "#### Final Null values after all Imputation"
      ],
      "metadata": {
        "id": "J_uxyT77SBq1"
      }
    },
    {
      "cell_type": "code",
      "source": [
        "(df3.isnull().sum()*100/len(df3)).to_dict()"
      ],
      "metadata": {
        "colab": {
          "base_uri": "https://localhost:8080/"
        },
        "id": "lM3KC__0O90h",
        "outputId": "ecbdc9a1-e3d7-4a8c-873d-b83588acc7e9"
      },
      "execution_count": 41,
      "outputs": [
        {
          "output_type": "execute_result",
          "data": {
            "text/plain": [
              "{'Prospect ID': 0.0,\n",
              " 'Lead Number': 0.0,\n",
              " 'Lead Origin': 0.0,\n",
              " 'Lead Source': 0.0,\n",
              " 'Do Not Email': 0.0,\n",
              " 'Converted': 0.0,\n",
              " 'TotalVisits': 1.3331888142206807,\n",
              " 'Total Time Spent on Website': 0.0,\n",
              " 'Page Views Per Visit': 1.3331888142206807,\n",
              " 'Last Activity': 1.008020810752222,\n",
              " 'Specialization': 0.0,\n",
              " 'What is your current occupation': 0.0,\n",
              " 'Tags': 0.0,\n",
              " 'City': 0.0,\n",
              " 'A free copy of Mastering The Interview': 0.0,\n",
              " 'Last Notable Activity': 0.0}"
            ]
          },
          "metadata": {},
          "execution_count": 41
        }
      ]
    },
    {
      "cell_type": "markdown",
      "source": [
        "### Dropping remaining Null Values"
      ],
      "metadata": {
        "id": "sIbDE9qBSEWk"
      }
    },
    {
      "cell_type": "code",
      "source": [
        "df4 = df3.dropna()\n",
        "df4.shape"
      ],
      "metadata": {
        "colab": {
          "base_uri": "https://localhost:8080/"
        },
        "id": "x56JFIgLO9xm",
        "outputId": "6ad6dde2-329c-41ca-9741-9234c3173d78"
      },
      "execution_count": 42,
      "outputs": [
        {
          "output_type": "execute_result",
          "data": {
            "text/plain": [
              "(9103, 16)"
            ]
          },
          "metadata": {},
          "execution_count": 42
        }
      ]
    },
    {
      "cell_type": "code",
      "source": [
        "print(\"Total Rows Originally = \",len(df))\n",
        "print(\"************************************************\")\n",
        "print(\"Total rows after all cleaning = \",len(df4))\n",
        "print(\"************************************************\")\n",
        "print(\"Total rows Removed = \", len(df)-len(df4))\n",
        "print(\"************************************************\")\n",
        "print(\"Percentage of rows removed = \", (len(df)-len(df4))/len(df)*100)\n",
        "print(\"************************************************\")\n",
        "print(\"Percentage of rows remaining = \", len(df4)/len(df)*100)"
      ],
      "metadata": {
        "colab": {
          "base_uri": "https://localhost:8080/"
        },
        "id": "MPxvlzWuO9uV",
        "outputId": "8bb7eba3-8c71-4ab9-e569-815d64f44f21"
      },
      "execution_count": 43,
      "outputs": [
        {
          "output_type": "stream",
          "name": "stdout",
          "text": [
            "Total Rows Originally =  9240\n",
            "************************************************\n",
            "Total rows after all cleaning =  9103\n",
            "************************************************\n",
            "Total rows Removed =  137\n",
            "************************************************\n",
            "Percentage of rows removed =  1.4826839826839828\n",
            "************************************************\n",
            "Percentage of rows remaining =  98.51731601731602\n"
          ]
        }
      ]
    },
    {
      "cell_type": "markdown",
      "source": [
        "# EDA"
      ],
      "metadata": {
        "id": "2VHexnI1T25J"
      }
    },
    {
      "cell_type": "code",
      "source": [
        "df4.info()"
      ],
      "metadata": {
        "colab": {
          "base_uri": "https://localhost:8080/"
        },
        "id": "BMsJekBlT_aw",
        "outputId": "1da6e443-deb5-41ed-a25a-970711df7003"
      },
      "execution_count": 44,
      "outputs": [
        {
          "output_type": "stream",
          "name": "stdout",
          "text": [
            "<class 'pandas.core.frame.DataFrame'>\n",
            "Int64Index: 9103 entries, 0 to 9239\n",
            "Data columns (total 16 columns):\n",
            " #   Column                                  Non-Null Count  Dtype  \n",
            "---  ------                                  --------------  -----  \n",
            " 0   Prospect ID                             9103 non-null   object \n",
            " 1   Lead Number                             9103 non-null   int64  \n",
            " 2   Lead Origin                             9103 non-null   object \n",
            " 3   Lead Source                             9103 non-null   object \n",
            " 4   Do Not Email                            9103 non-null   object \n",
            " 5   Converted                               9103 non-null   int64  \n",
            " 6   TotalVisits                             9103 non-null   float64\n",
            " 7   Total Time Spent on Website             9103 non-null   int64  \n",
            " 8   Page Views Per Visit                    9103 non-null   float64\n",
            " 9   Last Activity                           9103 non-null   object \n",
            " 10  Specialization                          9103 non-null   object \n",
            " 11  What is your current occupation         9103 non-null   object \n",
            " 12  Tags                                    9103 non-null   object \n",
            " 13  City                                    9103 non-null   object \n",
            " 14  A free copy of Mastering The Interview  9103 non-null   object \n",
            " 15  Last Notable Activity                   9103 non-null   object \n",
            "dtypes: float64(2), int64(3), object(11)\n",
            "memory usage: 1.2+ MB\n"
          ]
        }
      ]
    },
    {
      "cell_type": "markdown",
      "source": [
        "## Univeriate Analysis"
      ],
      "metadata": {
        "id": "8V3CvnPg3Q0P"
      }
    },
    {
      "cell_type": "code",
      "source": [
        "cat_col = [\"Lead Origin\",\"Lead Source\",\"Do Not Email\",\"Last Activity\",\"Specialization\",\"What is your current occupation\",\"City\",\"Tags\",\"A free copy of Mastering The Interview\",\"Last Notable Activity\"]\n",
        "for col in cat_col:\n",
        "  colors = sns.color_palette('Dark2')[0:]\n",
        "  data = df4[col].value_counts().to_list()\n",
        "  #create pie chart\n",
        "  plt.figure(figsize=(7,7))\n",
        "  plt.pie(data, labels = list(df4[col].value_counts().to_dict().keys()), colors = colors, autopct='%.0f%%')\n",
        "  plt.title(col)\n",
        "  plt.legend(loc= \"best\")\n",
        "  plt.show()"
      ],
      "metadata": {
        "colab": {
          "base_uri": "https://localhost:8080/",
          "height": 1000
        },
        "id": "tp1EZDPGUDG0",
        "outputId": "79fcfebb-649a-4c02-ede3-fdfc5d0d541d"
      },
      "execution_count": 45,
      "outputs": [
        {
          "output_type": "display_data",
          "data": {
            "text/plain": [
              "<Figure size 504x504 with 1 Axes>"
            ],
            "image/png": "[encoded data removed]"
          },
          "metadata": {}
        },
        {
          "output_type": "display_data",
          "data": {
            "text/plain": [
              "<Figure size 504x504 with 1 Axes>"
            ],
            "image/png": "[encoded data removed]"
          },
          "metadata": {}
        },
        {
          "output_type": "display_data",
          "data": {
            "text/plain": [
              "<Figure size 504x504 with 1 Axes>"
            ],
            "image/png": "[encoded data removed]"
          },
          "metadata": {}
        },
        {
          "output_type": "display_data",
          "data": {
            "text/plain": [
              "<Figure size 504x504 with 1 Axes>"
            ],
            "image/png": "[encoded data removed]"
          },
          "metadata": {}
        },
        {
          "output_type": "display_data",
          "data": {
            "text/plain": [
              "<Figure size 504x504 with 1 Axes>"
            ],
            "image/png": "[encoded data removed]"
          },
          "metadata": {}
        },
        {
          "output_type": "display_data",
          "data": {
            "text/plain": [
              "<Figure size 504x504 with 1 Axes>"
            ],
            "image/png": "[encoded data removed]"
          },
          "metadata": {}
        },
        {
          "output_type": "display_data",
          "data": {
            "text/plain": [
              "<Figure size 504x504 with 1 Axes>"
            ],
            "image/png": "[encoded data removed]"
          },
          "metadata": {}
        },
        {
          "output_type": "display_data",
          "data": {
            "text/plain": [
              "<Figure size 504x504 with 1 Axes>"
            ],
            "image/png": "[encoded data removed]"
          },
          "metadata": {}
        },
        {
          "output_type": "display_data",
          "data": {
            "text/plain": [
              "<Figure size 504x504 with 1 Axes>"
            ],
            "image/png": "[encoded data removed]"
          },
          "metadata": {}
        },
        {
          "output_type": "display_data",
          "data": {
            "text/plain": [
              "<Figure size 504x504 with 1 Axes>"
            ],
            "image/png": "[encoded data removed]"
          },
          "metadata": {}
        }
      ]
    },
    {
      "cell_type": "code",
      "source": [
        "cat_col = [\"Lead Origin\",\"Lead Source\",\"Do Not Email\",\"Last Activity\",\"Specialization\",\"What is your current occupation\",\"City\",\"Tags\",\"A free copy of Mastering The Interview\",\"Last Notable Activity\"]\n",
        "for col in cat_col:\n",
        "  data = df4[col].value_counts().to_dict()\n",
        "  courses = list(data.keys())\n",
        "  values = list(data.values())\n",
        "    \n",
        "  fig = plt.figure(figsize = (10, 5))\n",
        "  \n",
        "  # creating the bar plot\n",
        "  plt.bar(courses, values, color ='rgbkymc',\n",
        "          width = 0.4)\n",
        "  \n",
        "  plt.title(col)\n",
        "  plt.show()"
      ],
      "metadata": {
        "colab": {
          "base_uri": "https://localhost:8080/",
          "height": 1000
        },
        "id": "O3G2yU-43u2g",
        "outputId": "1ed95451-fed3-48e5-f1ad-f8cb04855160"
      },
      "execution_count": 46,
      "outputs": [
        {
          "output_type": "display_data",
          "data": {
            "text/plain": [
              "<Figure size 720x360 with 1 Axes>"
            ],
            "image/png": "[encoded data removed]"
          },
          "metadata": {
            "needs_background": "light"
          }
        },
        {
          "output_type": "display_data",
          "data": {
            "text/plain": [
              "<Figure size 720x360 with 1 Axes>"
            ],
            "image/png": "[encoded data removed]"
          },
          "metadata": {
            "needs_background": "light"
          }
        },
        {
          "output_type": "display_data",
          "data": {
            "text/plain": [
              "<Figure size 720x360 with 1 Axes>"
            ],
            "image/png": "[encoded data removed]"
          },
          "metadata": {
            "needs_background": "light"
          }
        },
        {
          "output_type": "display_data",
          "data": {
            "text/plain": [
              "<Figure size 720x360 with 1 Axes>"
            ],
            "image/png": "[encoded data removed]"
          },
          "metadata": {
            "needs_background": "light"
          }
        },
        {
          "output_type": "display_data",
          "data": {
            "text/plain": [
              "<Figure size 720x360 with 1 Axes>"
            ],
            "image/png": "[encoded data removed]"
          },
          "metadata": {
            "needs_background": "light"
          }
        },
        {
          "output_type": "display_data",
          "data": {
            "text/plain": [
              "<Figure size 720x360 with 1 Axes>"
            ],
            "image/png": "[encoded data removed]"
          },
          "metadata": {
            "needs_background": "light"
          }
        },
        {
          "output_type": "display_data",
          "data": {
            "text/plain": [
              "<Figure size 720x360 with 1 Axes>"
            ],
            "image/png": "[encoded data removed]"
          },
          "metadata": {
            "needs_background": "light"
          }
        },
        {
          "output_type": "display_data",
          "data": {
            "text/plain": [
              "<Figure size 720x360 with 1 Axes>"
            ],
            "image/png": "[encoded data removed]"
          },
          "metadata": {
            "needs_background": "light"
          }
        },
        {
          "output_type": "display_data",
          "data": {
            "text/plain": [
              "<Figure size 720x360 with 1 Axes>"
            ],
            "image/png": "[encoded data removed]"
          },
          "metadata": {
            "needs_background": "light"
          }
        },
        {
          "output_type": "display_data",
          "data": {
            "text/plain": [
              "<Figure size 720x360 with 1 Axes>"
            ],
            "image/png": "[encoded data removed]"
          },
          "metadata": {
            "needs_background": "light"
          }
        }
      ]
    },
    {
      "cell_type": "code",
      "source": [
        "for i in [\"TotalVisits\",\"Total Time Spent on Website\",\"Page Views Per Visit\"]:\n",
        "  sns.boxplot(df4[i],orient = \"v\")\n",
        "  plt.show()"
      ],
      "metadata": {
        "colab": {
          "base_uri": "https://localhost:8080/",
          "height": 803
        },
        "id": "kVJB87sEBfi1",
        "outputId": "76d4e7fd-dbca-46f3-d851-4a05afc3e811"
      },
      "execution_count": 47,
      "outputs": [
        {
          "output_type": "display_data",
          "data": {
            "text/plain": [
              "<Figure size 432x288 with 1 Axes>"
            ],
            "image/png": "[encoded data removed]"
          },
          "metadata": {
            "needs_background": "light"
          }
        },
        {
          "output_type": "display_data",
          "data": {
            "text/plain": [
              "<Figure size 432x288 with 1 Axes>"
            ],
            "image/png": "[encoded data removed]"
          },
          "metadata": {
            "needs_background": "light"
          }
        },
        {
          "output_type": "display_data",
          "data": {
            "text/plain": [
              "<Figure size 432x288 with 1 Axes>"
            ],
            "image/png": "[encoded data removed]"
          },
          "metadata": {
            "needs_background": "light"
          }
        }
      ]
    },
    {
      "cell_type": "code",
      "source": [
        " for i in [\"TotalVisits\",\"Total Time Spent on Website\",\"Page Views Per Visit\"]:\n",
        "  sns.distplot(df4[i])\n",
        "  plt.show()"
      ],
      "metadata": {
        "colab": {
          "base_uri": "https://localhost:8080/",
          "height": 803
        },
        "id": "sOJ9XWtXSTMB",
        "outputId": "73003c8f-adef-4b9a-98f2-b8483dfeb131"
      },
      "execution_count": 48,
      "outputs": [
        {
          "output_type": "display_data",
          "data": {
            "text/plain": [
              "<Figure size 432x288 with 1 Axes>"
            ],
            "image/png": "[encoded data removed]"
          },
          "metadata": {
            "needs_background": "light"
          }
        },
        {
          "output_type": "display_data",
          "data": {
            "text/plain": [
              "<Figure size 432x288 with 1 Axes>"
            ],
            "image/png": "[encoded data removed]"
          },
          "metadata": {
            "needs_background": "light"
          }
        },
        {
          "output_type": "display_data",
          "data": {
            "text/plain": [
              "<Figure size 432x288 with 1 Axes>"
            ],
            "image/png": "[encoded data removed]"
          },
          "metadata": {
            "needs_background": "light"
          }
        }
      ]
    },
    {
      "cell_type": "markdown",
      "source": [
        "### Bivariate Analysis"
      ],
      "metadata": {
        "id": "3e0235nLTE-V"
      }
    },
    {
      "cell_type": "code",
      "source": [
        "sns.heatmap(df4.corr(), cmap=\"YlGnBu\", annot=True)\n",
        "plt.show()"
      ],
      "metadata": {
        "colab": {
          "base_uri": "https://localhost:8080/",
          "height": 400
        },
        "id": "B50Tzh_GSsou",
        "outputId": "742d2706-c81f-4dce-87e2-f6c6c4d9e533"
      },
      "execution_count": 49,
      "outputs": [
        {
          "output_type": "display_data",
          "data": {
            "text/plain": [
              "<Figure size 432x288 with 2 Axes>"
            ],
            "image/png": "[encoded data removed]"
          },
          "metadata": {
            "needs_background": "light"
          }
        }
      ]
    },
    {
      "cell_type": "code",
      "source": [
        "sns.pairplot(df4, vars=[\"TotalVisits\",\"Total Time Spent on Website\",\"Page Views Per Visit\",\"Converted\"])\n",
        "plt.title(\"Correlation between all Numeric variables\")\n",
        "plt.show()"
      ],
      "metadata": {
        "colab": {
          "base_uri": "https://localhost:8080/",
          "height": 726
        },
        "id": "WOnDi6C8TId0",
        "outputId": "b2197c39-1685-4db9-82a4-79aec023c975"
      },
      "execution_count": 50,
      "outputs": [
        {
          "output_type": "display_data",
          "data": {
            "text/plain": [
              "<Figure size 720x720 with 20 Axes>"
            ],
            "image/png": "[encoded data removed]"
          },
          "metadata": {
            "needs_background": "light"
          }
        }
      ]
    },
    {
      "cell_type": "markdown",
      "source": [
        "# Data Preperation"
      ],
      "metadata": {
        "id": "fAS1db93UuR0"
      }
    },
    {
      "cell_type": "code",
      "source": [
        "df4.head(2)"
      ],
      "metadata": {
        "colab": {
          "base_uri": "https://localhost:8080/",
          "height": 350
        },
        "id": "uuYqv2TCTz_j",
        "outputId": "81aa6894-d8e3-4233-cd31-73a6efb7eb30"
      },
      "execution_count": 51,
      "outputs": [
        {
          "output_type": "execute_result",
          "data": {
            "text/plain": [
              "                            Prospect ID  Lead Number Lead Origin  \\\n",
              "0  7927b2df-8bba-4d29-b9a2-b6e0beafe620       660737         API   \n",
              "1  2a272436-5132-4136-86fa-dcc88c88f482       660728         API   \n",
              "\n",
              "      Lead Source Do Not Email  Converted  TotalVisits  \\\n",
              "0      Olark Chat           No          0          0.0   \n",
              "1  Organic Search           No          0          5.0   \n",
              "\n",
              "   Total Time Spent on Website  Page Views Per Visit            Last Activity  \\\n",
              "0                            0                   0.0  Page Visited on Website   \n",
              "1                          674                   2.5             Email Opened   \n",
              "\n",
              "     Specialization What is your current occupation  \\\n",
              "0  Management Study                      Unemployed   \n",
              "1  Management Study                      Unemployed   \n",
              "\n",
              "                          Tags    City A free copy of Mastering The Interview  \\\n",
              "0  Interested in other courses  Mumbai                                  Never   \n",
              "1                      Ringing  Mumbai                                  Never   \n",
              "\n",
              "  Last Notable Activity  \n",
              "0              Modified  \n",
              "1          Email Opened  "
            ],
            "text/html": [
              "\n",
              "  <div id=\"df-fc686606-bbbc-4a90-abeb-8a01f0f241d5\">\n",
              "    <div class=\"colab-df-container\">\n",
              "      <div>\n",
              "<style scoped>\n",
              "    .dataframe tbody tr th:only-of-type {\n",
              "        vertical-align: middle;\n",
              "    }\n",
              "\n",
              "    .dataframe tbody tr th {\n",
              "        vertical-align: top;\n",
              "    }\n",
              "\n",
              "    .dataframe thead th {\n",
              "        text-align: right;\n",
              "    }\n",
              "</style>\n",
              "<table border=\"1\" class=\"dataframe\">\n",
              "  <thead>\n",
              "    <tr style=\"text-align: right;\">\n",
              "      <th></th>\n",
              "      <th>Prospect ID</th>\n",
              "      <th>Lead Number</th>\n",
              "      <th>Lead Origin</th>\n",
              "      <th>Lead Source</th>\n",
              "      <th>Do Not Email</th>\n",
              "      <th>Converted</th>\n",
              "      <th>TotalVisits</th>\n",
              "      <th>Total Time Spent on Website</th>\n",
              "      <th>Page Views Per Visit</th>\n",
              "      <th>Last Activity</th>\n",
              "      <th>Specialization</th>\n",
              "      <th>What is your current occupation</th>\n",
              "      <th>Tags</th>\n",
              "      <th>City</th>\n",
              "      <th>A free copy of Mastering The Interview</th>\n",
              "      <th>Last Notable Activity</th>\n",
              "    </tr>\n",
              "  </thead>\n",
              "  <tbody>\n",
              "    <tr>\n",
              "      <th>0</th>\n",
              "      <td>7927b2df-8bba-4d29-b9a2-b6e0beafe620</td>\n",
              "      <td>660737</td>\n",
              "      <td>API</td>\n",
              "      <td>Olark Chat</td>\n",
              "      <td>No</td>\n",
              "      <td>0</td>\n",
              "      <td>0.0</td>\n",
              "      <td>0</td>\n",
              "      <td>0.0</td>\n",
              "      <td>Page Visited on Website</td>\n",
              "      <td>Management Study</td>\n",
              "      <td>Unemployed</td>\n",
              "      <td>Interested in other courses</td>\n",
              "      <td>Mumbai</td>\n",
              "      <td>Never</td>\n",
              "      <td>Modified</td>\n",
              "    </tr>\n",
              "    <tr>\n",
              "      <th>1</th>\n",
              "      <td>2a272436-5132-4136-86fa-dcc88c88f482</td>\n",
              "      <td>660728</td>\n",
              "      <td>API</td>\n",
              "      <td>Organic Search</td>\n",
              "      <td>No</td>\n",
              "      <td>0</td>\n",
              "      <td>5.0</td>\n",
              "      <td>674</td>\n",
              "      <td>2.5</td>\n",
              "      <td>Email Opened</td>\n",
              "      <td>Management Study</td>\n",
              "      <td>Unemployed</td>\n",
              "      <td>Ringing</td>\n",
              "      <td>Mumbai</td>\n",
              "      <td>Never</td>\n",
              "      <td>Email Opened</td>\n",
              "    </tr>\n",
              "  </tbody>\n",
              "</table>\n",
              "</div>\n",
              "      <button class=\"colab-df-convert\" onclick=\"convertToInteractive('df-fc686606-bbbc-4a90-abeb-8a01f0f241d5')\"\n",
              "              title=\"Convert this dataframe to an interactive table.\"\n",
              "              style=\"display:none;\">\n",
              "        \n",
              "  <svg xmlns=\"http://www.w3.org/2000/svg\" height=\"24px\"viewBox=\"0 0 24 24\"\n",
              "       width=\"24px\">\n",
              "    <path d=\"M0 0h24v24H0V0z\" fill=\"none\"/>\n",
              "    <path d=\"M18.56 5.44l.94 2.06.94-2.06 2.06-.94-2.06-.94-.94-2.06-.94 2.06-2.06.94zm-11 1L8.5 8.5l.94-2.06 2.06-.94-2.06-.94L8.5 2.5l-.94 2.06-2.06.94zm10 10l.94 2.06.94-2.06 2.06-.94-2.06-.94-.94-2.06-.94 2.06-2.06.94z\"/><path d=\"M17.41 7.96l-1.37-1.37c-.4-.4-.92-.59-1.43-.59-.52 0-1.04.2-1.43.59L10.3 9.45l-7.72 7.72c-.78.78-.78 2.05 0 2.83L4 21.41c.39.39.9.59 1.41.59.51 0 1.02-.2 1.41-.59l7.78-7.78 2.81-2.81c.8-.78.8-2.07 0-2.86zM5.41 20L4 18.59l7.72-7.72 1.47 1.35L5.41 20z\"/>\n",
              "  </svg>\n",
              "      </button>\n",
              "      \n",
              "  <style>\n",
              "    .colab-df-container {\n",
              "      display:flex;\n",
              "      flex-wrap:wrap;\n",
              "      gap: 12px;\n",
              "    }\n",
              "\n",
              "    .colab-df-convert {\n",
              "      background-color: #E8F0FE;\n",
              "      border: none;\n",
              "      border-radius: 50%;\n",
              "      cursor: pointer;\n",
              "      display: none;\n",
              "      fill: #1967D2;\n",
              "      height: 32px;\n",
              "      padding: 0 0 0 0;\n",
              "      width: 32px;\n",
              "    }\n",
              "\n",
              "    .colab-df-convert:hover {\n",
              "      background-color: #E2EBFA;\n",
              "      box-shadow: 0px 1px 2px rgba(60, 64, 67, 0.3), 0px 1px 3px 1px rgba(60, 64, 67, 0.15);\n",
              "      fill: #174EA6;\n",
              "    }\n",
              "\n",
              "    [theme=dark] .colab-df-convert {\n",
              "      background-color: #3B4455;\n",
              "      fill: #D2E3FC;\n",
              "    }\n",
              "\n",
              "    [theme=dark] .colab-df-convert:hover {\n",
              "      background-color: #434B5C;\n",
              "      box-shadow: 0px 1px 3px 1px rgba(0, 0, 0, 0.15);\n",
              "      filter: drop-shadow(0px 1px 2px rgba(0, 0, 0, 0.3));\n",
              "      fill: #FFFFFF;\n",
              "    }\n",
              "  </style>\n",
              "\n",
              "      <script>\n",
              "        const buttonEl =\n",
              "          document.querySelector('#df-fc686606-bbbc-4a90-abeb-8a01f0f241d5 button.colab-df-convert');\n",
              "        buttonEl.style.display =\n",
              "          google.colab.kernel.accessAllowed ? 'block' : 'none';\n",
              "\n",
              "        async function convertToInteractive(key) {\n",
              "          const element = document.querySelector('#df-fc686606-bbbc-4a90-abeb-8a01f0f241d5');\n",
              "          const dataTable =\n",
              "            await google.colab.kernel.invokeFunction('convertToInteractive',\n",
              "                                                     [key], {});\n",
              "          if (!dataTable) return;\n",
              "\n",
              "          const docLinkHtml = 'Like what you see? Visit the ' +\n",
              "            '<a target=\"_blank\" href=https://colab.research.google.com/notebooks/data_table.ipynb>data table notebook</a>'\n",
              "            + ' to learn more about interactive tables.';\n",
              "          element.innerHTML = '';\n",
              "          dataTable['output_type'] = 'display_data';\n",
              "          await google.colab.output.renderOutput(dataTable, element);\n",
              "          const docLink = document.createElement('div');\n",
              "          docLink.innerHTML = docLinkHtml;\n",
              "          element.appendChild(docLink);\n",
              "        }\n",
              "      </script>\n",
              "    </div>\n",
              "  </div>\n",
              "  "
            ]
          },
          "metadata": {},
          "execution_count": 51
        }
      ]
    },
    {
      "cell_type": "code",
      "source": [
        "df4.info()"
      ],
      "metadata": {
        "colab": {
          "base_uri": "https://localhost:8080/"
        },
        "id": "HTT5FTB9Vl_W",
        "outputId": "0a44458a-dae6-4b68-dac3-8fed500b5c44"
      },
      "execution_count": 52,
      "outputs": [
        {
          "output_type": "stream",
          "name": "stdout",
          "text": [
            "<class 'pandas.core.frame.DataFrame'>\n",
            "Int64Index: 9103 entries, 0 to 9239\n",
            "Data columns (total 16 columns):\n",
            " #   Column                                  Non-Null Count  Dtype  \n",
            "---  ------                                  --------------  -----  \n",
            " 0   Prospect ID                             9103 non-null   object \n",
            " 1   Lead Number                             9103 non-null   int64  \n",
            " 2   Lead Origin                             9103 non-null   object \n",
            " 3   Lead Source                             9103 non-null   object \n",
            " 4   Do Not Email                            9103 non-null   object \n",
            " 5   Converted                               9103 non-null   int64  \n",
            " 6   TotalVisits                             9103 non-null   float64\n",
            " 7   Total Time Spent on Website             9103 non-null   int64  \n",
            " 8   Page Views Per Visit                    9103 non-null   float64\n",
            " 9   Last Activity                           9103 non-null   object \n",
            " 10  Specialization                          9103 non-null   object \n",
            " 11  What is your current occupation         9103 non-null   object \n",
            " 12  Tags                                    9103 non-null   object \n",
            " 13  City                                    9103 non-null   object \n",
            " 14  A free copy of Mastering The Interview  9103 non-null   object \n",
            " 15  Last Notable Activity                   9103 non-null   object \n",
            "dtypes: float64(2), int64(3), object(11)\n",
            "memory usage: 1.4+ MB\n"
          ]
        }
      ]
    },
    {
      "cell_type": "code",
      "source": [
        "cat_col = [\"Lead Origin\",\"Lead Source\",\"Do Not Email\",\"Last Activity\",\"Specialization\",\"What is your current occupation\",\"City\",\"Tags\",\"A free copy of Mastering The Interview\",\"Last Notable Activity\"]"
      ],
      "metadata": {
        "id": "vWg3y_FEVA5U"
      },
      "execution_count": 53,
      "outputs": []
    },
    {
      "cell_type": "code",
      "source": [
        "lstcol = [df4]\n",
        "for col in cat_col:\n",
        "  lstcol.append(pd.get_dummies(df4[col],drop_first=True))"
      ],
      "metadata": {
        "id": "9K4d5CMRXEm7"
      },
      "execution_count": 54,
      "outputs": []
    },
    {
      "cell_type": "code",
      "source": [
        "df5 = pd.concat(lstcol, axis = 1)\n",
        "df5.drop(cat_col, axis = 1, inplace = True)\n",
        "df5.head(2)"
      ],
      "metadata": {
        "colab": {
          "base_uri": "https://localhost:8080/",
          "height": 396
        },
        "id": "CTcNYYV3XXfd",
        "outputId": "60321be2-a490-4083-b444-eea8bf410302"
      },
      "execution_count": 55,
      "outputs": [
        {
          "output_type": "execute_result",
          "data": {
            "text/plain": [
              "                            Prospect ID  Lead Number  Converted  TotalVisits  \\\n",
              "0  7927b2df-8bba-4d29-b9a2-b6e0beafe620       660737          0          0.0   \n",
              "1  2a272436-5132-4136-86fa-dcc88c88f482       660728          0          5.0   \n",
              "\n",
              "   Total Time Spent on Website  Page Views Per Visit  Landing Page Submission  \\\n",
              "0                            0                   0.0                        0   \n",
              "1                          674                   2.5                        0   \n",
              "\n",
              "   Lead Import and Others  Google  Olark Chat  ...  Other Cities  \\\n",
              "0                       0       0           1  ...             0   \n",
              "1                       0       0           0  ...             0   \n",
              "\n",
              "   Thane & Outskirts  Closed by Horizzon and Others  \\\n",
              "0                  0                              0   \n",
              "1                  0                              0   \n",
              "\n",
              "   Interested in other courses  Ringing  Will revert after reading the email  \\\n",
              "0                            1        0                                    0   \n",
              "1                            0        1                                    0   \n",
              "\n",
              "   Sure  Modified  Page Visited and Others  SMS Sent  \n",
              "0     0         1                        0         0  \n",
              "1     0         0                        0         0  \n",
              "\n",
              "[2 rows x 31 columns]"
            ],
            "text/html": [
              "\n",
              "  <div id=\"df-ff571b9b-e480-4f0f-8dd2-c3bcad62c42c\">\n",
              "    <div class=\"colab-df-container\">\n",
              "      <div>\n",
              "<style scoped>\n",
              "    .dataframe tbody tr th:only-of-type {\n",
              "        vertical-align: middle;\n",
              "    }\n",
              "\n",
              "    .dataframe tbody tr th {\n",
              "        vertical-align: top;\n",
              "    }\n",
              "\n",
              "    .dataframe thead th {\n",
              "        text-align: right;\n",
              "    }\n",
              "</style>\n",
              "<table border=\"1\" class=\"dataframe\">\n",
              "  <thead>\n",
              "    <tr style=\"text-align: right;\">\n",
              "      <th></th>\n",
              "      <th>Prospect ID</th>\n",
              "      <th>Lead Number</th>\n",
              "      <th>Converted</th>\n",
              "      <th>TotalVisits</th>\n",
              "      <th>Total Time Spent on Website</th>\n",
              "      <th>Page Views Per Visit</th>\n",
              "      <th>Landing Page Submission</th>\n",
              "      <th>Lead Import and Others</th>\n",
              "      <th>Google</th>\n",
              "      <th>Olark Chat</th>\n",
              "      <th>...</th>\n",
              "      <th>Other Cities</th>\n",
              "      <th>Thane &amp; Outskirts</th>\n",
              "      <th>Closed by Horizzon and Others</th>\n",
              "      <th>Interested in other courses</th>\n",
              "      <th>Ringing</th>\n",
              "      <th>Will revert after reading the email</th>\n",
              "      <th>Sure</th>\n",
              "      <th>Modified</th>\n",
              "      <th>Page Visited and Others</th>\n",
              "      <th>SMS Sent</th>\n",
              "    </tr>\n",
              "  </thead>\n",
              "  <tbody>\n",
              "    <tr>\n",
              "      <th>0</th>\n",
              "      <td>7927b2df-8bba-4d29-b9a2-b6e0beafe620</td>\n",
              "      <td>660737</td>\n",
              "      <td>0</td>\n",
              "      <td>0.0</td>\n",
              "      <td>0</td>\n",
              "      <td>0.0</td>\n",
              "      <td>0</td>\n",
              "      <td>0</td>\n",
              "      <td>0</td>\n",
              "      <td>1</td>\n",
              "      <td>...</td>\n",
              "      <td>0</td>\n",
              "      <td>0</td>\n",
              "      <td>0</td>\n",
              "      <td>1</td>\n",
              "      <td>0</td>\n",
              "      <td>0</td>\n",
              "      <td>0</td>\n",
              "      <td>1</td>\n",
              "      <td>0</td>\n",
              "      <td>0</td>\n",
              "    </tr>\n",
              "    <tr>\n",
              "      <th>1</th>\n",
              "      <td>2a272436-5132-4136-86fa-dcc88c88f482</td>\n",
              "      <td>660728</td>\n",
              "      <td>0</td>\n",
              "      <td>5.0</td>\n",
              "      <td>674</td>\n",
              "      <td>2.5</td>\n",
              "      <td>0</td>\n",
              "      <td>0</td>\n",
              "      <td>0</td>\n",
              "      <td>0</td>\n",
              "      <td>...</td>\n",
              "      <td>0</td>\n",
              "      <td>0</td>\n",
              "      <td>0</td>\n",
              "      <td>0</td>\n",
              "      <td>1</td>\n",
              "      <td>0</td>\n",
              "      <td>0</td>\n",
              "      <td>0</td>\n",
              "      <td>0</td>\n",
              "      <td>0</td>\n",
              "    </tr>\n",
              "  </tbody>\n",
              "</table>\n",
              "<p>2 rows × 31 columns</p>\n",
              "</div>\n",
              "      <button class=\"colab-df-convert\" onclick=\"convertToInteractive('df-ff571b9b-e480-4f0f-8dd2-c3bcad62c42c')\"\n",
              "              title=\"Convert this dataframe to an interactive table.\"\n",
              "              style=\"display:none;\">\n",
              "        \n",
              "  <svg xmlns=\"http://www.w3.org/2000/svg\" height=\"24px\"viewBox=\"0 0 24 24\"\n",
              "       width=\"24px\">\n",
              "    <path d=\"M0 0h24v24H0V0z\" fill=\"none\"/>\n",
              "    <path d=\"M18.56 5.44l.94 2.06.94-2.06 2.06-.94-2.06-.94-.94-2.06-.94 2.06-2.06.94zm-11 1L8.5 8.5l.94-2.06 2.06-.94-2.06-.94L8.5 2.5l-.94 2.06-2.06.94zm10 10l.94 2.06.94-2.06 2.06-.94-2.06-.94-.94-2.06-.94 2.06-2.06.94z\"/><path d=\"M17.41 7.96l-1.37-1.37c-.4-.4-.92-.59-1.43-.59-.52 0-1.04.2-1.43.59L10.3 9.45l-7.72 7.72c-.78.78-.78 2.05 0 2.83L4 21.41c.39.39.9.59 1.41.59.51 0 1.02-.2 1.41-.59l7.78-7.78 2.81-2.81c.8-.78.8-2.07 0-2.86zM5.41 20L4 18.59l7.72-7.72 1.47 1.35L5.41 20z\"/>\n",
              "  </svg>\n",
              "      </button>\n",
              "      \n",
              "  <style>\n",
              "    .colab-df-container {\n",
              "      display:flex;\n",
              "      flex-wrap:wrap;\n",
              "      gap: 12px;\n",
              "    }\n",
              "\n",
              "    .colab-df-convert {\n",
              "      background-color: #E8F0FE;\n",
              "      border: none;\n",
              "      border-radius: 50%;\n",
              "      cursor: pointer;\n",
              "      display: none;\n",
              "      fill: #1967D2;\n",
              "      height: 32px;\n",
              "      padding: 0 0 0 0;\n",
              "      width: 32px;\n",
              "    }\n",
              "\n",
              "    .colab-df-convert:hover {\n",
              "      background-color: #E2EBFA;\n",
              "      box-shadow: 0px 1px 2px rgba(60, 64, 67, 0.3), 0px 1px 3px 1px rgba(60, 64, 67, 0.15);\n",
              "      fill: #174EA6;\n",
              "    }\n",
              "\n",
              "    [theme=dark] .colab-df-convert {\n",
              "      background-color: #3B4455;\n",
              "      fill: #D2E3FC;\n",
              "    }\n",
              "\n",
              "    [theme=dark] .colab-df-convert:hover {\n",
              "      background-color: #434B5C;\n",
              "      box-shadow: 0px 1px 3px 1px rgba(0, 0, 0, 0.15);\n",
              "      filter: drop-shadow(0px 1px 2px rgba(0, 0, 0, 0.3));\n",
              "      fill: #FFFFFF;\n",
              "    }\n",
              "  </style>\n",
              "\n",
              "      <script>\n",
              "        const buttonEl =\n",
              "          document.querySelector('#df-ff571b9b-e480-4f0f-8dd2-c3bcad62c42c button.colab-df-convert');\n",
              "        buttonEl.style.display =\n",
              "          google.colab.kernel.accessAllowed ? 'block' : 'none';\n",
              "\n",
              "        async function convertToInteractive(key) {\n",
              "          const element = document.querySelector('#df-ff571b9b-e480-4f0f-8dd2-c3bcad62c42c');\n",
              "          const dataTable =\n",
              "            await google.colab.kernel.invokeFunction('convertToInteractive',\n",
              "                                                     [key], {});\n",
              "          if (!dataTable) return;\n",
              "\n",
              "          const docLinkHtml = 'Like what you see? Visit the ' +\n",
              "            '<a target=\"_blank\" href=https://colab.research.google.com/notebooks/data_table.ipynb>data table notebook</a>'\n",
              "            + ' to learn more about interactive tables.';\n",
              "          element.innerHTML = '';\n",
              "          dataTable['output_type'] = 'display_data';\n",
              "          await google.colab.output.renderOutput(dataTable, element);\n",
              "          const docLink = document.createElement('div');\n",
              "          docLink.innerHTML = docLinkHtml;\n",
              "          element.appendChild(docLink);\n",
              "        }\n",
              "      </script>\n",
              "    </div>\n",
              "  </div>\n",
              "  "
            ]
          },
          "metadata": {},
          "execution_count": 55
        }
      ]
    },
    {
      "cell_type": "code",
      "source": [
        "data_train, data_test, y_train, y_test = train_test_split(df5, df5[\"Converted\"], test_size=0.3, random_state = 1000, stratify = df5[\"Converted\"])\n",
        "data_train.drop([\"Converted\"], inplace = True, axis = 1)\n",
        "data_test.drop([\"Converted\"], inplace = True, axis = 1)\n",
        "print(\"Number of data points in train data\", data_train.shape)\n",
        "print('-'*50)\n",
        "print(\"Number of data points in test data\", data_test.shape)"
      ],
      "metadata": {
        "colab": {
          "base_uri": "https://localhost:8080/"
        },
        "id": "k88uyPohXyi6",
        "outputId": "64e7b460-fbf6-4202-8fa5-d4e20f274a46"
      },
      "execution_count": 56,
      "outputs": [
        {
          "output_type": "stream",
          "name": "stdout",
          "text": [
            "Number of data points in train data (6372, 30)\n",
            "--------------------------------------------------\n",
            "Number of data points in test data (2731, 30)\n"
          ]
        }
      ]
    },
    {
      "cell_type": "code",
      "source": [
        "scaler = MinMaxScaler()"
      ],
      "metadata": {
        "id": "-hh5PY1_YbTh"
      },
      "execution_count": 57,
      "outputs": []
    },
    {
      "cell_type": "code",
      "source": [
        "# Train Data\n",
        "num_vars = [\"TotalVisits\",\"Total Time Spent on Website\",\"Page Views Per Visit\"]\n",
        "data_train[num_vars] = scaler.fit_transform(data_train[num_vars])\n",
        "data_train.head(2)"
      ],
      "metadata": {
        "colab": {
          "base_uri": "https://localhost:8080/",
          "height": 396
        },
        "id": "IgaOzgFgXKOP",
        "outputId": "636d41f6-6812-45c6-bafa-a33518cd667b"
      },
      "execution_count": 58,
      "outputs": [
        {
          "output_type": "execute_result",
          "data": {
            "text/plain": [
              "                               Prospect ID  Lead Number  TotalVisits  \\\n",
              "8795  10cb3520-b834-4a6e-8e1f-14687f7e757c       582737     0.015936   \n",
              "4366  c7140518-2ee5-446f-a6be-a2d5a09835f3       617867     0.019920   \n",
              "\n",
              "      Total Time Spent on Website  Page Views Per Visit  \\\n",
              "8795                     0.119278              0.072727   \n",
              "4366                     0.035211              0.090909   \n",
              "\n",
              "      Landing Page Submission  Lead Import and Others  Google  Olark Chat  \\\n",
              "8795                        1                       0       0           0   \n",
              "4366                        1                       0       1           0   \n",
              "\n",
              "      Organic Search  ...  Other Cities  Thane & Outskirts  \\\n",
              "8795               1  ...             1                  0   \n",
              "4366               0  ...             1                  0   \n",
              "\n",
              "      Closed by Horizzon and Others  Interested in other courses  Ringing  \\\n",
              "8795                              1                            0        0   \n",
              "4366                              0                            0        0   \n",
              "\n",
              "      Will revert after reading the email  Sure  Modified  \\\n",
              "8795                                    0     1         0   \n",
              "4366                                    1     0         0   \n",
              "\n",
              "      Page Visited and Others  SMS Sent  \n",
              "8795                        0         0  \n",
              "4366                        0         0  \n",
              "\n",
              "[2 rows x 30 columns]"
            ],
            "text/html": [
              "\n",
              "  <div id=\"df-923cc527-3c3f-45b1-b605-9e9baa545f2d\">\n",
              "    <div class=\"colab-df-container\">\n",
              "      <div>\n",
              "<style scoped>\n",
              "    .dataframe tbody tr th:only-of-type {\n",
              "        vertical-align: middle;\n",
              "    }\n",
              "\n",
              "    .dataframe tbody tr th {\n",
              "        vertical-align: top;\n",
              "    }\n",
              "\n",
              "    .dataframe thead th {\n",
              "        text-align: right;\n",
              "    }\n",
              "</style>\n",
              "<table border=\"1\" class=\"dataframe\">\n",
              "  <thead>\n",
              "    <tr style=\"text-align: right;\">\n",
              "      <th></th>\n",
              "      <th>Prospect ID</th>\n",
              "      <th>Lead Number</th>\n",
              "      <th>TotalVisits</th>\n",
              "      <th>Total Time Spent on Website</th>\n",
              "      <th>Page Views Per Visit</th>\n",
              "      <th>Landing Page Submission</th>\n",
              "      <th>Lead Import and Others</th>\n",
              "      <th>Google</th>\n",
              "      <th>Olark Chat</th>\n",
              "      <th>Organic Search</th>\n",
              "      <th>...</th>\n",
              "      <th>Other Cities</th>\n",
              "      <th>Thane &amp; Outskirts</th>\n",
              "      <th>Closed by Horizzon and Others</th>\n",
              "      <th>Interested in other courses</th>\n",
              "      <th>Ringing</th>\n",
              "      <th>Will revert after reading the email</th>\n",
              "      <th>Sure</th>\n",
              "      <th>Modified</th>\n",
              "      <th>Page Visited and Others</th>\n",
              "      <th>SMS Sent</th>\n",
              "    </tr>\n",
              "  </thead>\n",
              "  <tbody>\n",
              "    <tr>\n",
              "      <th>8795</th>\n",
              "      <td>10cb3520-b834-4a6e-8e1f-14687f7e757c</td>\n",
              "      <td>582737</td>\n",
              "      <td>0.015936</td>\n",
              "      <td>0.119278</td>\n",
              "      <td>0.072727</td>\n",
              "      <td>1</td>\n",
              "      <td>0</td>\n",
              "      <td>0</td>\n",
              "      <td>0</td>\n",
              "      <td>1</td>\n",
              "      <td>...</td>\n",
              "      <td>1</td>\n",
              "      <td>0</td>\n",
              "      <td>1</td>\n",
              "      <td>0</td>\n",
              "      <td>0</td>\n",
              "      <td>0</td>\n",
              "      <td>1</td>\n",
              "      <td>0</td>\n",
              "      <td>0</td>\n",
              "      <td>0</td>\n",
              "    </tr>\n",
              "    <tr>\n",
              "      <th>4366</th>\n",
              "      <td>c7140518-2ee5-446f-a6be-a2d5a09835f3</td>\n",
              "      <td>617867</td>\n",
              "      <td>0.019920</td>\n",
              "      <td>0.035211</td>\n",
              "      <td>0.090909</td>\n",
              "      <td>1</td>\n",
              "      <td>0</td>\n",
              "      <td>1</td>\n",
              "      <td>0</td>\n",
              "      <td>0</td>\n",
              "      <td>...</td>\n",
              "      <td>1</td>\n",
              "      <td>0</td>\n",
              "      <td>0</td>\n",
              "      <td>0</td>\n",
              "      <td>0</td>\n",
              "      <td>1</td>\n",
              "      <td>0</td>\n",
              "      <td>0</td>\n",
              "      <td>0</td>\n",
              "      <td>0</td>\n",
              "    </tr>\n",
              "  </tbody>\n",
              "</table>\n",
              "<p>2 rows × 30 columns</p>\n",
              "</div>\n",
              "      <button class=\"colab-df-convert\" onclick=\"convertToInteractive('df-923cc527-3c3f-45b1-b605-9e9baa545f2d')\"\n",
              "              title=\"Convert this dataframe to an interactive table.\"\n",
              "              style=\"display:none;\">\n",
              "        \n",
              "  <svg xmlns=\"http://www.w3.org/2000/svg\" height=\"24px\"viewBox=\"0 0 24 24\"\n",
              "       width=\"24px\">\n",
              "    <path d=\"M0 0h24v24H0V0z\" fill=\"none\"/>\n",
              "    <path d=\"M18.56 5.44l.94 2.06.94-2.06 2.06-.94-2.06-.94-.94-2.06-.94 2.06-2.06.94zm-11 1L8.5 8.5l.94-2.06 2.06-.94-2.06-.94L8.5 2.5l-.94 2.06-2.06.94zm10 10l.94 2.06.94-2.06 2.06-.94-2.06-.94-.94-2.06-.94 2.06-2.06.94z\"/><path d=\"M17.41 7.96l-1.37-1.37c-.4-.4-.92-.59-1.43-.59-.52 0-1.04.2-1.43.59L10.3 9.45l-7.72 7.72c-.78.78-.78 2.05 0 2.83L4 21.41c.39.39.9.59 1.41.59.51 0 1.02-.2 1.41-.59l7.78-7.78 2.81-2.81c.8-.78.8-2.07 0-2.86zM5.41 20L4 18.59l7.72-7.72 1.47 1.35L5.41 20z\"/>\n",
              "  </svg>\n",
              "      </button>\n",
              "      \n",
              "  <style>\n",
              "    .colab-df-container {\n",
              "      display:flex;\n",
              "      flex-wrap:wrap;\n",
              "      gap: 12px;\n",
              "    }\n",
              "\n",
              "    .colab-df-convert {\n",
              "      background-color: #E8F0FE;\n",
              "      border: none;\n",
              "      border-radius: 50%;\n",
              "      cursor: pointer;\n",
              "      display: none;\n",
              "      fill: #1967D2;\n",
              "      height: 32px;\n",
              "      padding: 0 0 0 0;\n",
              "      width: 32px;\n",
              "    }\n",
              "\n",
              "    .colab-df-convert:hover {\n",
              "      background-color: #E2EBFA;\n",
              "      box-shadow: 0px 1px 2px rgba(60, 64, 67, 0.3), 0px 1px 3px 1px rgba(60, 64, 67, 0.15);\n",
              "      fill: #174EA6;\n",
              "    }\n",
              "\n",
              "    [theme=dark] .colab-df-convert {\n",
              "      background-color: #3B4455;\n",
              "      fill: #D2E3FC;\n",
              "    }\n",
              "\n",
              "    [theme=dark] .colab-df-convert:hover {\n",
              "      background-color: #434B5C;\n",
              "      box-shadow: 0px 1px 3px 1px rgba(0, 0, 0, 0.15);\n",
              "      filter: drop-shadow(0px 1px 2px rgba(0, 0, 0, 0.3));\n",
              "      fill: #FFFFFF;\n",
              "    }\n",
              "  </style>\n",
              "\n",
              "      <script>\n",
              "        const buttonEl =\n",
              "          document.querySelector('#df-923cc527-3c3f-45b1-b605-9e9baa545f2d button.colab-df-convert');\n",
              "        buttonEl.style.display =\n",
              "          google.colab.kernel.accessAllowed ? 'block' : 'none';\n",
              "\n",
              "        async function convertToInteractive(key) {\n",
              "          const element = document.querySelector('#df-923cc527-3c3f-45b1-b605-9e9baa545f2d');\n",
              "          const dataTable =\n",
              "            await google.colab.kernel.invokeFunction('convertToInteractive',\n",
              "                                                     [key], {});\n",
              "          if (!dataTable) return;\n",
              "\n",
              "          const docLinkHtml = 'Like what you see? Visit the ' +\n",
              "            '<a target=\"_blank\" href=https://colab.research.google.com/notebooks/data_table.ipynb>data table notebook</a>'\n",
              "            + ' to learn more about interactive tables.';\n",
              "          element.innerHTML = '';\n",
              "          dataTable['output_type'] = 'display_data';\n",
              "          await google.colab.output.renderOutput(dataTable, element);\n",
              "          const docLink = document.createElement('div');\n",
              "          docLink.innerHTML = docLinkHtml;\n",
              "          element.appendChild(docLink);\n",
              "        }\n",
              "      </script>\n",
              "    </div>\n",
              "  </div>\n",
              "  "
            ]
          },
          "metadata": {},
          "execution_count": 58
        }
      ]
    },
    {
      "cell_type": "code",
      "source": [
        "# Test Data\n",
        "num_vars = [\"TotalVisits\",\"Total Time Spent on Website\",\"Page Views Per Visit\"]\n",
        "data_test[num_vars] = scaler.fit_transform(data_test[num_vars])\n",
        "data_test.head(2)"
      ],
      "metadata": {
        "colab": {
          "base_uri": "https://localhost:8080/",
          "height": 396
        },
        "id": "cT1RVdXsXSf4",
        "outputId": "893d99b0-c2f3-458e-cf55-aed129ee6e92"
      },
      "execution_count": 59,
      "outputs": [
        {
          "output_type": "execute_result",
          "data": {
            "text/plain": [
              "                               Prospect ID  Lead Number  TotalVisits  \\\n",
              "309   2dd8dc62-7e5b-48d4-a34e-c176ed0f0f02       657139     0.067568   \n",
              "2595  c8d2c995-df48-42db-a885-96daa1e5a1ac       634642     0.054054   \n",
              "\n",
              "      Total Time Spent on Website  Page Views Per Visit  \\\n",
              "309                      0.116733              0.166667   \n",
              "2595                     0.109188              0.266667   \n",
              "\n",
              "      Landing Page Submission  Lead Import and Others  Google  Olark Chat  \\\n",
              "309                         1                       0       1           0   \n",
              "2595                        1                       0       0           0   \n",
              "\n",
              "      Organic Search  ...  Other Cities  Thane & Outskirts  \\\n",
              "309                0  ...             0                  0   \n",
              "2595               1  ...             1                  0   \n",
              "\n",
              "      Closed by Horizzon and Others  Interested in other courses  Ringing  \\\n",
              "309                               0                            0        0   \n",
              "2595                              0                            0        1   \n",
              "\n",
              "      Will revert after reading the email  Sure  Modified  \\\n",
              "309                                     1     0         0   \n",
              "2595                                    0     1         1   \n",
              "\n",
              "      Page Visited and Others  SMS Sent  \n",
              "309                         0         0  \n",
              "2595                        0         0  \n",
              "\n",
              "[2 rows x 30 columns]"
            ],
            "text/html": [
              "\n",
              "  <div id=\"df-470d4170-cc10-4647-8529-76fdead7782d\">\n",
              "    <div class=\"colab-df-container\">\n",
              "      <div>\n",
              "<style scoped>\n",
              "    .dataframe tbody tr th:only-of-type {\n",
              "        vertical-align: middle;\n",
              "    }\n",
              "\n",
              "    .dataframe tbody tr th {\n",
              "        vertical-align: top;\n",
              "    }\n",
              "\n",
              "    .dataframe thead th {\n",
              "        text-align: right;\n",
              "    }\n",
              "</style>\n",
              "<table border=\"1\" class=\"dataframe\">\n",
              "  <thead>\n",
              "    <tr style=\"text-align: right;\">\n",
              "      <th></th>\n",
              "      <th>Prospect ID</th>\n",
              "      <th>Lead Number</th>\n",
              "      <th>TotalVisits</th>\n",
              "      <th>Total Time Spent on Website</th>\n",
              "      <th>Page Views Per Visit</th>\n",
              "      <th>Landing Page Submission</th>\n",
              "      <th>Lead Import and Others</th>\n",
              "      <th>Google</th>\n",
              "      <th>Olark Chat</th>\n",
              "      <th>Organic Search</th>\n",
              "      <th>...</th>\n",
              "      <th>Other Cities</th>\n",
              "      <th>Thane &amp; Outskirts</th>\n",
              "      <th>Closed by Horizzon and Others</th>\n",
              "      <th>Interested in other courses</th>\n",
              "      <th>Ringing</th>\n",
              "      <th>Will revert after reading the email</th>\n",
              "      <th>Sure</th>\n",
              "      <th>Modified</th>\n",
              "      <th>Page Visited and Others</th>\n",
              "      <th>SMS Sent</th>\n",
              "    </tr>\n",
              "  </thead>\n",
              "  <tbody>\n",
              "    <tr>\n",
              "      <th>309</th>\n",
              "      <td>2dd8dc62-7e5b-48d4-a34e-c176ed0f0f02</td>\n",
              "      <td>657139</td>\n",
              "      <td>0.067568</td>\n",
              "      <td>0.116733</td>\n",
              "      <td>0.166667</td>\n",
              "      <td>1</td>\n",
              "      <td>0</td>\n",
              "      <td>1</td>\n",
              "      <td>0</td>\n",
              "      <td>0</td>\n",
              "      <td>...</td>\n",
              "      <td>0</td>\n",
              "      <td>0</td>\n",
              "      <td>0</td>\n",
              "      <td>0</td>\n",
              "      <td>0</td>\n",
              "      <td>1</td>\n",
              "      <td>0</td>\n",
              "      <td>0</td>\n",
              "      <td>0</td>\n",
              "      <td>0</td>\n",
              "    </tr>\n",
              "    <tr>\n",
              "      <th>2595</th>\n",
              "      <td>c8d2c995-df48-42db-a885-96daa1e5a1ac</td>\n",
              "      <td>634642</td>\n",
              "      <td>0.054054</td>\n",
              "      <td>0.109188</td>\n",
              "      <td>0.266667</td>\n",
              "      <td>1</td>\n",
              "      <td>0</td>\n",
              "      <td>0</td>\n",
              "      <td>0</td>\n",
              "      <td>1</td>\n",
              "      <td>...</td>\n",
              "      <td>1</td>\n",
              "      <td>0</td>\n",
              "      <td>0</td>\n",
              "      <td>0</td>\n",
              "      <td>1</td>\n",
              "      <td>0</td>\n",
              "      <td>1</td>\n",
              "      <td>1</td>\n",
              "      <td>0</td>\n",
              "      <td>0</td>\n",
              "    </tr>\n",
              "  </tbody>\n",
              "</table>\n",
              "<p>2 rows × 30 columns</p>\n",
              "</div>\n",
              "      <button class=\"colab-df-convert\" onclick=\"convertToInteractive('df-470d4170-cc10-4647-8529-76fdead7782d')\"\n",
              "              title=\"Convert this dataframe to an interactive table.\"\n",
              "              style=\"display:none;\">\n",
              "        \n",
              "  <svg xmlns=\"http://www.w3.org/2000/svg\" height=\"24px\"viewBox=\"0 0 24 24\"\n",
              "       width=\"24px\">\n",
              "    <path d=\"M0 0h24v24H0V0z\" fill=\"none\"/>\n",
              "    <path d=\"M18.56 5.44l.94 2.06.94-2.06 2.06-.94-2.06-.94-.94-2.06-.94 2.06-2.06.94zm-11 1L8.5 8.5l.94-2.06 2.06-.94-2.06-.94L8.5 2.5l-.94 2.06-2.06.94zm10 10l.94 2.06.94-2.06 2.06-.94-2.06-.94-.94-2.06-.94 2.06-2.06.94z\"/><path d=\"M17.41 7.96l-1.37-1.37c-.4-.4-.92-.59-1.43-.59-.52 0-1.04.2-1.43.59L10.3 9.45l-7.72 7.72c-.78.78-.78 2.05 0 2.83L4 21.41c.39.39.9.59 1.41.59.51 0 1.02-.2 1.41-.59l7.78-7.78 2.81-2.81c.8-.78.8-2.07 0-2.86zM5.41 20L4 18.59l7.72-7.72 1.47 1.35L5.41 20z\"/>\n",
              "  </svg>\n",
              "      </button>\n",
              "      \n",
              "  <style>\n",
              "    .colab-df-container {\n",
              "      display:flex;\n",
              "      flex-wrap:wrap;\n",
              "      gap: 12px;\n",
              "    }\n",
              "\n",
              "    .colab-df-convert {\n",
              "      background-color: #E8F0FE;\n",
              "      border: none;\n",
              "      border-radius: 50%;\n",
              "      cursor: pointer;\n",
              "      display: none;\n",
              "      fill: #1967D2;\n",
              "      height: 32px;\n",
              "      padding: 0 0 0 0;\n",
              "      width: 32px;\n",
              "    }\n",
              "\n",
              "    .colab-df-convert:hover {\n",
              "      background-color: #E2EBFA;\n",
              "      box-shadow: 0px 1px 2px rgba(60, 64, 67, 0.3), 0px 1px 3px 1px rgba(60, 64, 67, 0.15);\n",
              "      fill: #174EA6;\n",
              "    }\n",
              "\n",
              "    [theme=dark] .colab-df-convert {\n",
              "      background-color: #3B4455;\n",
              "      fill: #D2E3FC;\n",
              "    }\n",
              "\n",
              "    [theme=dark] .colab-df-convert:hover {\n",
              "      background-color: #434B5C;\n",
              "      box-shadow: 0px 1px 3px 1px rgba(0, 0, 0, 0.15);\n",
              "      filter: drop-shadow(0px 1px 2px rgba(0, 0, 0, 0.3));\n",
              "      fill: #FFFFFF;\n",
              "    }\n",
              "  </style>\n",
              "\n",
              "      <script>\n",
              "        const buttonEl =\n",
              "          document.querySelector('#df-470d4170-cc10-4647-8529-76fdead7782d button.colab-df-convert');\n",
              "        buttonEl.style.display =\n",
              "          google.colab.kernel.accessAllowed ? 'block' : 'none';\n",
              "\n",
              "        async function convertToInteractive(key) {\n",
              "          const element = document.querySelector('#df-470d4170-cc10-4647-8529-76fdead7782d');\n",
              "          const dataTable =\n",
              "            await google.colab.kernel.invokeFunction('convertToInteractive',\n",
              "                                                     [key], {});\n",
              "          if (!dataTable) return;\n",
              "\n",
              "          const docLinkHtml = 'Like what you see? Visit the ' +\n",
              "            '<a target=\"_blank\" href=https://colab.research.google.com/notebooks/data_table.ipynb>data table notebook</a>'\n",
              "            + ' to learn more about interactive tables.';\n",
              "          element.innerHTML = '';\n",
              "          dataTable['output_type'] = 'display_data';\n",
              "          await google.colab.output.renderOutput(dataTable, element);\n",
              "          const docLink = document.createElement('div');\n",
              "          docLink.innerHTML = docLinkHtml;\n",
              "          element.appendChild(docLink);\n",
              "        }\n",
              "      </script>\n",
              "    </div>\n",
              "  </div>\n",
              "  "
            ]
          },
          "metadata": {},
          "execution_count": 59
        }
      ]
    },
    {
      "cell_type": "markdown",
      "source": [
        "# Modelling"
      ],
      "metadata": {
        "id": "S2hs5bJxcHxN"
      }
    },
    {
      "cell_type": "code",
      "source": [
        "X_train = data_train.drop([\"Prospect ID\",\"Lead Number\"], axis = 1)\n",
        "X_test = data_test.drop([\"Prospect ID\",\"Lead Number\"], axis = 1)"
      ],
      "metadata": {
        "id": "xSMY0Vr8c6Zz"
      },
      "execution_count": 60,
      "outputs": []
    },
    {
      "cell_type": "code",
      "source": [
        "# Logistic regression model\n",
        "logm1 = sm.GLM(y_train,(sm.add_constant(X_train)), family = sm.families.Binomial())\n",
        "print(logm1.fit().summary())"
      ],
      "metadata": {
        "colab": {
          "base_uri": "https://localhost:8080/"
        },
        "id": "8L0rGyXVXaZw",
        "outputId": "d2105e48-e5d9-4fa6-832d-cf2a78e9df66"
      },
      "execution_count": 61,
      "outputs": [
        {
          "output_type": "stream",
          "name": "stdout",
          "text": [
            "                 Generalized Linear Model Regression Results                  \n",
            "==============================================================================\n",
            "Dep. Variable:              Converted   No. Observations:                 6372\n",
            "Model:                            GLM   Df Residuals:                     6343\n",
            "Model Family:                Binomial   Df Model:                           28\n",
            "Link Function:                  logit   Scale:                          1.0000\n",
            "Method:                          IRLS   Log-Likelihood:                -2124.2\n",
            "Date:                Tue, 18 Oct 2022   Deviance:                       4248.4\n",
            "Time:                        13:04:26   Pearson chi2:                 8.19e+03\n",
            "No. Iterations:                     8                                         \n",
            "Covariance Type:            nonrobust                                         \n",
            "=======================================================================================================\n",
            "                                          coef    std err          z      P>|z|      [0.025      0.975]\n",
            "-------------------------------------------------------------------------------------------------------\n",
            "const                                  -5.4377      0.774     -7.029      0.000      -6.954      -3.921\n",
            "TotalVisits                             7.5365      1.872      4.026      0.000       3.867      11.206\n",
            "Total Time Spent on Website             4.8855      0.196     24.880      0.000       4.501       5.270\n",
            "Page Views Per Visit                   -2.6573      1.453     -1.829      0.067      -5.506       0.191\n",
            "Landing Page Submission                -0.0715      0.124     -0.577      0.564      -0.315       0.171\n",
            "Lead Import and Others                  4.1797      0.363     11.522      0.000       3.469       4.891\n",
            "Google                                  0.1728      0.129      1.343      0.179      -0.079       0.425\n",
            "Olark Chat                              1.0857      0.180      6.044      0.000       0.734       1.438\n",
            "Organic Search                          0.2355      0.147      1.598      0.110      -0.053       0.524\n",
            "Other_Origins                          -0.1490      0.323     -0.461      0.645      -0.782       0.484\n",
            "Yes                                    -1.4433      0.181     -7.966      0.000      -1.798      -1.088\n",
            "Olark Chat Conversation                -1.4972      0.217     -6.899      0.000      -1.923      -1.072\n",
            "Other_activity                         -0.5258      0.190     -2.760      0.006      -0.899      -0.152\n",
            "Page Visited on Website                -0.8557      0.226     -3.779      0.000      -1.300      -0.412\n",
            "SMS_Sent                                0.1274      0.196      0.651      0.515      -0.256       0.511\n",
            "Business Administration                 0.0390      0.210      0.185      0.853      -0.373       0.451\n",
            "Management Study                       -0.0555      0.123     -0.451      0.652      -0.297       0.186\n",
            "Unemployed                             -1.2618      0.306     -4.126      0.000      -1.861      -0.662\n",
            "Working Professional                    1.7271      0.383      4.510      0.000       0.977       2.478\n",
            "Other Cities                            0.1665      0.110      1.514      0.130      -0.049       0.382\n",
            "Thane & Outskirts                       0.2138      0.146      1.468      0.142      -0.072       0.499\n",
            "Closed by Horizzon and Others           4.3884      0.736      5.966      0.000       2.947       5.830\n",
            "Interested in other courses             1.0599      0.843      1.258      0.209      -0.592       2.712\n",
            "Ringing                                 0.7576      0.761      0.995      0.320      -0.734       2.249\n",
            "Will revert after reading the email     4.9557      0.732      6.772      0.000       3.521       6.390\n",
            "Sure                                   -0.0330      0.119     -0.276      0.782      -0.267       0.201\n",
            "Modified                               -0.2698      0.153     -1.762      0.078      -0.570       0.030\n",
            "Page Visited and Others                 0.4480      0.222      2.016      0.044       0.013       0.883\n",
            "SMS Sent                                1.6515      0.223      7.396      0.000       1.214       2.089\n",
            "=======================================================================================================\n"
          ]
        }
      ]
    },
    {
      "cell_type": "markdown",
      "source": [
        "### Selecting top 10 variables"
      ],
      "metadata": {
        "id": "uSZWmRh8eSQj"
      }
    },
    {
      "cell_type": "code",
      "source": [
        "logreg = LogisticRegression()"
      ],
      "metadata": {
        "id": "GZqkT32Led3i"
      },
      "execution_count": 62,
      "outputs": []
    },
    {
      "cell_type": "code",
      "source": [
        "rfe = RFE(logreg, n_features_to_select= 15)             \n",
        "rfe = rfe.fit(X_train, y_train)"
      ],
      "metadata": {
        "id": "rnDqddQneFrc"
      },
      "execution_count": 63,
      "outputs": []
    },
    {
      "cell_type": "code",
      "source": [
        "list(zip(X_train.columns, rfe.support_, rfe.ranking_))"
      ],
      "metadata": {
        "colab": {
          "base_uri": "https://localhost:8080/"
        },
        "id": "9pBavvTeeXVQ",
        "outputId": "ee9bd526-08c5-4da2-c839-637fc0358dca"
      },
      "execution_count": 64,
      "outputs": [
        {
          "output_type": "execute_result",
          "data": {
            "text/plain": [
              "[('TotalVisits', True, 1),\n",
              " ('Total Time Spent on Website', True, 1),\n",
              " ('Page Views Per Visit', False, 2),\n",
              " ('Landing Page Submission', False, 11),\n",
              " ('Lead Import and Others', True, 1),\n",
              " ('Google', False, 8),\n",
              " ('Olark Chat', True, 1),\n",
              " ('Organic Search', False, 7),\n",
              " ('Other_Origins', False, 9),\n",
              " ('Yes', True, 1),\n",
              " ('Olark Chat Conversation', True, 1),\n",
              " ('Other_activity', True, 1),\n",
              " ('Page Visited on Website', True, 1),\n",
              " ('SMS_Sent', False, 4),\n",
              " ('Business Administration', False, 13),\n",
              " ('Management Study', False, 12),\n",
              " ('Unemployed', True, 1),\n",
              " ('Working Professional', True, 1),\n",
              " ('Other Cities', False, 10),\n",
              " ('Thane & Outskirts', False, 5),\n",
              " ('Closed by Horizzon and Others', True, 1),\n",
              " ('Interested in other courses', False, 6),\n",
              " ('Ringing', True, 1),\n",
              " ('Will revert after reading the email', True, 1),\n",
              " ('Sure', False, 14),\n",
              " ('Modified', False, 3),\n",
              " ('Page Visited and Others', True, 1),\n",
              " ('SMS Sent', True, 1)]"
            ]
          },
          "metadata": {},
          "execution_count": 64
        }
      ]
    },
    {
      "cell_type": "code",
      "source": [
        "col = X_train.columns[rfe.support_]\n",
        "col"
      ],
      "metadata": {
        "colab": {
          "base_uri": "https://localhost:8080/"
        },
        "id": "gdJtQ4IZeuda",
        "outputId": "1d98968a-49c3-46ef-f5fa-99b29ce37836"
      },
      "execution_count": 65,
      "outputs": [
        {
          "output_type": "execute_result",
          "data": {
            "text/plain": [
              "Index(['TotalVisits', 'Total Time Spent on Website', 'Lead Import and Others',\n",
              "       'Olark Chat', 'Yes', 'Olark Chat Conversation', 'Other_activity',\n",
              "       'Page Visited on Website', 'Unemployed', 'Working Professional',\n",
              "       'Closed by Horizzon and Others', 'Ringing',\n",
              "       'Will revert after reading the email', 'Page Visited and Others',\n",
              "       'SMS Sent'],\n",
              "      dtype='object')"
            ]
          },
          "metadata": {},
          "execution_count": 65
        }
      ]
    },
    {
      "cell_type": "markdown",
      "source": [
        "#### Assessing the model with StatsModels"
      ],
      "metadata": {
        "id": "UicX5P5nfLWn"
      }
    },
    {
      "cell_type": "code",
      "source": [
        "X_train_sm = sm.add_constant(X_train[col])\n",
        "logm2 = sm.GLM(y_train,X_train_sm, family = sm.families.Binomial())\n",
        "res = logm2.fit()\n",
        "print(res.summary())"
      ],
      "metadata": {
        "colab": {
          "base_uri": "https://localhost:8080/"
        },
        "id": "DHUDLCS5e9j0",
        "outputId": "b424b5eb-da7a-4bbe-a063-63c84942deae"
      },
      "execution_count": 66,
      "outputs": [
        {
          "output_type": "stream",
          "name": "stdout",
          "text": [
            "                 Generalized Linear Model Regression Results                  \n",
            "==============================================================================\n",
            "Dep. Variable:              Converted   No. Observations:                 6372\n",
            "Model:                            GLM   Df Residuals:                     6356\n",
            "Model Family:                Binomial   Df Model:                           15\n",
            "Link Function:                  logit   Scale:                          1.0000\n",
            "Method:                          IRLS   Log-Likelihood:                -2133.1\n",
            "Date:                Tue, 18 Oct 2022   Deviance:                       4266.1\n",
            "Time:                        13:04:27   Pearson chi2:                 8.17e+03\n",
            "No. Iterations:                     7                                         \n",
            "Covariance Type:            nonrobust                                         \n",
            "=======================================================================================================\n",
            "                                          coef    std err          z      P>|z|      [0.025      0.975]\n",
            "-------------------------------------------------------------------------------------------------------\n",
            "const                                  -4.9471      0.448    -11.037      0.000      -5.826      -4.069\n",
            "TotalVisits                             6.9590      1.633      4.262      0.000       3.759      10.160\n",
            "Total Time Spent on Website             4.8830      0.195     24.992      0.000       4.500       5.266\n",
            "Lead Import and Others                  4.0975      0.212     19.342      0.000       3.682       4.513\n",
            "Olark Chat                              1.1038      0.118      9.354      0.000       0.873       1.335\n",
            "Yes                                    -1.4666      0.178     -8.228      0.000      -1.816      -1.117\n",
            "Olark Chat Conversation                -1.6900      0.175     -9.657      0.000      -2.033      -1.347\n",
            "Other_activity                         -0.7084      0.141     -5.018      0.000      -0.985      -0.432\n",
            "Page Visited on Website                -1.0725      0.186     -5.764      0.000      -1.437      -0.708\n",
            "Unemployed                             -1.2068      0.297     -4.069      0.000      -1.788      -0.625\n",
            "Working Professional                    1.8202      0.374      4.861      0.000       1.086       2.554\n",
            "Closed by Horizzon and Others           3.6787      0.368     10.010      0.000       2.958       4.399\n",
            "Ringing                                 0.0728      0.415      0.175      0.861      -0.741       0.886\n",
            "Will revert after reading the email     4.2837      0.361     11.867      0.000       3.576       4.991\n",
            "Page Visited and Others                 0.7130      0.161      4.420      0.000       0.397       1.029\n",
            "SMS Sent                                1.8341      0.102     17.913      0.000       1.633       2.035\n",
            "=======================================================================================================\n"
          ]
        }
      ]
    },
    {
      "cell_type": "code",
      "source": [
        "X_train_sm.drop(['const'], axis=1, inplace = True)\n",
        "vif = pd.DataFrame()\n",
        "vif['Features'] = X_train_sm.columns\n",
        "vif['VIF'] = [variance_inflation_factor(X_train_sm.values, i) for i in range(X_train_sm.shape[1])]\n",
        "vif['VIF'] = round(vif['VIF'], 2)\n",
        "vif = vif.sort_values(by = \"VIF\", ascending = False)\n",
        "vif"
      ],
      "metadata": {
        "colab": {
          "base_uri": "https://localhost:8080/",
          "height": 520
        },
        "id": "36QoeZ3Qfakn",
        "outputId": "8ad6ea75-96d1-4d5e-831c-fcdd63eade74"
      },
      "execution_count": 67,
      "outputs": [
        {
          "output_type": "execute_result",
          "data": {
            "text/plain": [
              "                               Features    VIF\n",
              "8                            Unemployed  10.80\n",
              "12  Will revert after reading the email   6.83\n",
              "10        Closed by Horizzon and Others   2.63\n",
              "1           Total Time Spent on Website   2.34\n",
              "11                              Ringing   2.28\n",
              "9                  Working Professional   1.99\n",
              "3                            Olark Chat   1.95\n",
              "0                           TotalVisits   1.73\n",
              "6                        Other_activity   1.68\n",
              "14                             SMS Sent   1.63\n",
              "5               Olark Chat Conversation   1.56\n",
              "13              Page Visited and Others   1.56\n",
              "7               Page Visited on Website   1.54\n",
              "2                Lead Import and Others   1.31\n",
              "4                                   Yes   1.26"
            ],
            "text/html": [
              "\n",
              "  <div id=\"df-1ed248fe-a8cf-4fc9-b8cb-aef70caf1fa6\">\n",
              "    <div class=\"colab-df-container\">\n",
              "      <div>\n",
              "<style scoped>\n",
              "    .dataframe tbody tr th:only-of-type {\n",
              "        vertical-align: middle;\n",
              "    }\n",
              "\n",
              "    .dataframe tbody tr th {\n",
              "        vertical-align: top;\n",
              "    }\n",
              "\n",
              "    .dataframe thead th {\n",
              "        text-align: right;\n",
              "    }\n",
              "</style>\n",
              "<table border=\"1\" class=\"dataframe\">\n",
              "  <thead>\n",
              "    <tr style=\"text-align: right;\">\n",
              "      <th></th>\n",
              "      <th>Features</th>\n",
              "      <th>VIF</th>\n",
              "    </tr>\n",
              "  </thead>\n",
              "  <tbody>\n",
              "    <tr>\n",
              "      <th>8</th>\n",
              "      <td>Unemployed</td>\n",
              "      <td>10.80</td>\n",
              "    </tr>\n",
              "    <tr>\n",
              "      <th>12</th>\n",
              "      <td>Will revert after reading the email</td>\n",
              "      <td>6.83</td>\n",
              "    </tr>\n",
              "    <tr>\n",
              "      <th>10</th>\n",
              "      <td>Closed by Horizzon and Others</td>\n",
              "      <td>2.63</td>\n",
              "    </tr>\n",
              "    <tr>\n",
              "      <th>1</th>\n",
              "      <td>Total Time Spent on Website</td>\n",
              "      <td>2.34</td>\n",
              "    </tr>\n",
              "    <tr>\n",
              "      <th>11</th>\n",
              "      <td>Ringing</td>\n",
              "      <td>2.28</td>\n",
              "    </tr>\n",
              "    <tr>\n",
              "      <th>9</th>\n",
              "      <td>Working Professional</td>\n",
              "      <td>1.99</td>\n",
              "    </tr>\n",
              "    <tr>\n",
              "      <th>3</th>\n",
              "      <td>Olark Chat</td>\n",
              "      <td>1.95</td>\n",
              "    </tr>\n",
              "    <tr>\n",
              "      <th>0</th>\n",
              "      <td>TotalVisits</td>\n",
              "      <td>1.73</td>\n",
              "    </tr>\n",
              "    <tr>\n",
              "      <th>6</th>\n",
              "      <td>Other_activity</td>\n",
              "      <td>1.68</td>\n",
              "    </tr>\n",
              "    <tr>\n",
              "      <th>14</th>\n",
              "      <td>SMS Sent</td>\n",
              "      <td>1.63</td>\n",
              "    </tr>\n",
              "    <tr>\n",
              "      <th>5</th>\n",
              "      <td>Olark Chat Conversation</td>\n",
              "      <td>1.56</td>\n",
              "    </tr>\n",
              "    <tr>\n",
              "      <th>13</th>\n",
              "      <td>Page Visited and Others</td>\n",
              "      <td>1.56</td>\n",
              "    </tr>\n",
              "    <tr>\n",
              "      <th>7</th>\n",
              "      <td>Page Visited on Website</td>\n",
              "      <td>1.54</td>\n",
              "    </tr>\n",
              "    <tr>\n",
              "      <th>2</th>\n",
              "      <td>Lead Import and Others</td>\n",
              "      <td>1.31</td>\n",
              "    </tr>\n",
              "    <tr>\n",
              "      <th>4</th>\n",
              "      <td>Yes</td>\n",
              "      <td>1.26</td>\n",
              "    </tr>\n",
              "  </tbody>\n",
              "</table>\n",
              "</div>\n",
              "      <button class=\"colab-df-convert\" onclick=\"convertToInteractive('df-1ed248fe-a8cf-4fc9-b8cb-aef70caf1fa6')\"\n",
              "              title=\"Convert this dataframe to an interactive table.\"\n",
              "              style=\"display:none;\">\n",
              "        \n",
              "  <svg xmlns=\"http://www.w3.org/2000/svg\" height=\"24px\"viewBox=\"0 0 24 24\"\n",
              "       width=\"24px\">\n",
              "    <path d=\"M0 0h24v24H0V0z\" fill=\"none\"/>\n",
              "    <path d=\"M18.56 5.44l.94 2.06.94-2.06 2.06-.94-2.06-.94-.94-2.06-.94 2.06-2.06.94zm-11 1L8.5 8.5l.94-2.06 2.06-.94-2.06-.94L8.5 2.5l-.94 2.06-2.06.94zm10 10l.94 2.06.94-2.06 2.06-.94-2.06-.94-.94-2.06-.94 2.06-2.06.94z\"/><path d=\"M17.41 7.96l-1.37-1.37c-.4-.4-.92-.59-1.43-.59-.52 0-1.04.2-1.43.59L10.3 9.45l-7.72 7.72c-.78.78-.78 2.05 0 2.83L4 21.41c.39.39.9.59 1.41.59.51 0 1.02-.2 1.41-.59l7.78-7.78 2.81-2.81c.8-.78.8-2.07 0-2.86zM5.41 20L4 18.59l7.72-7.72 1.47 1.35L5.41 20z\"/>\n",
              "  </svg>\n",
              "      </button>\n",
              "      \n",
              "  <style>\n",
              "    .colab-df-container {\n",
              "      display:flex;\n",
              "      flex-wrap:wrap;\n",
              "      gap: 12px;\n",
              "    }\n",
              "\n",
              "    .colab-df-convert {\n",
              "      background-color: #E8F0FE;\n",
              "      border: none;\n",
              "      border-radius: 50%;\n",
              "      cursor: pointer;\n",
              "      display: none;\n",
              "      fill: #1967D2;\n",
              "      height: 32px;\n",
              "      padding: 0 0 0 0;\n",
              "      width: 32px;\n",
              "    }\n",
              "\n",
              "    .colab-df-convert:hover {\n",
              "      background-color: #E2EBFA;\n",
              "      box-shadow: 0px 1px 2px rgba(60, 64, 67, 0.3), 0px 1px 3px 1px rgba(60, 64, 67, 0.15);\n",
              "      fill: #174EA6;\n",
              "    }\n",
              "\n",
              "    [theme=dark] .colab-df-convert {\n",
              "      background-color: #3B4455;\n",
              "      fill: #D2E3FC;\n",
              "    }\n",
              "\n",
              "    [theme=dark] .colab-df-convert:hover {\n",
              "      background-color: #434B5C;\n",
              "      box-shadow: 0px 1px 3px 1px rgba(0, 0, 0, 0.15);\n",
              "      filter: drop-shadow(0px 1px 2px rgba(0, 0, 0, 0.3));\n",
              "      fill: #FFFFFF;\n",
              "    }\n",
              "  </style>\n",
              "\n",
              "      <script>\n",
              "        const buttonEl =\n",
              "          document.querySelector('#df-1ed248fe-a8cf-4fc9-b8cb-aef70caf1fa6 button.colab-df-convert');\n",
              "        buttonEl.style.display =\n",
              "          google.colab.kernel.accessAllowed ? 'block' : 'none';\n",
              "\n",
              "        async function convertToInteractive(key) {\n",
              "          const element = document.querySelector('#df-1ed248fe-a8cf-4fc9-b8cb-aef70caf1fa6');\n",
              "          const dataTable =\n",
              "            await google.colab.kernel.invokeFunction('convertToInteractive',\n",
              "                                                     [key], {});\n",
              "          if (!dataTable) return;\n",
              "\n",
              "          const docLinkHtml = 'Like what you see? Visit the ' +\n",
              "            '<a target=\"_blank\" href=https://colab.research.google.com/notebooks/data_table.ipynb>data table notebook</a>'\n",
              "            + ' to learn more about interactive tables.';\n",
              "          element.innerHTML = '';\n",
              "          dataTable['output_type'] = 'display_data';\n",
              "          await google.colab.output.renderOutput(dataTable, element);\n",
              "          const docLink = document.createElement('div');\n",
              "          docLink.innerHTML = docLinkHtml;\n",
              "          element.appendChild(docLink);\n",
              "        }\n",
              "      </script>\n",
              "    </div>\n",
              "  </div>\n",
              "  "
            ]
          },
          "metadata": {},
          "execution_count": 67
        }
      ]
    },
    {
      "cell_type": "markdown",
      "source": [
        "#### Removing Unemployed as it has very high VIF"
      ],
      "metadata": {
        "id": "SnKvLONBE95j"
      }
    },
    {
      "cell_type": "code",
      "source": [
        "X_train_sm.drop(['Unemployed'], axis=1, inplace = True)"
      ],
      "metadata": {
        "id": "AbSHnd9bgTWK"
      },
      "execution_count": 68,
      "outputs": []
    },
    {
      "cell_type": "markdown",
      "source": [
        "### Recreating Model with new data"
      ],
      "metadata": {
        "id": "CWBZPJwlFL-Z"
      }
    },
    {
      "cell_type": "code",
      "source": [
        "X_train_sm = sm.add_constant(X_train_sm)\n",
        "logm2 = sm.GLM(y_train,X_train_sm, family = sm.families.Binomial())\n",
        "res = logm2.fit()\n",
        "print(res.summary())"
      ],
      "metadata": {
        "colab": {
          "base_uri": "https://localhost:8080/"
        },
        "id": "ZbnO7woRFLjb",
        "outputId": "3f1da78d-7633-4f52-e1fe-ca00e3ae7979"
      },
      "execution_count": 69,
      "outputs": [
        {
          "output_type": "stream",
          "name": "stdout",
          "text": [
            "                 Generalized Linear Model Regression Results                  \n",
            "==============================================================================\n",
            "Dep. Variable:              Converted   No. Observations:                 6372\n",
            "Model:                            GLM   Df Residuals:                     6357\n",
            "Model Family:                Binomial   Df Model:                           14\n",
            "Link Function:                  logit   Scale:                          1.0000\n",
            "Method:                          IRLS   Log-Likelihood:                -2141.8\n",
            "Date:                Tue, 18 Oct 2022   Deviance:                       4283.7\n",
            "Time:                        13:04:27   Pearson chi2:                 8.11e+03\n",
            "No. Iterations:                     8                                         \n",
            "Covariance Type:            nonrobust                                         \n",
            "=======================================================================================================\n",
            "                                          coef    std err          z      P>|z|      [0.025      0.975]\n",
            "-------------------------------------------------------------------------------------------------------\n",
            "const                                  -6.0389      0.376    -16.050      0.000      -6.776      -5.301\n",
            "TotalVisits                             6.8945      1.637      4.213      0.000       3.687      10.102\n",
            "Total Time Spent on Website             4.9152      0.195     25.186      0.000       4.533       5.298\n",
            "Lead Import and Others                  4.1143      0.211     19.492      0.000       3.701       4.528\n",
            "Olark Chat                              1.1034      0.118      9.372      0.000       0.873       1.334\n",
            "Yes                                    -1.4408      0.178     -8.104      0.000      -1.789      -1.092\n",
            "Olark Chat Conversation                -1.6895      0.174     -9.692      0.000      -2.031      -1.348\n",
            "Other_activity                         -0.6929      0.141     -4.926      0.000      -0.969      -0.417\n",
            "Page Visited on Website                -1.0600      0.185     -5.717      0.000      -1.423      -0.697\n",
            "Working Professional                    2.9929      0.240     12.461      0.000       2.522       3.464\n",
            "Closed by Horizzon and Others           3.5804      0.368      9.732      0.000       2.859       4.302\n",
            "Ringing                                -0.0492      0.415     -0.119      0.906      -0.862       0.764\n",
            "Will revert after reading the email     4.1853      0.361     11.580      0.000       3.477       4.894\n",
            "Page Visited and Others                 0.6866      0.161      4.269      0.000       0.371       1.002\n",
            "SMS Sent                                1.8255      0.102     17.871      0.000       1.625       2.026\n",
            "=======================================================================================================\n"
          ]
        }
      ]
    },
    {
      "cell_type": "code",
      "source": [
        "X_train_sm.drop(['const'], axis=1, inplace = True)\n",
        "vif = pd.DataFrame()\n",
        "vif['Features'] = X_train_sm.columns\n",
        "vif['VIF'] = [variance_inflation_factor(X_train_sm.values, i) for i in range(X_train_sm.shape[1])]\n",
        "vif['VIF'] = round(vif['VIF'], 2)\n",
        "vif = vif.sort_values(by = \"VIF\", ascending = False)\n",
        "vif"
      ],
      "metadata": {
        "colab": {
          "base_uri": "https://localhost:8080/",
          "height": 488
        },
        "id": "KF4c-0XsFXip",
        "outputId": "7b5515a3-b2b4-4cc4-a825-58b15c6d06fa"
      },
      "execution_count": 70,
      "outputs": [
        {
          "output_type": "execute_result",
          "data": {
            "text/plain": [
              "                               Features   VIF\n",
              "11  Will revert after reading the email  3.17\n",
              "1           Total Time Spent on Website  2.21\n",
              "3                            Olark Chat  1.84\n",
              "0                           TotalVisits  1.66\n",
              "13                             SMS Sent  1.62\n",
              "6                        Other_activity  1.55\n",
              "9         Closed by Horizzon and Others  1.54\n",
              "12              Page Visited and Others  1.54\n",
              "7               Page Visited on Website  1.50\n",
              "5               Olark Chat Conversation  1.49\n",
              "10                              Ringing  1.32\n",
              "2                Lead Import and Others  1.28\n",
              "4                                   Yes  1.26\n",
              "8                  Working Professional  1.17"
            ],
            "text/html": [
              "\n",
              "  <div id=\"df-0ad226f2-d3fa-44fc-967e-195fb53650e7\">\n",
              "    <div class=\"colab-df-container\">\n",
              "      <div>\n",
              "<style scoped>\n",
              "    .dataframe tbody tr th:only-of-type {\n",
              "        vertical-align: middle;\n",
              "    }\n",
              "\n",
              "    .dataframe tbody tr th {\n",
              "        vertical-align: top;\n",
              "    }\n",
              "\n",
              "    .dataframe thead th {\n",
              "        text-align: right;\n",
              "    }\n",
              "</style>\n",
              "<table border=\"1\" class=\"dataframe\">\n",
              "  <thead>\n",
              "    <tr style=\"text-align: right;\">\n",
              "      <th></th>\n",
              "      <th>Features</th>\n",
              "      <th>VIF</th>\n",
              "    </tr>\n",
              "  </thead>\n",
              "  <tbody>\n",
              "    <tr>\n",
              "      <th>11</th>\n",
              "      <td>Will revert after reading the email</td>\n",
              "      <td>3.17</td>\n",
              "    </tr>\n",
              "    <tr>\n",
              "      <th>1</th>\n",
              "      <td>Total Time Spent on Website</td>\n",
              "      <td>2.21</td>\n",
              "    </tr>\n",
              "    <tr>\n",
              "      <th>3</th>\n",
              "      <td>Olark Chat</td>\n",
              "      <td>1.84</td>\n",
              "    </tr>\n",
              "    <tr>\n",
              "      <th>0</th>\n",
              "      <td>TotalVisits</td>\n",
              "      <td>1.66</td>\n",
              "    </tr>\n",
              "    <tr>\n",
              "      <th>13</th>\n",
              "      <td>SMS Sent</td>\n",
              "      <td>1.62</td>\n",
              "    </tr>\n",
              "    <tr>\n",
              "      <th>6</th>\n",
              "      <td>Other_activity</td>\n",
              "      <td>1.55</td>\n",
              "    </tr>\n",
              "    <tr>\n",
              "      <th>9</th>\n",
              "      <td>Closed by Horizzon and Others</td>\n",
              "      <td>1.54</td>\n",
              "    </tr>\n",
              "    <tr>\n",
              "      <th>12</th>\n",
              "      <td>Page Visited and Others</td>\n",
              "      <td>1.54</td>\n",
              "    </tr>\n",
              "    <tr>\n",
              "      <th>7</th>\n",
              "      <td>Page Visited on Website</td>\n",
              "      <td>1.50</td>\n",
              "    </tr>\n",
              "    <tr>\n",
              "      <th>5</th>\n",
              "      <td>Olark Chat Conversation</td>\n",
              "      <td>1.49</td>\n",
              "    </tr>\n",
              "    <tr>\n",
              "      <th>10</th>\n",
              "      <td>Ringing</td>\n",
              "      <td>1.32</td>\n",
              "    </tr>\n",
              "    <tr>\n",
              "      <th>2</th>\n",
              "      <td>Lead Import and Others</td>\n",
              "      <td>1.28</td>\n",
              "    </tr>\n",
              "    <tr>\n",
              "      <th>4</th>\n",
              "      <td>Yes</td>\n",
              "      <td>1.26</td>\n",
              "    </tr>\n",
              "    <tr>\n",
              "      <th>8</th>\n",
              "      <td>Working Professional</td>\n",
              "      <td>1.17</td>\n",
              "    </tr>\n",
              "  </tbody>\n",
              "</table>\n",
              "</div>\n",
              "      <button class=\"colab-df-convert\" onclick=\"convertToInteractive('df-0ad226f2-d3fa-44fc-967e-195fb53650e7')\"\n",
              "              title=\"Convert this dataframe to an interactive table.\"\n",
              "              style=\"display:none;\">\n",
              "        \n",
              "  <svg xmlns=\"http://www.w3.org/2000/svg\" height=\"24px\"viewBox=\"0 0 24 24\"\n",
              "       width=\"24px\">\n",
              "    <path d=\"M0 0h24v24H0V0z\" fill=\"none\"/>\n",
              "    <path d=\"M18.56 5.44l.94 2.06.94-2.06 2.06-.94-2.06-.94-.94-2.06-.94 2.06-2.06.94zm-11 1L8.5 8.5l.94-2.06 2.06-.94-2.06-.94L8.5 2.5l-.94 2.06-2.06.94zm10 10l.94 2.06.94-2.06 2.06-.94-2.06-.94-.94-2.06-.94 2.06-2.06.94z\"/><path d=\"M17.41 7.96l-1.37-1.37c-.4-.4-.92-.59-1.43-.59-.52 0-1.04.2-1.43.59L10.3 9.45l-7.72 7.72c-.78.78-.78 2.05 0 2.83L4 21.41c.39.39.9.59 1.41.59.51 0 1.02-.2 1.41-.59l7.78-7.78 2.81-2.81c.8-.78.8-2.07 0-2.86zM5.41 20L4 18.59l7.72-7.72 1.47 1.35L5.41 20z\"/>\n",
              "  </svg>\n",
              "      </button>\n",
              "      \n",
              "  <style>\n",
              "    .colab-df-container {\n",
              "      display:flex;\n",
              "      flex-wrap:wrap;\n",
              "      gap: 12px;\n",
              "    }\n",
              "\n",
              "    .colab-df-convert {\n",
              "      background-color: #E8F0FE;\n",
              "      border: none;\n",
              "      border-radius: 50%;\n",
              "      cursor: pointer;\n",
              "      display: none;\n",
              "      fill: #1967D2;\n",
              "      height: 32px;\n",
              "      padding: 0 0 0 0;\n",
              "      width: 32px;\n",
              "    }\n",
              "\n",
              "    .colab-df-convert:hover {\n",
              "      background-color: #E2EBFA;\n",
              "      box-shadow: 0px 1px 2px rgba(60, 64, 67, 0.3), 0px 1px 3px 1px rgba(60, 64, 67, 0.15);\n",
              "      fill: #174EA6;\n",
              "    }\n",
              "\n",
              "    [theme=dark] .colab-df-convert {\n",
              "      background-color: #3B4455;\n",
              "      fill: #D2E3FC;\n",
              "    }\n",
              "\n",
              "    [theme=dark] .colab-df-convert:hover {\n",
              "      background-color: #434B5C;\n",
              "      box-shadow: 0px 1px 3px 1px rgba(0, 0, 0, 0.15);\n",
              "      filter: drop-shadow(0px 1px 2px rgba(0, 0, 0, 0.3));\n",
              "      fill: #FFFFFF;\n",
              "    }\n",
              "  </style>\n",
              "\n",
              "      <script>\n",
              "        const buttonEl =\n",
              "          document.querySelector('#df-0ad226f2-d3fa-44fc-967e-195fb53650e7 button.colab-df-convert');\n",
              "        buttonEl.style.display =\n",
              "          google.colab.kernel.accessAllowed ? 'block' : 'none';\n",
              "\n",
              "        async function convertToInteractive(key) {\n",
              "          const element = document.querySelector('#df-0ad226f2-d3fa-44fc-967e-195fb53650e7');\n",
              "          const dataTable =\n",
              "            await google.colab.kernel.invokeFunction('convertToInteractive',\n",
              "                                                     [key], {});\n",
              "          if (!dataTable) return;\n",
              "\n",
              "          const docLinkHtml = 'Like what you see? Visit the ' +\n",
              "            '<a target=\"_blank\" href=https://colab.research.google.com/notebooks/data_table.ipynb>data table notebook</a>'\n",
              "            + ' to learn more about interactive tables.';\n",
              "          element.innerHTML = '';\n",
              "          dataTable['output_type'] = 'display_data';\n",
              "          await google.colab.output.renderOutput(dataTable, element);\n",
              "          const docLink = document.createElement('div');\n",
              "          docLink.innerHTML = docLinkHtml;\n",
              "          element.appendChild(docLink);\n",
              "        }\n",
              "      </script>\n",
              "    </div>\n",
              "  </div>\n",
              "  "
            ]
          },
          "metadata": {},
          "execution_count": 70
        }
      ]
    },
    {
      "cell_type": "markdown",
      "source": [
        "#### All the VIFs are under 5 but p value of ringing is Very high so we will remove it"
      ],
      "metadata": {
        "id": "fTh_bce3PuWT"
      }
    },
    {
      "cell_type": "code",
      "source": [
        "X_train_sm.drop(['Ringing'], axis=1, inplace = True)"
      ],
      "metadata": {
        "id": "cdGWsts9FcT5"
      },
      "execution_count": 71,
      "outputs": []
    },
    {
      "cell_type": "code",
      "source": [
        "X_train_sm = sm.add_constant(X_train_sm)\n",
        "logm2 = sm.GLM(y_train,X_train_sm, family = sm.families.Binomial())\n",
        "res = logm2.fit()\n",
        "print(res.summary())"
      ],
      "metadata": {
        "colab": {
          "base_uri": "https://localhost:8080/"
        },
        "id": "U3ZQOJsLQE7q",
        "outputId": "072ec90a-128a-42e4-ac0d-8b440f510da6"
      },
      "execution_count": 72,
      "outputs": [
        {
          "output_type": "stream",
          "name": "stdout",
          "text": [
            "                 Generalized Linear Model Regression Results                  \n",
            "==============================================================================\n",
            "Dep. Variable:              Converted   No. Observations:                 6372\n",
            "Model:                            GLM   Df Residuals:                     6358\n",
            "Model Family:                Binomial   Df Model:                           13\n",
            "Link Function:                  logit   Scale:                          1.0000\n",
            "Method:                          IRLS   Log-Likelihood:                -2141.8\n",
            "Date:                Tue, 18 Oct 2022   Deviance:                       4283.7\n",
            "Time:                        13:04:27   Pearson chi2:                 8.10e+03\n",
            "No. Iterations:                     7                                         \n",
            "Covariance Type:            nonrobust                                         \n",
            "=======================================================================================================\n",
            "                                          coef    std err          z      P>|z|      [0.025      0.975]\n",
            "-------------------------------------------------------------------------------------------------------\n",
            "const                                  -6.0756      0.216    -28.106      0.000      -6.499      -5.652\n",
            "TotalVisits                             6.9132      1.627      4.248      0.000       3.724      10.103\n",
            "Total Time Spent on Website             4.9152      0.195     25.185      0.000       4.533       5.298\n",
            "Lead Import and Others                  4.1135      0.211     19.506      0.000       3.700       4.527\n",
            "Olark Chat                              1.1039      0.118      9.383      0.000       0.873       1.335\n",
            "Yes                                    -1.4409      0.178     -8.104      0.000      -1.789      -1.092\n",
            "Olark Chat Conversation                -1.6895      0.174     -9.691      0.000      -2.031      -1.348\n",
            "Other_activity                         -0.6926      0.141     -4.924      0.000      -0.968      -0.417\n",
            "Page Visited on Website                -1.0603      0.185     -5.719      0.000      -1.424      -0.697\n",
            "Working Professional                    2.9956      0.239     12.510      0.000       2.526       3.465\n",
            "Closed by Horizzon and Others           3.6172      0.201     18.034      0.000       3.224       4.010\n",
            "Will revert after reading the email     4.2220      0.191     22.148      0.000       3.848       4.596\n",
            "Page Visited and Others                 0.6864      0.161      4.268      0.000       0.371       1.002\n",
            "SMS Sent                                1.8239      0.101     18.010      0.000       1.625       2.022\n",
            "=======================================================================================================\n"
          ]
        }
      ]
    },
    {
      "cell_type": "code",
      "source": [
        "X_train_sm.drop(['const'], axis=1, inplace = True)\n",
        "vif = pd.DataFrame()\n",
        "vif['Features'] = X_train_sm.columns\n",
        "vif['VIF'] = [variance_inflation_factor(X_train_sm.values, i) for i in range(X_train_sm.shape[1])]\n",
        "vif['VIF'] = round(vif['VIF'], 2)\n",
        "vif = vif.sort_values(by = \"VIF\", ascending = False)\n",
        "vif"
      ],
      "metadata": {
        "colab": {
          "base_uri": "https://localhost:8080/",
          "height": 457
        },
        "id": "TvFmi9bGQONN",
        "outputId": "90fb28cc-2d89-4560-e266-6e7a7e09f9ab"
      },
      "execution_count": 73,
      "outputs": [
        {
          "output_type": "execute_result",
          "data": {
            "text/plain": [
              "                               Features   VIF\n",
              "10  Will revert after reading the email  2.73\n",
              "1           Total Time Spent on Website  2.10\n",
              "3                            Olark Chat  1.77\n",
              "0                           TotalVisits  1.57\n",
              "11              Page Visited and Others  1.54\n",
              "6                        Other_activity  1.51\n",
              "12                             SMS Sent  1.50\n",
              "5               Olark Chat Conversation  1.49\n",
              "7               Page Visited on Website  1.49\n",
              "9         Closed by Horizzon and Others  1.43\n",
              "4                                   Yes  1.26\n",
              "2                Lead Import and Others  1.25\n",
              "8                  Working Professional  1.16"
            ],
            "text/html": [
              "\n",
              "  <div id=\"df-81f9ab00-f1a7-410b-8cdc-334d39ad4a21\">\n",
              "    <div class=\"colab-df-container\">\n",
              "      <div>\n",
              "<style scoped>\n",
              "    .dataframe tbody tr th:only-of-type {\n",
              "        vertical-align: middle;\n",
              "    }\n",
              "\n",
              "    .dataframe tbody tr th {\n",
              "        vertical-align: top;\n",
              "    }\n",
              "\n",
              "    .dataframe thead th {\n",
              "        text-align: right;\n",
              "    }\n",
              "</style>\n",
              "<table border=\"1\" class=\"dataframe\">\n",
              "  <thead>\n",
              "    <tr style=\"text-align: right;\">\n",
              "      <th></th>\n",
              "      <th>Features</th>\n",
              "      <th>VIF</th>\n",
              "    </tr>\n",
              "  </thead>\n",
              "  <tbody>\n",
              "    <tr>\n",
              "      <th>10</th>\n",
              "      <td>Will revert after reading the email</td>\n",
              "      <td>2.73</td>\n",
              "    </tr>\n",
              "    <tr>\n",
              "      <th>1</th>\n",
              "      <td>Total Time Spent on Website</td>\n",
              "      <td>2.10</td>\n",
              "    </tr>\n",
              "    <tr>\n",
              "      <th>3</th>\n",
              "      <td>Olark Chat</td>\n",
              "      <td>1.77</td>\n",
              "    </tr>\n",
              "    <tr>\n",
              "      <th>0</th>\n",
              "      <td>TotalVisits</td>\n",
              "      <td>1.57</td>\n",
              "    </tr>\n",
              "    <tr>\n",
              "      <th>11</th>\n",
              "      <td>Page Visited and Others</td>\n",
              "      <td>1.54</td>\n",
              "    </tr>\n",
              "    <tr>\n",
              "      <th>6</th>\n",
              "      <td>Other_activity</td>\n",
              "      <td>1.51</td>\n",
              "    </tr>\n",
              "    <tr>\n",
              "      <th>12</th>\n",
              "      <td>SMS Sent</td>\n",
              "      <td>1.50</td>\n",
              "    </tr>\n",
              "    <tr>\n",
              "      <th>5</th>\n",
              "      <td>Olark Chat Conversation</td>\n",
              "      <td>1.49</td>\n",
              "    </tr>\n",
              "    <tr>\n",
              "      <th>7</th>\n",
              "      <td>Page Visited on Website</td>\n",
              "      <td>1.49</td>\n",
              "    </tr>\n",
              "    <tr>\n",
              "      <th>9</th>\n",
              "      <td>Closed by Horizzon and Others</td>\n",
              "      <td>1.43</td>\n",
              "    </tr>\n",
              "    <tr>\n",
              "      <th>4</th>\n",
              "      <td>Yes</td>\n",
              "      <td>1.26</td>\n",
              "    </tr>\n",
              "    <tr>\n",
              "      <th>2</th>\n",
              "      <td>Lead Import and Others</td>\n",
              "      <td>1.25</td>\n",
              "    </tr>\n",
              "    <tr>\n",
              "      <th>8</th>\n",
              "      <td>Working Professional</td>\n",
              "      <td>1.16</td>\n",
              "    </tr>\n",
              "  </tbody>\n",
              "</table>\n",
              "</div>\n",
              "      <button class=\"colab-df-convert\" onclick=\"convertToInteractive('df-81f9ab00-f1a7-410b-8cdc-334d39ad4a21')\"\n",
              "              title=\"Convert this dataframe to an interactive table.\"\n",
              "              style=\"display:none;\">\n",
              "        \n",
              "  <svg xmlns=\"http://www.w3.org/2000/svg\" height=\"24px\"viewBox=\"0 0 24 24\"\n",
              "       width=\"24px\">\n",
              "    <path d=\"M0 0h24v24H0V0z\" fill=\"none\"/>\n",
              "    <path d=\"M18.56 5.44l.94 2.06.94-2.06 2.06-.94-2.06-.94-.94-2.06-.94 2.06-2.06.94zm-11 1L8.5 8.5l.94-2.06 2.06-.94-2.06-.94L8.5 2.5l-.94 2.06-2.06.94zm10 10l.94 2.06.94-2.06 2.06-.94-2.06-.94-.94-2.06-.94 2.06-2.06.94z\"/><path d=\"M17.41 7.96l-1.37-1.37c-.4-.4-.92-.59-1.43-.59-.52 0-1.04.2-1.43.59L10.3 9.45l-7.72 7.72c-.78.78-.78 2.05 0 2.83L4 21.41c.39.39.9.59 1.41.59.51 0 1.02-.2 1.41-.59l7.78-7.78 2.81-2.81c.8-.78.8-2.07 0-2.86zM5.41 20L4 18.59l7.72-7.72 1.47 1.35L5.41 20z\"/>\n",
              "  </svg>\n",
              "      </button>\n",
              "      \n",
              "  <style>\n",
              "    .colab-df-container {\n",
              "      display:flex;\n",
              "      flex-wrap:wrap;\n",
              "      gap: 12px;\n",
              "    }\n",
              "\n",
              "    .colab-df-convert {\n",
              "      background-color: #E8F0FE;\n",
              "      border: none;\n",
              "      border-radius: 50%;\n",
              "      cursor: pointer;\n",
              "      display: none;\n",
              "      fill: #1967D2;\n",
              "      height: 32px;\n",
              "      padding: 0 0 0 0;\n",
              "      width: 32px;\n",
              "    }\n",
              "\n",
              "    .colab-df-convert:hover {\n",
              "      background-color: #E2EBFA;\n",
              "      box-shadow: 0px 1px 2px rgba(60, 64, 67, 0.3), 0px 1px 3px 1px rgba(60, 64, 67, 0.15);\n",
              "      fill: #174EA6;\n",
              "    }\n",
              "\n",
              "    [theme=dark] .colab-df-convert {\n",
              "      background-color: #3B4455;\n",
              "      fill: #D2E3FC;\n",
              "    }\n",
              "\n",
              "    [theme=dark] .colab-df-convert:hover {\n",
              "      background-color: #434B5C;\n",
              "      box-shadow: 0px 1px 3px 1px rgba(0, 0, 0, 0.15);\n",
              "      filter: drop-shadow(0px 1px 2px rgba(0, 0, 0, 0.3));\n",
              "      fill: #FFFFFF;\n",
              "    }\n",
              "  </style>\n",
              "\n",
              "      <script>\n",
              "        const buttonEl =\n",
              "          document.querySelector('#df-81f9ab00-f1a7-410b-8cdc-334d39ad4a21 button.colab-df-convert');\n",
              "        buttonEl.style.display =\n",
              "          google.colab.kernel.accessAllowed ? 'block' : 'none';\n",
              "\n",
              "        async function convertToInteractive(key) {\n",
              "          const element = document.querySelector('#df-81f9ab00-f1a7-410b-8cdc-334d39ad4a21');\n",
              "          const dataTable =\n",
              "            await google.colab.kernel.invokeFunction('convertToInteractive',\n",
              "                                                     [key], {});\n",
              "          if (!dataTable) return;\n",
              "\n",
              "          const docLinkHtml = 'Like what you see? Visit the ' +\n",
              "            '<a target=\"_blank\" href=https://colab.research.google.com/notebooks/data_table.ipynb>data table notebook</a>'\n",
              "            + ' to learn more about interactive tables.';\n",
              "          element.innerHTML = '';\n",
              "          dataTable['output_type'] = 'display_data';\n",
              "          await google.colab.output.renderOutput(dataTable, element);\n",
              "          const docLink = document.createElement('div');\n",
              "          docLink.innerHTML = docLinkHtml;\n",
              "          element.appendChild(docLink);\n",
              "        }\n",
              "      </script>\n",
              "    </div>\n",
              "  </div>\n",
              "  "
            ]
          },
          "metadata": {},
          "execution_count": 73
        }
      ]
    },
    {
      "cell_type": "markdown",
      "source": [
        "#### All the Vif and p value are within range now so now we can build our final model"
      ],
      "metadata": {
        "id": "oJw_1YEWTbsC"
      }
    },
    {
      "cell_type": "code",
      "source": [
        "clf = LogisticRegression(random_state=0).fit(X_train_sm, y_train)\n",
        "y_train_pred = clf.predict_proba(X_train_sm)"
      ],
      "metadata": {
        "id": "5n_rQAI8QTLb"
      },
      "execution_count": 74,
      "outputs": []
    },
    {
      "cell_type": "code",
      "source": [
        "# Dropping Test set columns\n",
        "X_test_sm = X_test[X_train_sm.columns]\n",
        "X_test_sm.head(2)"
      ],
      "metadata": {
        "colab": {
          "base_uri": "https://localhost:8080/",
          "height": 263
        },
        "id": "m2LAJ2Jt0FNu",
        "outputId": "47c60728-e5a4-42f0-db60-c311d1b40bd8"
      },
      "execution_count": 75,
      "outputs": [
        {
          "output_type": "execute_result",
          "data": {
            "text/plain": [
              "      TotalVisits  Total Time Spent on Website  Lead Import and Others  \\\n",
              "309      0.067568                     0.116733                       0   \n",
              "2595     0.054054                     0.109188                       0   \n",
              "\n",
              "      Olark Chat  Yes  Olark Chat Conversation  Other_activity  \\\n",
              "309            0    0                        0               0   \n",
              "2595           0    0                        0               0   \n",
              "\n",
              "      Page Visited on Website  Working Professional  \\\n",
              "309                         0                     0   \n",
              "2595                        0                     0   \n",
              "\n",
              "      Closed by Horizzon and Others  Will revert after reading the email  \\\n",
              "309                               0                                    1   \n",
              "2595                              0                                    0   \n",
              "\n",
              "      Page Visited and Others  SMS Sent  \n",
              "309                         0         0  \n",
              "2595                        0         0  "
            ],
            "text/html": [
              "\n",
              "  <div id=\"df-34f551bb-0b29-4ae5-91ff-439c9bc9513e\">\n",
              "    <div class=\"colab-df-container\">\n",
              "      <div>\n",
              "<style scoped>\n",
              "    .dataframe tbody tr th:only-of-type {\n",
              "        vertical-align: middle;\n",
              "    }\n",
              "\n",
              "    .dataframe tbody tr th {\n",
              "        vertical-align: top;\n",
              "    }\n",
              "\n",
              "    .dataframe thead th {\n",
              "        text-align: right;\n",
              "    }\n",
              "</style>\n",
              "<table border=\"1\" class=\"dataframe\">\n",
              "  <thead>\n",
              "    <tr style=\"text-align: right;\">\n",
              "      <th></th>\n",
              "      <th>TotalVisits</th>\n",
              "      <th>Total Time Spent on Website</th>\n",
              "      <th>Lead Import and Others</th>\n",
              "      <th>Olark Chat</th>\n",
              "      <th>Yes</th>\n",
              "      <th>Olark Chat Conversation</th>\n",
              "      <th>Other_activity</th>\n",
              "      <th>Page Visited on Website</th>\n",
              "      <th>Working Professional</th>\n",
              "      <th>Closed by Horizzon and Others</th>\n",
              "      <th>Will revert after reading the email</th>\n",
              "      <th>Page Visited and Others</th>\n",
              "      <th>SMS Sent</th>\n",
              "    </tr>\n",
              "  </thead>\n",
              "  <tbody>\n",
              "    <tr>\n",
              "      <th>309</th>\n",
              "      <td>0.067568</td>\n",
              "      <td>0.116733</td>\n",
              "      <td>0</td>\n",
              "      <td>0</td>\n",
              "      <td>0</td>\n",
              "      <td>0</td>\n",
              "      <td>0</td>\n",
              "      <td>0</td>\n",
              "      <td>0</td>\n",
              "      <td>0</td>\n",
              "      <td>1</td>\n",
              "      <td>0</td>\n",
              "      <td>0</td>\n",
              "    </tr>\n",
              "    <tr>\n",
              "      <th>2595</th>\n",
              "      <td>0.054054</td>\n",
              "      <td>0.109188</td>\n",
              "      <td>0</td>\n",
              "      <td>0</td>\n",
              "      <td>0</td>\n",
              "      <td>0</td>\n",
              "      <td>0</td>\n",
              "      <td>0</td>\n",
              "      <td>0</td>\n",
              "      <td>0</td>\n",
              "      <td>0</td>\n",
              "      <td>0</td>\n",
              "      <td>0</td>\n",
              "    </tr>\n",
              "  </tbody>\n",
              "</table>\n",
              "</div>\n",
              "      <button class=\"colab-df-convert\" onclick=\"convertToInteractive('df-34f551bb-0b29-4ae5-91ff-439c9bc9513e')\"\n",
              "              title=\"Convert this dataframe to an interactive table.\"\n",
              "              style=\"display:none;\">\n",
              "        \n",
              "  <svg xmlns=\"http://www.w3.org/2000/svg\" height=\"24px\"viewBox=\"0 0 24 24\"\n",
              "       width=\"24px\">\n",
              "    <path d=\"M0 0h24v24H0V0z\" fill=\"none\"/>\n",
              "    <path d=\"M18.56 5.44l.94 2.06.94-2.06 2.06-.94-2.06-.94-.94-2.06-.94 2.06-2.06.94zm-11 1L8.5 8.5l.94-2.06 2.06-.94-2.06-.94L8.5 2.5l-.94 2.06-2.06.94zm10 10l.94 2.06.94-2.06 2.06-.94-2.06-.94-.94-2.06-.94 2.06-2.06.94z\"/><path d=\"M17.41 7.96l-1.37-1.37c-.4-.4-.92-.59-1.43-.59-.52 0-1.04.2-1.43.59L10.3 9.45l-7.72 7.72c-.78.78-.78 2.05 0 2.83L4 21.41c.39.39.9.59 1.41.59.51 0 1.02-.2 1.41-.59l7.78-7.78 2.81-2.81c.8-.78.8-2.07 0-2.86zM5.41 20L4 18.59l7.72-7.72 1.47 1.35L5.41 20z\"/>\n",
              "  </svg>\n",
              "      </button>\n",
              "      \n",
              "  <style>\n",
              "    .colab-df-container {\n",
              "      display:flex;\n",
              "      flex-wrap:wrap;\n",
              "      gap: 12px;\n",
              "    }\n",
              "\n",
              "    .colab-df-convert {\n",
              "      background-color: #E8F0FE;\n",
              "      border: none;\n",
              "      border-radius: 50%;\n",
              "      cursor: pointer;\n",
              "      display: none;\n",
              "      fill: #1967D2;\n",
              "      height: 32px;\n",
              "      padding: 0 0 0 0;\n",
              "      width: 32px;\n",
              "    }\n",
              "\n",
              "    .colab-df-convert:hover {\n",
              "      background-color: #E2EBFA;\n",
              "      box-shadow: 0px 1px 2px rgba(60, 64, 67, 0.3), 0px 1px 3px 1px rgba(60, 64, 67, 0.15);\n",
              "      fill: #174EA6;\n",
              "    }\n",
              "\n",
              "    [theme=dark] .colab-df-convert {\n",
              "      background-color: #3B4455;\n",
              "      fill: #D2E3FC;\n",
              "    }\n",
              "\n",
              "    [theme=dark] .colab-df-convert:hover {\n",
              "      background-color: #434B5C;\n",
              "      box-shadow: 0px 1px 3px 1px rgba(0, 0, 0, 0.15);\n",
              "      filter: drop-shadow(0px 1px 2px rgba(0, 0, 0, 0.3));\n",
              "      fill: #FFFFFF;\n",
              "    }\n",
              "  </style>\n",
              "\n",
              "      <script>\n",
              "        const buttonEl =\n",
              "          document.querySelector('#df-34f551bb-0b29-4ae5-91ff-439c9bc9513e button.colab-df-convert');\n",
              "        buttonEl.style.display =\n",
              "          google.colab.kernel.accessAllowed ? 'block' : 'none';\n",
              "\n",
              "        async function convertToInteractive(key) {\n",
              "          const element = document.querySelector('#df-34f551bb-0b29-4ae5-91ff-439c9bc9513e');\n",
              "          const dataTable =\n",
              "            await google.colab.kernel.invokeFunction('convertToInteractive',\n",
              "                                                     [key], {});\n",
              "          if (!dataTable) return;\n",
              "\n",
              "          const docLinkHtml = 'Like what you see? Visit the ' +\n",
              "            '<a target=\"_blank\" href=https://colab.research.google.com/notebooks/data_table.ipynb>data table notebook</a>'\n",
              "            + ' to learn more about interactive tables.';\n",
              "          element.innerHTML = '';\n",
              "          dataTable['output_type'] = 'display_data';\n",
              "          await google.colab.output.renderOutput(dataTable, element);\n",
              "          const docLink = document.createElement('div');\n",
              "          docLink.innerHTML = docLinkHtml;\n",
              "          element.appendChild(docLink);\n",
              "        }\n",
              "      </script>\n",
              "    </div>\n",
              "  </div>\n",
              "  "
            ]
          },
          "metadata": {},
          "execution_count": 75
        }
      ]
    },
    {
      "cell_type": "code",
      "source": [
        "y_test_pred = clf.predict_proba(X_test_sm)"
      ],
      "metadata": {
        "id": "Z6BONtY8riAI"
      },
      "execution_count": 76,
      "outputs": []
    },
    {
      "cell_type": "markdown",
      "source": [
        "## Finding best cuttoff"
      ],
      "metadata": {
        "id": "EFm5lBmT-f8s"
      }
    },
    {
      "cell_type": "code",
      "source": [
        "cutdf = data_test[[\"Prospect ID\",\t\"Lead Number\"]]\n",
        "cutdf[\"converted\"] = y_test\n",
        "cutdf[\"converted_prob\"] = y_test_pred[:,1]\n",
        "cutdf.head()"
      ],
      "metadata": {
        "colab": {
          "base_uri": "https://localhost:8080/",
          "height": 206
        },
        "id": "WqXypoT4_jhz",
        "outputId": "0b2c6f5c-96b4-462a-f851-32aada41382a"
      },
      "execution_count": 77,
      "outputs": [
        {
          "output_type": "execute_result",
          "data": {
            "text/plain": [
              "                               Prospect ID  Lead Number  converted  \\\n",
              "309   2dd8dc62-7e5b-48d4-a34e-c176ed0f0f02       657139          1   \n",
              "2595  c8d2c995-df48-42db-a885-96daa1e5a1ac       634642          0   \n",
              "4850  4865cd9c-6b42-4f08-b2ce-9d53d3e3890c       613541          1   \n",
              "1929  e3fd8d81-9e92-4348-ba74-58106918b925       640995          0   \n",
              "1529  cb88de9e-545d-4d99-9147-529842216f6f       644129          1   \n",
              "\n",
              "      converted_prob  \n",
              "309         0.265038  \n",
              "2595        0.006856  \n",
              "4850        0.151347  \n",
              "1929        0.246648  \n",
              "1529        0.636172  "
            ],
            "text/html": [
              "\n",
              "  <div id=\"df-9112c71b-e4e4-4f77-81e0-69a93bdcbffe\">\n",
              "    <div class=\"colab-df-container\">\n",
              "      <div>\n",
              "<style scoped>\n",
              "    .dataframe tbody tr th:only-of-type {\n",
              "        vertical-align: middle;\n",
              "    }\n",
              "\n",
              "    .dataframe tbody tr th {\n",
              "        vertical-align: top;\n",
              "    }\n",
              "\n",
              "    .dataframe thead th {\n",
              "        text-align: right;\n",
              "    }\n",
              "</style>\n",
              "<table border=\"1\" class=\"dataframe\">\n",
              "  <thead>\n",
              "    <tr style=\"text-align: right;\">\n",
              "      <th></th>\n",
              "      <th>Prospect ID</th>\n",
              "      <th>Lead Number</th>\n",
              "      <th>converted</th>\n",
              "      <th>converted_prob</th>\n",
              "    </tr>\n",
              "  </thead>\n",
              "  <tbody>\n",
              "    <tr>\n",
              "      <th>309</th>\n",
              "      <td>2dd8dc62-7e5b-48d4-a34e-c176ed0f0f02</td>\n",
              "      <td>657139</td>\n",
              "      <td>1</td>\n",
              "      <td>0.265038</td>\n",
              "    </tr>\n",
              "    <tr>\n",
              "      <th>2595</th>\n",
              "      <td>c8d2c995-df48-42db-a885-96daa1e5a1ac</td>\n",
              "      <td>634642</td>\n",
              "      <td>0</td>\n",
              "      <td>0.006856</td>\n",
              "    </tr>\n",
              "    <tr>\n",
              "      <th>4850</th>\n",
              "      <td>4865cd9c-6b42-4f08-b2ce-9d53d3e3890c</td>\n",
              "      <td>613541</td>\n",
              "      <td>1</td>\n",
              "      <td>0.151347</td>\n",
              "    </tr>\n",
              "    <tr>\n",
              "      <th>1929</th>\n",
              "      <td>e3fd8d81-9e92-4348-ba74-58106918b925</td>\n",
              "      <td>640995</td>\n",
              "      <td>0</td>\n",
              "      <td>0.246648</td>\n",
              "    </tr>\n",
              "    <tr>\n",
              "      <th>1529</th>\n",
              "      <td>cb88de9e-545d-4d99-9147-529842216f6f</td>\n",
              "      <td>644129</td>\n",
              "      <td>1</td>\n",
              "      <td>0.636172</td>\n",
              "    </tr>\n",
              "  </tbody>\n",
              "</table>\n",
              "</div>\n",
              "      <button class=\"colab-df-convert\" onclick=\"convertToInteractive('df-9112c71b-e4e4-4f77-81e0-69a93bdcbffe')\"\n",
              "              title=\"Convert this dataframe to an interactive table.\"\n",
              "              style=\"display:none;\">\n",
              "        \n",
              "  <svg xmlns=\"http://www.w3.org/2000/svg\" height=\"24px\"viewBox=\"0 0 24 24\"\n",
              "       width=\"24px\">\n",
              "    <path d=\"M0 0h24v24H0V0z\" fill=\"none\"/>\n",
              "    <path d=\"M18.56 5.44l.94 2.06.94-2.06 2.06-.94-2.06-.94-.94-2.06-.94 2.06-2.06.94zm-11 1L8.5 8.5l.94-2.06 2.06-.94-2.06-.94L8.5 2.5l-.94 2.06-2.06.94zm10 10l.94 2.06.94-2.06 2.06-.94-2.06-.94-.94-2.06-.94 2.06-2.06.94z\"/><path d=\"M17.41 7.96l-1.37-1.37c-.4-.4-.92-.59-1.43-.59-.52 0-1.04.2-1.43.59L10.3 9.45l-7.72 7.72c-.78.78-.78 2.05 0 2.83L4 21.41c.39.39.9.59 1.41.59.51 0 1.02-.2 1.41-.59l7.78-7.78 2.81-2.81c.8-.78.8-2.07 0-2.86zM5.41 20L4 18.59l7.72-7.72 1.47 1.35L5.41 20z\"/>\n",
              "  </svg>\n",
              "      </button>\n",
              "      \n",
              "  <style>\n",
              "    .colab-df-container {\n",
              "      display:flex;\n",
              "      flex-wrap:wrap;\n",
              "      gap: 12px;\n",
              "    }\n",
              "\n",
              "    .colab-df-convert {\n",
              "      background-color: #E8F0FE;\n",
              "      border: none;\n",
              "      border-radius: 50%;\n",
              "      cursor: pointer;\n",
              "      display: none;\n",
              "      fill: #1967D2;\n",
              "      height: 32px;\n",
              "      padding: 0 0 0 0;\n",
              "      width: 32px;\n",
              "    }\n",
              "\n",
              "    .colab-df-convert:hover {\n",
              "      background-color: #E2EBFA;\n",
              "      box-shadow: 0px 1px 2px rgba(60, 64, 67, 0.3), 0px 1px 3px 1px rgba(60, 64, 67, 0.15);\n",
              "      fill: #174EA6;\n",
              "    }\n",
              "\n",
              "    [theme=dark] .colab-df-convert {\n",
              "      background-color: #3B4455;\n",
              "      fill: #D2E3FC;\n",
              "    }\n",
              "\n",
              "    [theme=dark] .colab-df-convert:hover {\n",
              "      background-color: #434B5C;\n",
              "      box-shadow: 0px 1px 3px 1px rgba(0, 0, 0, 0.15);\n",
              "      filter: drop-shadow(0px 1px 2px rgba(0, 0, 0, 0.3));\n",
              "      fill: #FFFFFF;\n",
              "    }\n",
              "  </style>\n",
              "\n",
              "      <script>\n",
              "        const buttonEl =\n",
              "          document.querySelector('#df-9112c71b-e4e4-4f77-81e0-69a93bdcbffe button.colab-df-convert');\n",
              "        buttonEl.style.display =\n",
              "          google.colab.kernel.accessAllowed ? 'block' : 'none';\n",
              "\n",
              "        async function convertToInteractive(key) {\n",
              "          const element = document.querySelector('#df-9112c71b-e4e4-4f77-81e0-69a93bdcbffe');\n",
              "          const dataTable =\n",
              "            await google.colab.kernel.invokeFunction('convertToInteractive',\n",
              "                                                     [key], {});\n",
              "          if (!dataTable) return;\n",
              "\n",
              "          const docLinkHtml = 'Like what you see? Visit the ' +\n",
              "            '<a target=\"_blank\" href=https://colab.research.google.com/notebooks/data_table.ipynb>data table notebook</a>'\n",
              "            + ' to learn more about interactive tables.';\n",
              "          element.innerHTML = '';\n",
              "          dataTable['output_type'] = 'display_data';\n",
              "          await google.colab.output.renderOutput(dataTable, element);\n",
              "          const docLink = document.createElement('div');\n",
              "          docLink.innerHTML = docLinkHtml;\n",
              "          element.appendChild(docLink);\n",
              "        }\n",
              "      </script>\n",
              "    </div>\n",
              "  </div>\n",
              "  "
            ]
          },
          "metadata": {},
          "execution_count": 77
        }
      ]
    },
    {
      "cell_type": "code",
      "source": [
        "numbers = [float(x)/10 for x in range(10)]\n",
        "for i in numbers:\n",
        "    cutdf[i]= cutdf.converted_prob.map(lambda x: 1 if x > i else 0)\n",
        "cutdf.head()"
      ],
      "metadata": {
        "colab": {
          "base_uri": "https://localhost:8080/",
          "height": 354
        },
        "id": "nCoFSRy2FD4R",
        "outputId": "42fce256-5cf5-4105-d2d0-8a5f347a3377"
      },
      "execution_count": 78,
      "outputs": [
        {
          "output_type": "execute_result",
          "data": {
            "text/plain": [
              "                               Prospect ID  Lead Number  converted  \\\n",
              "309   2dd8dc62-7e5b-48d4-a34e-c176ed0f0f02       657139          1   \n",
              "2595  c8d2c995-df48-42db-a885-96daa1e5a1ac       634642          0   \n",
              "4850  4865cd9c-6b42-4f08-b2ce-9d53d3e3890c       613541          1   \n",
              "1929  e3fd8d81-9e92-4348-ba74-58106918b925       640995          0   \n",
              "1529  cb88de9e-545d-4d99-9147-529842216f6f       644129          1   \n",
              "\n",
              "      converted_prob  0.0  0.1  0.2  0.3  0.4  0.5  0.6  0.7  0.8  0.9  \n",
              "309         0.265038    1    1    1    0    0    0    0    0    0    0  \n",
              "2595        0.006856    1    0    0    0    0    0    0    0    0    0  \n",
              "4850        0.151347    1    1    0    0    0    0    0    0    0    0  \n",
              "1929        0.246648    1    1    1    0    0    0    0    0    0    0  \n",
              "1529        0.636172    1    1    1    1    1    1    1    0    0    0  "
            ],
            "text/html": [
              "\n",
              "  <div id=\"df-55efe5ff-e062-458d-851d-842c2d708ef1\">\n",
              "    <div class=\"colab-df-container\">\n",
              "      <div>\n",
              "<style scoped>\n",
              "    .dataframe tbody tr th:only-of-type {\n",
              "        vertical-align: middle;\n",
              "    }\n",
              "\n",
              "    .dataframe tbody tr th {\n",
              "        vertical-align: top;\n",
              "    }\n",
              "\n",
              "    .dataframe thead th {\n",
              "        text-align: right;\n",
              "    }\n",
              "</style>\n",
              "<table border=\"1\" class=\"dataframe\">\n",
              "  <thead>\n",
              "    <tr style=\"text-align: right;\">\n",
              "      <th></th>\n",
              "      <th>Prospect ID</th>\n",
              "      <th>Lead Number</th>\n",
              "      <th>converted</th>\n",
              "      <th>converted_prob</th>\n",
              "      <th>0.0</th>\n",
              "      <th>0.1</th>\n",
              "      <th>0.2</th>\n",
              "      <th>0.3</th>\n",
              "      <th>0.4</th>\n",
              "      <th>0.5</th>\n",
              "      <th>0.6</th>\n",
              "      <th>0.7</th>\n",
              "      <th>0.8</th>\n",
              "      <th>0.9</th>\n",
              "    </tr>\n",
              "  </thead>\n",
              "  <tbody>\n",
              "    <tr>\n",
              "      <th>309</th>\n",
              "      <td>2dd8dc62-7e5b-48d4-a34e-c176ed0f0f02</td>\n",
              "      <td>657139</td>\n",
              "      <td>1</td>\n",
              "      <td>0.265038</td>\n",
              "      <td>1</td>\n",
              "      <td>1</td>\n",
              "      <td>1</td>\n",
              "      <td>0</td>\n",
              "      <td>0</td>\n",
              "      <td>0</td>\n",
              "      <td>0</td>\n",
              "      <td>0</td>\n",
              "      <td>0</td>\n",
              "      <td>0</td>\n",
              "    </tr>\n",
              "    <tr>\n",
              "      <th>2595</th>\n",
              "      <td>c8d2c995-df48-42db-a885-96daa1e5a1ac</td>\n",
              "      <td>634642</td>\n",
              "      <td>0</td>\n",
              "      <td>0.006856</td>\n",
              "      <td>1</td>\n",
              "      <td>0</td>\n",
              "      <td>0</td>\n",
              "      <td>0</td>\n",
              "      <td>0</td>\n",
              "      <td>0</td>\n",
              "      <td>0</td>\n",
              "      <td>0</td>\n",
              "      <td>0</td>\n",
              "      <td>0</td>\n",
              "    </tr>\n",
              "    <tr>\n",
              "      <th>4850</th>\n",
              "      <td>4865cd9c-6b42-4f08-b2ce-9d53d3e3890c</td>\n",
              "      <td>613541</td>\n",
              "      <td>1</td>\n",
              "      <td>0.151347</td>\n",
              "      <td>1</td>\n",
              "      <td>1</td>\n",
              "      <td>0</td>\n",
              "      <td>0</td>\n",
              "      <td>0</td>\n",
              "      <td>0</td>\n",
              "      <td>0</td>\n",
              "      <td>0</td>\n",
              "      <td>0</td>\n",
              "      <td>0</td>\n",
              "    </tr>\n",
              "    <tr>\n",
              "      <th>1929</th>\n",
              "      <td>e3fd8d81-9e92-4348-ba74-58106918b925</td>\n",
              "      <td>640995</td>\n",
              "      <td>0</td>\n",
              "      <td>0.246648</td>\n",
              "      <td>1</td>\n",
              "      <td>1</td>\n",
              "      <td>1</td>\n",
              "      <td>0</td>\n",
              "      <td>0</td>\n",
              "      <td>0</td>\n",
              "      <td>0</td>\n",
              "      <td>0</td>\n",
              "      <td>0</td>\n",
              "      <td>0</td>\n",
              "    </tr>\n",
              "    <tr>\n",
              "      <th>1529</th>\n",
              "      <td>cb88de9e-545d-4d99-9147-529842216f6f</td>\n",
              "      <td>644129</td>\n",
              "      <td>1</td>\n",
              "      <td>0.636172</td>\n",
              "      <td>1</td>\n",
              "      <td>1</td>\n",
              "      <td>1</td>\n",
              "      <td>1</td>\n",
              "      <td>1</td>\n",
              "      <td>1</td>\n",
              "      <td>1</td>\n",
              "      <td>0</td>\n",
              "      <td>0</td>\n",
              "      <td>0</td>\n",
              "    </tr>\n",
              "  </tbody>\n",
              "</table>\n",
              "</div>\n",
              "      <button class=\"colab-df-convert\" onclick=\"convertToInteractive('df-55efe5ff-e062-458d-851d-842c2d708ef1')\"\n",
              "              title=\"Convert this dataframe to an interactive table.\"\n",
              "              style=\"display:none;\">\n",
              "        \n",
              "  <svg xmlns=\"http://www.w3.org/2000/svg\" height=\"24px\"viewBox=\"0 0 24 24\"\n",
              "       width=\"24px\">\n",
              "    <path d=\"M0 0h24v24H0V0z\" fill=\"none\"/>\n",
              "    <path d=\"M18.56 5.44l.94 2.06.94-2.06 2.06-.94-2.06-.94-.94-2.06-.94 2.06-2.06.94zm-11 1L8.5 8.5l.94-2.06 2.06-.94-2.06-.94L8.5 2.5l-.94 2.06-2.06.94zm10 10l.94 2.06.94-2.06 2.06-.94-2.06-.94-.94-2.06-.94 2.06-2.06.94z\"/><path d=\"M17.41 7.96l-1.37-1.37c-.4-.4-.92-.59-1.43-.59-.52 0-1.04.2-1.43.59L10.3 9.45l-7.72 7.72c-.78.78-.78 2.05 0 2.83L4 21.41c.39.39.9.59 1.41.59.51 0 1.02-.2 1.41-.59l7.78-7.78 2.81-2.81c.8-.78.8-2.07 0-2.86zM5.41 20L4 18.59l7.72-7.72 1.47 1.35L5.41 20z\"/>\n",
              "  </svg>\n",
              "      </button>\n",
              "      \n",
              "  <style>\n",
              "    .colab-df-container {\n",
              "      display:flex;\n",
              "      flex-wrap:wrap;\n",
              "      gap: 12px;\n",
              "    }\n",
              "\n",
              "    .colab-df-convert {\n",
              "      background-color: #E8F0FE;\n",
              "      border: none;\n",
              "      border-radius: 50%;\n",
              "      cursor: pointer;\n",
              "      display: none;\n",
              "      fill: #1967D2;\n",
              "      height: 32px;\n",
              "      padding: 0 0 0 0;\n",
              "      width: 32px;\n",
              "    }\n",
              "\n",
              "    .colab-df-convert:hover {\n",
              "      background-color: #E2EBFA;\n",
              "      box-shadow: 0px 1px 2px rgba(60, 64, 67, 0.3), 0px 1px 3px 1px rgba(60, 64, 67, 0.15);\n",
              "      fill: #174EA6;\n",
              "    }\n",
              "\n",
              "    [theme=dark] .colab-df-convert {\n",
              "      background-color: #3B4455;\n",
              "      fill: #D2E3FC;\n",
              "    }\n",
              "\n",
              "    [theme=dark] .colab-df-convert:hover {\n",
              "      background-color: #434B5C;\n",
              "      box-shadow: 0px 1px 3px 1px rgba(0, 0, 0, 0.15);\n",
              "      filter: drop-shadow(0px 1px 2px rgba(0, 0, 0, 0.3));\n",
              "      fill: #FFFFFF;\n",
              "    }\n",
              "  </style>\n",
              "\n",
              "      <script>\n",
              "        const buttonEl =\n",
              "          document.querySelector('#df-55efe5ff-e062-458d-851d-842c2d708ef1 button.colab-df-convert');\n",
              "        buttonEl.style.display =\n",
              "          google.colab.kernel.accessAllowed ? 'block' : 'none';\n",
              "\n",
              "        async function convertToInteractive(key) {\n",
              "          const element = document.querySelector('#df-55efe5ff-e062-458d-851d-842c2d708ef1');\n",
              "          const dataTable =\n",
              "            await google.colab.kernel.invokeFunction('convertToInteractive',\n",
              "                                                     [key], {});\n",
              "          if (!dataTable) return;\n",
              "\n",
              "          const docLinkHtml = 'Like what you see? Visit the ' +\n",
              "            '<a target=\"_blank\" href=https://colab.research.google.com/notebooks/data_table.ipynb>data table notebook</a>'\n",
              "            + ' to learn more about interactive tables.';\n",
              "          element.innerHTML = '';\n",
              "          dataTable['output_type'] = 'display_data';\n",
              "          await google.colab.output.renderOutput(dataTable, element);\n",
              "          const docLink = document.createElement('div');\n",
              "          docLink.innerHTML = docLinkHtml;\n",
              "          element.appendChild(docLink);\n",
              "        }\n",
              "      </script>\n",
              "    </div>\n",
              "  </div>\n",
              "  "
            ]
          },
          "metadata": {},
          "execution_count": 78
        }
      ]
    },
    {
      "cell_type": "code",
      "source": [
        "# Now let's calculate accuracy sensitivity and specificity for various probability cutoffs.\n",
        "cutoff_df = pd.DataFrame( columns = ['prob','accuracy','sensi','speci'])\n",
        "from sklearn.metrics import confusion_matrix\n",
        "\n",
        "# TP = confusion[1,1] # true positive \n",
        "# TN = confusion[0,0] # true negatives\n",
        "# FP = confusion[0,1] # false positives\n",
        "# FN = confusion[1,0] # false negatives\n",
        "\n",
        "num = [0.0,0.1,0.2,0.3,0.4,0.5,0.6,0.7,0.8,0.9]\n",
        "for i in num:\n",
        "    cm1 = metrics.confusion_matrix(cutdf.converted, cutdf[i] )\n",
        "    total1=sum(sum(cm1))\n",
        "    accuracy = (cm1[0,0]+cm1[1,1])/total1\n",
        "    \n",
        "    speci = cm1[0,0]/(cm1[0,0]+cm1[0,1])\n",
        "    sensi = cm1[1,1]/(cm1[1,0]+cm1[1,1])\n",
        "    cutoff_df.loc[i] =[ i ,accuracy,sensi,speci]\n",
        "cutoff_df"
      ],
      "metadata": {
        "colab": {
          "base_uri": "https://localhost:8080/",
          "height": 363
        },
        "id": "WC2AvZNAFYvQ",
        "outputId": "3a8b4e0a-e3c4-401e-a256-291d03586e35"
      },
      "execution_count": 79,
      "outputs": [
        {
          "output_type": "execute_result",
          "data": {
            "text/plain": [
              "     prob  accuracy     sensi     speci\n",
              "0.0   0.0  0.380081  1.000000  0.000000\n",
              "0.1   0.1  0.700842  0.979769  0.529829\n",
              "0.2   0.2  0.774808  0.933526  0.677496\n",
              "0.3   0.3  0.822043  0.888247  0.781453\n",
              "0.4   0.4  0.857561  0.818882  0.881276\n",
              "0.5   0.5  0.864885  0.787091  0.912581\n",
              "0.6   0.6  0.864885  0.736031  0.943887\n",
              "0.7   0.7  0.842549  0.650289  0.960425\n",
              "0.8   0.8  0.798609  0.511561  0.974601\n",
              "0.9   0.9  0.749908  0.353565  0.992912"
            ],
            "text/html": [
              "\n",
              "  <div id=\"df-4480e0cc-9b08-4813-bb5a-f5995e2753c5\">\n",
              "    <div class=\"colab-df-container\">\n",
              "      <div>\n",
              "<style scoped>\n",
              "    .dataframe tbody tr th:only-of-type {\n",
              "        vertical-align: middle;\n",
              "    }\n",
              "\n",
              "    .dataframe tbody tr th {\n",
              "        vertical-align: top;\n",
              "    }\n",
              "\n",
              "    .dataframe thead th {\n",
              "        text-align: right;\n",
              "    }\n",
              "</style>\n",
              "<table border=\"1\" class=\"dataframe\">\n",
              "  <thead>\n",
              "    <tr style=\"text-align: right;\">\n",
              "      <th></th>\n",
              "      <th>prob</th>\n",
              "      <th>accuracy</th>\n",
              "      <th>sensi</th>\n",
              "      <th>speci</th>\n",
              "    </tr>\n",
              "  </thead>\n",
              "  <tbody>\n",
              "    <tr>\n",
              "      <th>0.0</th>\n",
              "      <td>0.0</td>\n",
              "      <td>0.380081</td>\n",
              "      <td>1.000000</td>\n",
              "      <td>0.000000</td>\n",
              "    </tr>\n",
              "    <tr>\n",
              "      <th>0.1</th>\n",
              "      <td>0.1</td>\n",
              "      <td>0.700842</td>\n",
              "      <td>0.979769</td>\n",
              "      <td>0.529829</td>\n",
              "    </tr>\n",
              "    <tr>\n",
              "      <th>0.2</th>\n",
              "      <td>0.2</td>\n",
              "      <td>0.774808</td>\n",
              "      <td>0.933526</td>\n",
              "      <td>0.677496</td>\n",
              "    </tr>\n",
              "    <tr>\n",
              "      <th>0.3</th>\n",
              "      <td>0.3</td>\n",
              "      <td>0.822043</td>\n",
              "      <td>0.888247</td>\n",
              "      <td>0.781453</td>\n",
              "    </tr>\n",
              "    <tr>\n",
              "      <th>0.4</th>\n",
              "      <td>0.4</td>\n",
              "      <td>0.857561</td>\n",
              "      <td>0.818882</td>\n",
              "      <td>0.881276</td>\n",
              "    </tr>\n",
              "    <tr>\n",
              "      <th>0.5</th>\n",
              "      <td>0.5</td>\n",
              "      <td>0.864885</td>\n",
              "      <td>0.787091</td>\n",
              "      <td>0.912581</td>\n",
              "    </tr>\n",
              "    <tr>\n",
              "      <th>0.6</th>\n",
              "      <td>0.6</td>\n",
              "      <td>0.864885</td>\n",
              "      <td>0.736031</td>\n",
              "      <td>0.943887</td>\n",
              "    </tr>\n",
              "    <tr>\n",
              "      <th>0.7</th>\n",
              "      <td>0.7</td>\n",
              "      <td>0.842549</td>\n",
              "      <td>0.650289</td>\n",
              "      <td>0.960425</td>\n",
              "    </tr>\n",
              "    <tr>\n",
              "      <th>0.8</th>\n",
              "      <td>0.8</td>\n",
              "      <td>0.798609</td>\n",
              "      <td>0.511561</td>\n",
              "      <td>0.974601</td>\n",
              "    </tr>\n",
              "    <tr>\n",
              "      <th>0.9</th>\n",
              "      <td>0.9</td>\n",
              "      <td>0.749908</td>\n",
              "      <td>0.353565</td>\n",
              "      <td>0.992912</td>\n",
              "    </tr>\n",
              "  </tbody>\n",
              "</table>\n",
              "</div>\n",
              "      <button class=\"colab-df-convert\" onclick=\"convertToInteractive('df-4480e0cc-9b08-4813-bb5a-f5995e2753c5')\"\n",
              "              title=\"Convert this dataframe to an interactive table.\"\n",
              "              style=\"display:none;\">\n",
              "        \n",
              "  <svg xmlns=\"http://www.w3.org/2000/svg\" height=\"24px\"viewBox=\"0 0 24 24\"\n",
              "       width=\"24px\">\n",
              "    <path d=\"M0 0h24v24H0V0z\" fill=\"none\"/>\n",
              "    <path d=\"M18.56 5.44l.94 2.06.94-2.06 2.06-.94-2.06-.94-.94-2.06-.94 2.06-2.06.94zm-11 1L8.5 8.5l.94-2.06 2.06-.94-2.06-.94L8.5 2.5l-.94 2.06-2.06.94zm10 10l.94 2.06.94-2.06 2.06-.94-2.06-.94-.94-2.06-.94 2.06-2.06.94z\"/><path d=\"M17.41 7.96l-1.37-1.37c-.4-.4-.92-.59-1.43-.59-.52 0-1.04.2-1.43.59L10.3 9.45l-7.72 7.72c-.78.78-.78 2.05 0 2.83L4 21.41c.39.39.9.59 1.41.59.51 0 1.02-.2 1.41-.59l7.78-7.78 2.81-2.81c.8-.78.8-2.07 0-2.86zM5.41 20L4 18.59l7.72-7.72 1.47 1.35L5.41 20z\"/>\n",
              "  </svg>\n",
              "      </button>\n",
              "      \n",
              "  <style>\n",
              "    .colab-df-container {\n",
              "      display:flex;\n",
              "      flex-wrap:wrap;\n",
              "      gap: 12px;\n",
              "    }\n",
              "\n",
              "    .colab-df-convert {\n",
              "      background-color: #E8F0FE;\n",
              "      border: none;\n",
              "      border-radius: 50%;\n",
              "      cursor: pointer;\n",
              "      display: none;\n",
              "      fill: #1967D2;\n",
              "      height: 32px;\n",
              "      padding: 0 0 0 0;\n",
              "      width: 32px;\n",
              "    }\n",
              "\n",
              "    .colab-df-convert:hover {\n",
              "      background-color: #E2EBFA;\n",
              "      box-shadow: 0px 1px 2px rgba(60, 64, 67, 0.3), 0px 1px 3px 1px rgba(60, 64, 67, 0.15);\n",
              "      fill: #174EA6;\n",
              "    }\n",
              "\n",
              "    [theme=dark] .colab-df-convert {\n",
              "      background-color: #3B4455;\n",
              "      fill: #D2E3FC;\n",
              "    }\n",
              "\n",
              "    [theme=dark] .colab-df-convert:hover {\n",
              "      background-color: #434B5C;\n",
              "      box-shadow: 0px 1px 3px 1px rgba(0, 0, 0, 0.15);\n",
              "      filter: drop-shadow(0px 1px 2px rgba(0, 0, 0, 0.3));\n",
              "      fill: #FFFFFF;\n",
              "    }\n",
              "  </style>\n",
              "\n",
              "      <script>\n",
              "        const buttonEl =\n",
              "          document.querySelector('#df-4480e0cc-9b08-4813-bb5a-f5995e2753c5 button.colab-df-convert');\n",
              "        buttonEl.style.display =\n",
              "          google.colab.kernel.accessAllowed ? 'block' : 'none';\n",
              "\n",
              "        async function convertToInteractive(key) {\n",
              "          const element = document.querySelector('#df-4480e0cc-9b08-4813-bb5a-f5995e2753c5');\n",
              "          const dataTable =\n",
              "            await google.colab.kernel.invokeFunction('convertToInteractive',\n",
              "                                                     [key], {});\n",
              "          if (!dataTable) return;\n",
              "\n",
              "          const docLinkHtml = 'Like what you see? Visit the ' +\n",
              "            '<a target=\"_blank\" href=https://colab.research.google.com/notebooks/data_table.ipynb>data table notebook</a>'\n",
              "            + ' to learn more about interactive tables.';\n",
              "          element.innerHTML = '';\n",
              "          dataTable['output_type'] = 'display_data';\n",
              "          await google.colab.output.renderOutput(dataTable, element);\n",
              "          const docLink = document.createElement('div');\n",
              "          docLink.innerHTML = docLinkHtml;\n",
              "          element.appendChild(docLink);\n",
              "        }\n",
              "      </script>\n",
              "    </div>\n",
              "  </div>\n",
              "  "
            ]
          },
          "metadata": {},
          "execution_count": 79
        }
      ]
    },
    {
      "cell_type": "code",
      "source": [
        "# Let's plot accuracy sensitivity and specificity for various probabilities.\n",
        "cutoff_df.plot.line(x='prob', y=['accuracy','sensi','speci'])\n",
        "plt.show()"
      ],
      "metadata": {
        "colab": {
          "base_uri": "https://localhost:8080/",
          "height": 279
        },
        "id": "TOPb__5nFyLy",
        "outputId": "9d3e9002-2de7-403a-d1c2-7ba38fa0c803"
      },
      "execution_count": 80,
      "outputs": [
        {
          "output_type": "display_data",
          "data": {
            "text/plain": [
              "<Figure size 432x288 with 1 Axes>"
            ],
            "image/png": "[encoded data removed]"
          },
          "metadata": {
            "needs_background": "light"
          }
        }
      ]
    },
    {
      "cell_type": "code",
      "source": [
        "p, r, thresholds = metrics.precision_recall_curve(y_test, y_test_pred[:,1])\n",
        "plt.plot(thresholds, p[:-1], \"g-\")\n",
        "plt.plot(thresholds, r[:-1], \"r-\")\n",
        "plt.show()"
      ],
      "metadata": {
        "colab": {
          "base_uri": "https://localhost:8080/",
          "height": 265
        },
        "id": "cpgQSW4RG-O9",
        "outputId": "39c1be73-1832-46c3-8a29-a8622a064fa4"
      },
      "execution_count": 81,
      "outputs": [
        {
          "output_type": "display_data",
          "data": {
            "text/plain": [
              "<Figure size 432x288 with 1 Axes>"
            ],
            "image/png": "[encoded data removed]"
          },
          "metadata": {
            "needs_background": "light"
          }
        }
      ]
    },
    {
      "cell_type": "markdown",
      "source": [
        "### 0.4 seems to be the best threshold Value"
      ],
      "metadata": {
        "id": "_lFSnHBWCro-"
      }
    },
    {
      "cell_type": "markdown",
      "source": [
        "# Model Accuracy and Other Parameters"
      ],
      "metadata": {
        "id": "MuqDPilj2081"
      }
    },
    {
      "cell_type": "markdown",
      "source": [
        "### Confusion Matrix"
      ],
      "metadata": {
        "id": "ytOMc0b_3FTb"
      }
    },
    {
      "cell_type": "code",
      "source": [
        "#Train\n",
        "metrics.plot_confusion_matrix(clf,X_test_sm,y_test)"
      ],
      "metadata": {
        "colab": {
          "base_uri": "https://localhost:8080/",
          "height": 296
        },
        "id": "AoS_so3n3Oy3",
        "outputId": "1477b084-143c-4f7d-ee74-7f00a470b19f"
      },
      "execution_count": 82,
      "outputs": [
        {
          "output_type": "execute_result",
          "data": {
            "text/plain": [
              "<sklearn.metrics._plot.confusion_matrix.ConfusionMatrixDisplay at 0x7f0310585690>"
            ]
          },
          "metadata": {},
          "execution_count": 82
        },
        {
          "output_type": "display_data",
          "data": {
            "text/plain": [
              "<Figure size 432x288 with 2 Axes>"
            ],
            "image/png": "[encoded data removed]"
          },
          "metadata": {
            "needs_background": "light"
          }
        }
      ]
    },
    {
      "cell_type": "code",
      "source": [
        "#test\n",
        "metrics.plot_confusion_matrix(clf,X_test_sm,y_test)"
      ],
      "metadata": {
        "colab": {
          "base_uri": "https://localhost:8080/",
          "height": 296
        },
        "id": "JrNi7pRL1rG-",
        "outputId": "a5a86c32-7316-432e-bc2e-64b5c5189bc6"
      },
      "execution_count": 83,
      "outputs": [
        {
          "output_type": "execute_result",
          "data": {
            "text/plain": [
              "<sklearn.metrics._plot.confusion_matrix.ConfusionMatrixDisplay at 0x7f03105d4b10>"
            ]
          },
          "metadata": {},
          "execution_count": 83
        },
        {
          "output_type": "display_data",
          "data": {
            "text/plain": [
              "<Figure size 432x288 with 2 Axes>"
            ],
            "image/png": "[encoded data removed]"
          },
          "metadata": {
            "needs_background": "light"
          }
        }
      ]
    },
    {
      "cell_type": "code",
      "source": [
        "confusion_test = metrics.confusion_matrix(y_test, y_test_pred[:,1] >0.4)\n",
        "print(\"Test Recall is = \",confusion_test[1,1]/(confusion_test[1,0]+confusion_test[1,1]))\n",
        "print(\"Test precision is = \",confusion_test[1,1]/(confusion_test[0,1]+confusion_test[1,1]))\n",
        "print(\"Test F1 Score is = \",metrics.f1_score(y_test, y_test_pred[:,1] >0.4))"
      ],
      "metadata": {
        "colab": {
          "base_uri": "https://localhost:8080/"
        },
        "id": "0TqyyxfT3NWp",
        "outputId": "4365337e-dd58-4421-e0ff-9d8e68a739f5"
      },
      "execution_count": 84,
      "outputs": [
        {
          "output_type": "stream",
          "name": "stdout",
          "text": [
            "Test Recall is =  0.8188824662813102\n",
            "Test precision is =  0.8087535680304472\n",
            "Test F1 Score is =  0.813786500718047\n"
          ]
        }
      ]
    },
    {
      "cell_type": "markdown",
      "source": [
        "### Test Recall is =  0.8188\n",
        "### Test precision is =  0.8087\n",
        "### Test F1 Score is =  0.8137"
      ],
      "metadata": {
        "id": "54y8t9WZ5Vfb"
      }
    },
    {
      "cell_type": "code",
      "source": [
        "confusion_train = metrics.confusion_matrix(y_train, y_train_pred[:,1] >0.4)\n",
        "print(\"Train Recall is = \",round(confusion_train[1,1]/(confusion_train[1,0]+confusion_train[1,1]),2))\n",
        "print(\"Train precision is = \",round(confusion_train[1,1]/(confusion_train[0,1]+confusion_train[1,1]),2))\n",
        "print(\"Train F1 Score is = \",round(metrics.f1_score(y_train, y_train_pred[:,1] >0.4),2))"
      ],
      "metadata": {
        "colab": {
          "base_uri": "https://localhost:8080/"
        },
        "id": "H7ZVzc9R4Rs3",
        "outputId": "896126da-7cf0-4aa2-cd2a-4bd75a4b5c4b"
      },
      "execution_count": 85,
      "outputs": [
        {
          "output_type": "stream",
          "name": "stdout",
          "text": [
            "Train Recall is =  0.83\n",
            "Train precision is =  0.81\n",
            "Train F1 Score is =  0.82\n"
          ]
        }
      ]
    },
    {
      "cell_type": "markdown",
      "source": [
        "### Train Recall is =  0.8270\n",
        "### Train precision is =  0.8090\n",
        "### Train F1 Score is =  0.8179"
      ],
      "metadata": {
        "id": "dzTYabMC55qw"
      }
    },
    {
      "cell_type": "code",
      "source": [],
      "metadata": {
        "id": "lHZdstwWDMDN"
      },
      "execution_count": 85,
      "outputs": []
    },
    {
      "cell_type": "markdown",
      "source": [
        "# Generating Score Variable"
      ],
      "metadata": {
        "id": "jhUFAYM766gt"
      }
    },
    {
      "cell_type": "code",
      "source": [
        "df5.columns\n"
      ],
      "metadata": {
        "colab": {
          "base_uri": "https://localhost:8080/"
        },
        "id": "b-VArTD48FGo",
        "outputId": "75f527ad-9aa7-440d-aaeb-8e712f8f0032"
      },
      "execution_count": 86,
      "outputs": [
        {
          "output_type": "execute_result",
          "data": {
            "text/plain": [
              "Index(['Prospect ID', 'Lead Number', 'Converted', 'TotalVisits',\n",
              "       'Total Time Spent on Website', 'Page Views Per Visit',\n",
              "       'Landing Page Submission', 'Lead Import and Others', 'Google',\n",
              "       'Olark Chat', 'Organic Search', 'Other_Origins', 'Yes',\n",
              "       'Olark Chat Conversation', 'Other_activity', 'Page Visited on Website',\n",
              "       'SMS_Sent', 'Business Administration', 'Management Study', 'Unemployed',\n",
              "       'Working Professional', 'Other Cities', 'Thane & Outskirts',\n",
              "       'Closed by Horizzon and Others', 'Interested in other courses',\n",
              "       'Ringing', 'Will revert after reading the email', 'Sure', 'Modified',\n",
              "       'Page Visited and Others', 'SMS Sent'],\n",
              "      dtype='object')"
            ]
          },
          "metadata": {},
          "execution_count": 86
        }
      ]
    },
    {
      "cell_type": "code",
      "source": [
        "num_vars = [\"TotalVisits\",\"Total Time Spent on Website\",\"Page Views Per Visit\"]\n",
        "df6 = df5.copy()\n",
        "df6[num_vars] = scaler.transform(df6[num_vars])\n",
        "df7 = df6[X_train_sm.columns]\n",
        "df7.head(2)"
      ],
      "metadata": {
        "colab": {
          "base_uri": "https://localhost:8080/",
          "height": 263
        },
        "id": "6hIE1BDH537Y",
        "outputId": "7629ec26-38f1-4096-acd1-8989dfd6d70e"
      },
      "execution_count": 87,
      "outputs": [
        {
          "output_type": "execute_result",
          "data": {
            "text/plain": [
              "   TotalVisits  Total Time Spent on Website  Lead Import and Others  \\\n",
              "0     0.000000                     0.000000                       0   \n",
              "1     0.067568                     0.299157                       0   \n",
              "\n",
              "   Olark Chat  Yes  Olark Chat Conversation  Other_activity  \\\n",
              "0           1    0                        0               0   \n",
              "1           0    0                        0               0   \n",
              "\n",
              "   Page Visited on Website  Working Professional  \\\n",
              "0                        1                     0   \n",
              "1                        0                     0   \n",
              "\n",
              "   Closed by Horizzon and Others  Will revert after reading the email  \\\n",
              "0                              0                                    0   \n",
              "1                              0                                    0   \n",
              "\n",
              "   Page Visited and Others  SMS Sent  \n",
              "0                        0         0  \n",
              "1                        0         0  "
            ],
            "text/html": [
              "\n",
              "  <div id=\"df-0dd53ff6-38b1-4609-bfe4-fcb9e57e7fd4\">\n",
              "    <div class=\"colab-df-container\">\n",
              "      <div>\n",
              "<style scoped>\n",
              "    .dataframe tbody tr th:only-of-type {\n",
              "        vertical-align: middle;\n",
              "    }\n",
              "\n",
              "    .dataframe tbody tr th {\n",
              "        vertical-align: top;\n",
              "    }\n",
              "\n",
              "    .dataframe thead th {\n",
              "        text-align: right;\n",
              "    }\n",
              "</style>\n",
              "<table border=\"1\" class=\"dataframe\">\n",
              "  <thead>\n",
              "    <tr style=\"text-align: right;\">\n",
              "      <th></th>\n",
              "      <th>TotalVisits</th>\n",
              "      <th>Total Time Spent on Website</th>\n",
              "      <th>Lead Import and Others</th>\n",
              "      <th>Olark Chat</th>\n",
              "      <th>Yes</th>\n",
              "      <th>Olark Chat Conversation</th>\n",
              "      <th>Other_activity</th>\n",
              "      <th>Page Visited on Website</th>\n",
              "      <th>Working Professional</th>\n",
              "      <th>Closed by Horizzon and Others</th>\n",
              "      <th>Will revert after reading the email</th>\n",
              "      <th>Page Visited and Others</th>\n",
              "      <th>SMS Sent</th>\n",
              "    </tr>\n",
              "  </thead>\n",
              "  <tbody>\n",
              "    <tr>\n",
              "      <th>0</th>\n",
              "      <td>0.000000</td>\n",
              "      <td>0.000000</td>\n",
              "      <td>0</td>\n",
              "      <td>1</td>\n",
              "      <td>0</td>\n",
              "      <td>0</td>\n",
              "      <td>0</td>\n",
              "      <td>1</td>\n",
              "      <td>0</td>\n",
              "      <td>0</td>\n",
              "      <td>0</td>\n",
              "      <td>0</td>\n",
              "      <td>0</td>\n",
              "    </tr>\n",
              "    <tr>\n",
              "      <th>1</th>\n",
              "      <td>0.067568</td>\n",
              "      <td>0.299157</td>\n",
              "      <td>0</td>\n",
              "      <td>0</td>\n",
              "      <td>0</td>\n",
              "      <td>0</td>\n",
              "      <td>0</td>\n",
              "      <td>0</td>\n",
              "      <td>0</td>\n",
              "      <td>0</td>\n",
              "      <td>0</td>\n",
              "      <td>0</td>\n",
              "      <td>0</td>\n",
              "    </tr>\n",
              "  </tbody>\n",
              "</table>\n",
              "</div>\n",
              "      <button class=\"colab-df-convert\" onclick=\"convertToInteractive('df-0dd53ff6-38b1-4609-bfe4-fcb9e57e7fd4')\"\n",
              "              title=\"Convert this dataframe to an interactive table.\"\n",
              "              style=\"display:none;\">\n",
              "        \n",
              "  <svg xmlns=\"http://www.w3.org/2000/svg\" height=\"24px\"viewBox=\"0 0 24 24\"\n",
              "       width=\"24px\">\n",
              "    <path d=\"M0 0h24v24H0V0z\" fill=\"none\"/>\n",
              "    <path d=\"M18.56 5.44l.94 2.06.94-2.06 2.06-.94-2.06-.94-.94-2.06-.94 2.06-2.06.94zm-11 1L8.5 8.5l.94-2.06 2.06-.94-2.06-.94L8.5 2.5l-.94 2.06-2.06.94zm10 10l.94 2.06.94-2.06 2.06-.94-2.06-.94-.94-2.06-.94 2.06-2.06.94z\"/><path d=\"M17.41 7.96l-1.37-1.37c-.4-.4-.92-.59-1.43-.59-.52 0-1.04.2-1.43.59L10.3 9.45l-7.72 7.72c-.78.78-.78 2.05 0 2.83L4 21.41c.39.39.9.59 1.41.59.51 0 1.02-.2 1.41-.59l7.78-7.78 2.81-2.81c.8-.78.8-2.07 0-2.86zM5.41 20L4 18.59l7.72-7.72 1.47 1.35L5.41 20z\"/>\n",
              "  </svg>\n",
              "      </button>\n",
              "      \n",
              "  <style>\n",
              "    .colab-df-container {\n",
              "      display:flex;\n",
              "      flex-wrap:wrap;\n",
              "      gap: 12px;\n",
              "    }\n",
              "\n",
              "    .colab-df-convert {\n",
              "      background-color: #E8F0FE;\n",
              "      border: none;\n",
              "      border-radius: 50%;\n",
              "      cursor: pointer;\n",
              "      display: none;\n",
              "      fill: #1967D2;\n",
              "      height: 32px;\n",
              "      padding: 0 0 0 0;\n",
              "      width: 32px;\n",
              "    }\n",
              "\n",
              "    .colab-df-convert:hover {\n",
              "      background-color: #E2EBFA;\n",
              "      box-shadow: 0px 1px 2px rgba(60, 64, 67, 0.3), 0px 1px 3px 1px rgba(60, 64, 67, 0.15);\n",
              "      fill: #174EA6;\n",
              "    }\n",
              "\n",
              "    [theme=dark] .colab-df-convert {\n",
              "      background-color: #3B4455;\n",
              "      fill: #D2E3FC;\n",
              "    }\n",
              "\n",
              "    [theme=dark] .colab-df-convert:hover {\n",
              "      background-color: #434B5C;\n",
              "      box-shadow: 0px 1px 3px 1px rgba(0, 0, 0, 0.15);\n",
              "      filter: drop-shadow(0px 1px 2px rgba(0, 0, 0, 0.3));\n",
              "      fill: #FFFFFF;\n",
              "    }\n",
              "  </style>\n",
              "\n",
              "      <script>\n",
              "        const buttonEl =\n",
              "          document.querySelector('#df-0dd53ff6-38b1-4609-bfe4-fcb9e57e7fd4 button.colab-df-convert');\n",
              "        buttonEl.style.display =\n",
              "          google.colab.kernel.accessAllowed ? 'block' : 'none';\n",
              "\n",
              "        async function convertToInteractive(key) {\n",
              "          const element = document.querySelector('#df-0dd53ff6-38b1-4609-bfe4-fcb9e57e7fd4');\n",
              "          const dataTable =\n",
              "            await google.colab.kernel.invokeFunction('convertToInteractive',\n",
              "                                                     [key], {});\n",
              "          if (!dataTable) return;\n",
              "\n",
              "          const docLinkHtml = 'Like what you see? Visit the ' +\n",
              "            '<a target=\"_blank\" href=https://colab.research.google.com/notebooks/data_table.ipynb>data table notebook</a>'\n",
              "            + ' to learn more about interactive tables.';\n",
              "          element.innerHTML = '';\n",
              "          dataTable['output_type'] = 'display_data';\n",
              "          await google.colab.output.renderOutput(dataTable, element);\n",
              "          const docLink = document.createElement('div');\n",
              "          docLink.innerHTML = docLinkHtml;\n",
              "          element.appendChild(docLink);\n",
              "        }\n",
              "      </script>\n",
              "    </div>\n",
              "  </div>\n",
              "  "
            ]
          },
          "metadata": {},
          "execution_count": 87
        }
      ]
    },
    {
      "cell_type": "markdown",
      "source": [
        "## Final Scored Data"
      ],
      "metadata": {
        "id": "WUgHWg72_vCU"
      }
    },
    {
      "cell_type": "code",
      "source": [
        "pred_score = clf.predict_proba(df7)[:,1]*100\n",
        "df5[\"Lead Score\"] = [round(x,2) for x in pred_score]\n",
        "score_df = df5[[\"Prospect ID\",\t\"Lead Number\", \"Lead Score\", \"Converted\"]]\n",
        "score_df.head(5)"
      ],
      "metadata": {
        "colab": {
          "base_uri": "https://localhost:8080/",
          "height": 206
        },
        "id": "NMNIm9lM7KEM",
        "outputId": "d3af9bb1-55f2-4ad6-8b0e-018a5979210a"
      },
      "execution_count": 88,
      "outputs": [
        {
          "output_type": "execute_result",
          "data": {
            "text/plain": [
              "                            Prospect ID  Lead Number  Lead Score  Converted\n",
              "0  7927b2df-8bba-4d29-b9a2-b6e0beafe620       660737        0.37          0\n",
              "1  2a272436-5132-4136-86fa-dcc88c88f482       660728        1.67          0\n",
              "2  8cc8c611-a219-4f35-ad23-fdfd2656bd8a       660727       82.17          1\n",
              "3  0cc2df48-7cf4-4e39-9de9-19797f9b38cc       660719        0.36          0\n",
              "4  3256f628-e534-4826-9d63-4a8b88782852       660681       64.73          1"
            ],
            "text/html": [
              "\n",
              "  <div id=\"df-ed64c17f-2dad-4db3-bd08-b128839c1ce3\">\n",
              "    <div class=\"colab-df-container\">\n",
              "      <div>\n",
              "<style scoped>\n",
              "    .dataframe tbody tr th:only-of-type {\n",
              "        vertical-align: middle;\n",
              "    }\n",
              "\n",
              "    .dataframe tbody tr th {\n",
              "        vertical-align: top;\n",
              "    }\n",
              "\n",
              "    .dataframe thead th {\n",
              "        text-align: right;\n",
              "    }\n",
              "</style>\n",
              "<table border=\"1\" class=\"dataframe\">\n",
              "  <thead>\n",
              "    <tr style=\"text-align: right;\">\n",
              "      <th></th>\n",
              "      <th>Prospect ID</th>\n",
              "      <th>Lead Number</th>\n",
              "      <th>Lead Score</th>\n",
              "      <th>Converted</th>\n",
              "    </tr>\n",
              "  </thead>\n",
              "  <tbody>\n",
              "    <tr>\n",
              "      <th>0</th>\n",
              "      <td>7927b2df-8bba-4d29-b9a2-b6e0beafe620</td>\n",
              "      <td>660737</td>\n",
              "      <td>0.37</td>\n",
              "      <td>0</td>\n",
              "    </tr>\n",
              "    <tr>\n",
              "      <th>1</th>\n",
              "      <td>2a272436-5132-4136-86fa-dcc88c88f482</td>\n",
              "      <td>660728</td>\n",
              "      <td>1.67</td>\n",
              "      <td>0</td>\n",
              "    </tr>\n",
              "    <tr>\n",
              "      <th>2</th>\n",
              "      <td>8cc8c611-a219-4f35-ad23-fdfd2656bd8a</td>\n",
              "      <td>660727</td>\n",
              "      <td>82.17</td>\n",
              "      <td>1</td>\n",
              "    </tr>\n",
              "    <tr>\n",
              "      <th>3</th>\n",
              "      <td>0cc2df48-7cf4-4e39-9de9-19797f9b38cc</td>\n",
              "      <td>660719</td>\n",
              "      <td>0.36</td>\n",
              "      <td>0</td>\n",
              "    </tr>\n",
              "    <tr>\n",
              "      <th>4</th>\n",
              "      <td>3256f628-e534-4826-9d63-4a8b88782852</td>\n",
              "      <td>660681</td>\n",
              "      <td>64.73</td>\n",
              "      <td>1</td>\n",
              "    </tr>\n",
              "  </tbody>\n",
              "</table>\n",
              "</div>\n",
              "      <button class=\"colab-df-convert\" onclick=\"convertToInteractive('df-ed64c17f-2dad-4db3-bd08-b128839c1ce3')\"\n",
              "              title=\"Convert this dataframe to an interactive table.\"\n",
              "              style=\"display:none;\">\n",
              "        \n",
              "  <svg xmlns=\"http://www.w3.org/2000/svg\" height=\"24px\"viewBox=\"0 0 24 24\"\n",
              "       width=\"24px\">\n",
              "    <path d=\"M0 0h24v24H0V0z\" fill=\"none\"/>\n",
              "    <path d=\"M18.56 5.44l.94 2.06.94-2.06 2.06-.94-2.06-.94-.94-2.06-.94 2.06-2.06.94zm-11 1L8.5 8.5l.94-2.06 2.06-.94-2.06-.94L8.5 2.5l-.94 2.06-2.06.94zm10 10l.94 2.06.94-2.06 2.06-.94-2.06-.94-.94-2.06-.94 2.06-2.06.94z\"/><path d=\"M17.41 7.96l-1.37-1.37c-.4-.4-.92-.59-1.43-.59-.52 0-1.04.2-1.43.59L10.3 9.45l-7.72 7.72c-.78.78-.78 2.05 0 2.83L4 21.41c.39.39.9.59 1.41.59.51 0 1.02-.2 1.41-.59l7.78-7.78 2.81-2.81c.8-.78.8-2.07 0-2.86zM5.41 20L4 18.59l7.72-7.72 1.47 1.35L5.41 20z\"/>\n",
              "  </svg>\n",
              "      </button>\n",
              "      \n",
              "  <style>\n",
              "    .colab-df-container {\n",
              "      display:flex;\n",
              "      flex-wrap:wrap;\n",
              "      gap: 12px;\n",
              "    }\n",
              "\n",
              "    .colab-df-convert {\n",
              "      background-color: #E8F0FE;\n",
              "      border: none;\n",
              "      border-radius: 50%;\n",
              "      cursor: pointer;\n",
              "      display: none;\n",
              "      fill: #1967D2;\n",
              "      height: 32px;\n",
              "      padding: 0 0 0 0;\n",
              "      width: 32px;\n",
              "    }\n",
              "\n",
              "    .colab-df-convert:hover {\n",
              "      background-color: #E2EBFA;\n",
              "      box-shadow: 0px 1px 2px rgba(60, 64, 67, 0.3), 0px 1px 3px 1px rgba(60, 64, 67, 0.15);\n",
              "      fill: #174EA6;\n",
              "    }\n",
              "\n",
              "    [theme=dark] .colab-df-convert {\n",
              "      background-color: #3B4455;\n",
              "      fill: #D2E3FC;\n",
              "    }\n",
              "\n",
              "    [theme=dark] .colab-df-convert:hover {\n",
              "      background-color: #434B5C;\n",
              "      box-shadow: 0px 1px 3px 1px rgba(0, 0, 0, 0.15);\n",
              "      filter: drop-shadow(0px 1px 2px rgba(0, 0, 0, 0.3));\n",
              "      fill: #FFFFFF;\n",
              "    }\n",
              "  </style>\n",
              "\n",
              "      <script>\n",
              "        const buttonEl =\n",
              "          document.querySelector('#df-ed64c17f-2dad-4db3-bd08-b128839c1ce3 button.colab-df-convert');\n",
              "        buttonEl.style.display =\n",
              "          google.colab.kernel.accessAllowed ? 'block' : 'none';\n",
              "\n",
              "        async function convertToInteractive(key) {\n",
              "          const element = document.querySelector('#df-ed64c17f-2dad-4db3-bd08-b128839c1ce3');\n",
              "          const dataTable =\n",
              "            await google.colab.kernel.invokeFunction('convertToInteractive',\n",
              "                                                     [key], {});\n",
              "          if (!dataTable) return;\n",
              "\n",
              "          const docLinkHtml = 'Like what you see? Visit the ' +\n",
              "            '<a target=\"_blank\" href=https://colab.research.google.com/notebooks/data_table.ipynb>data table notebook</a>'\n",
              "            + ' to learn more about interactive tables.';\n",
              "          element.innerHTML = '';\n",
              "          dataTable['output_type'] = 'display_data';\n",
              "          await google.colab.output.renderOutput(dataTable, element);\n",
              "          const docLink = document.createElement('div');\n",
              "          docLink.innerHTML = docLinkHtml;\n",
              "          element.appendChild(docLink);\n",
              "        }\n",
              "      </script>\n",
              "    </div>\n",
              "  </div>\n",
              "  "
            ]
          },
          "metadata": {},
          "execution_count": 88
        }
      ]
    },
    {
      "cell_type": "code",
      "source": [],
      "metadata": {
        "id": "0VW4NL6n86mi"
      },
      "execution_count": 88,
      "outputs": []
    }
  ]
}